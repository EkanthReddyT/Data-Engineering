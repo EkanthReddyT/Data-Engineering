{
 "cells": [
  {
   "cell_type": "code",
   "execution_count": null,
   "id": "b3f86db1",
   "metadata": {},
   "outputs": [
    {
     "name": "stdout",
     "output_type": "stream",
     "text": [
      "Question 1: Create a set of first 10 natural numbers\n",
      "{1, 2, 3, 4, 5, 6, 7, 8, 9, 10}\n",
      "<class 'set'>\n"
     ]
    }
   ],
   "source": [
    "print(\"Question 1: Create a set of first 10 natural numbers\")\n",
    "# Your code here\n",
    "s=set()\n",
    "for i in range(1,11):\n",
    "  s.add(i)\n",
    "print(s)  "
   ]
  },
  {
   "cell_type": "code",
   "execution_count": 4,
   "id": "dccd58d1",
   "metadata": {},
   "outputs": [
    {
     "name": "stdout",
     "output_type": "stream",
     "text": [
      "\n",
      "Question 2: Add element 11 to set {1, 2, 3, 4, 5}\n",
      "{1, 2, 3, 4, 5, 11}\n"
     ]
    }
   ],
   "source": [
    "print(\"\\nQuestion 2: Add element 11 to set {1, 2, 3, 4, 5}\")\n",
    "# Your code here\n",
    "my_set = {1, 2, 3, 4, 5}   \n",
    "my_set.add(11)             \n",
    "\n",
    "print(my_set)              \n"
   ]
  },
  {
   "cell_type": "code",
   "execution_count": 5,
   "id": "d572d110",
   "metadata": {},
   "outputs": [
    {
     "name": "stdout",
     "output_type": "stream",
     "text": [
      "\n",
      "Question 3: Remove element 3 from set {1, 2, 3, 4, 5, 6}\n",
      "{1, 2, 4, 5}\n"
     ]
    }
   ],
   "source": [
    "print(\"\\nQuestion 3: Remove element 3 from set {1, 2, 3, 4, 5, 6}\")\n",
    "# Your code here\n",
    "my_set = {1, 2, 3, 4, 5}   \n",
    "my_set.remove(3)             \n",
    "\n",
    "print(my_set)   "
   ]
  },
  {
   "cell_type": "code",
   "execution_count": 7,
   "id": "9473780f",
   "metadata": {},
   "outputs": [
    {
     "name": "stdout",
     "output_type": "stream",
     "text": [
      "\n",
      "Question 4: Find the intersection of {1, 2, 3, 4, 5} and {4, 5, 6, 7, 8}\n"
     ]
    },
    {
     "data": {
      "text/plain": [
       "{4, 5}"
      ]
     },
     "execution_count": 7,
     "metadata": {},
     "output_type": "execute_result"
    }
   ],
   "source": [
    "print(\"\\nQuestion 4: Find the intersection of {1, 2, 3, 4, 5} and {4, 5, 6, 7, 8}\")\n",
    "# Your code here\n",
    "a={1, 2, 3, 4, 5}\n",
    "b={4, 5, 6, 7, 8}\n",
    "a.intersection(b)"
   ]
  },
  {
   "cell_type": "code",
   "execution_count": 9,
   "id": "6fe554be",
   "metadata": {},
   "outputs": [
    {
     "name": "stdout",
     "output_type": "stream",
     "text": [
      "\n",
      "Question 5: Find the difference between {1, 2, 3, 4, 5} and {4, 5, 6, 7, 8}\n"
     ]
    },
    {
     "data": {
      "text/plain": [
       "{1, 2, 3}"
      ]
     },
     "execution_count": 9,
     "metadata": {},
     "output_type": "execute_result"
    }
   ],
   "source": [
    "print(\"\\nQuestion 5: Find the difference between {1, 2, 3, 4, 5} and {4, 5, 6, 7, 8}\")\n",
    "# Your code here\n",
    "a={1, 2, 3, 4, 5}\n",
    "b={4, 5, 6, 7, 8}\n",
    "a.difference(b)"
   ]
  },
  {
   "cell_type": "code",
   "execution_count": 12,
   "id": "8e0fc9f3",
   "metadata": {},
   "outputs": [
    {
     "name": "stdout",
     "output_type": "stream",
     "text": [
      "\n",
      "Question 6: Check if 5 is in set {1, 2, 3, 4, 6, 7, 8}\n"
     ]
    },
    {
     "data": {
      "text/plain": [
       "False"
      ]
     },
     "execution_count": 12,
     "metadata": {},
     "output_type": "execute_result"
    }
   ],
   "source": [
    "print(\"\\nQuestion 6: Check if 5 is in set {1, 2, 3, 4, 6, 7, 8}\")\n",
    "# Your code here\n",
    "a={1, 2, 3, 4, 6, 7, 8}\n",
    "5 in a"
   ]
  },
  {
   "cell_type": "code",
   "execution_count": 13,
   "id": "565b2dd6",
   "metadata": {},
   "outputs": [
    {
     "name": "stdout",
     "output_type": "stream",
     "text": [
      "\n",
      "Question 7: Find the length of set {'a', 'b', 'c', 'd', 'e'}\n",
      "5\n"
     ]
    }
   ],
   "source": [
    "print(\"\\nQuestion 7: Find the length of set {'a', 'b', 'c', 'd', 'e'}\")\n",
    "# Your code here\n",
    "a={'a', 'b', 'c', 'd', 'e'}\n",
    "x=len(a)\n",
    "print(x)"
   ]
  },
  {
   "cell_type": "code",
   "execution_count": 15,
   "id": "9ec52154",
   "metadata": {},
   "outputs": [
    {
     "name": "stdout",
     "output_type": "stream",
     "text": [
      "\n",
      "Question 8: Create a set of vowels from string 'hello world'\n",
      "{'e', 'o'}\n"
     ]
    }
   ],
   "source": [
    "print(\"\\nQuestion 8: Create a set of vowels from string 'hello world'\")\n",
    "# Your code here\n",
    "a='hello world'\n",
    "s=set()\n",
    "for i in a:\n",
    "  if i in 'aeiouAEIOU':\n",
    "    s.add(i)\n",
    "print(s)    \n"
   ]
  },
  {
   "cell_type": "code",
   "execution_count": 18,
   "id": "efb63410",
   "metadata": {},
   "outputs": [
    {
     "name": "stdout",
     "output_type": "stream",
     "text": [
      "\n",
      "Question 9: Remove duplicates from list [1, 2, 2, 3, 4, 4, 5, 6, 6, 7] using set\n",
      "{1, 2, 3, 4, 5, 6, 7}\n"
     ]
    }
   ],
   "source": [
    "print(\"\\nQuestion 9: Remove duplicates from list [1, 2, 2, 3, 4, 4, 5, 6, 6, 7] using set\")\n",
    "# Your code here\n",
    "a=[1, 2, 2, 3, 4, 4, 5, 6, 6, 7]\n",
    "s=set(a)\n",
    "print(s)"
   ]
  },
  {
   "cell_type": "code",
   "execution_count": 19,
   "id": "48eed3c8",
   "metadata": {},
   "outputs": [
    {
     "name": "stdout",
     "output_type": "stream",
     "text": [
      "\n",
      "Question 10: Check if {1, 2, 3} is a subset of {1, 2, 3, 4, 5, 6}\n",
      "True\n"
     ]
    }
   ],
   "source": [
    "print(\"\\nQuestion 10: Check if {1, 2, 3} is a subset of {1, 2, 3, 4, 5, 6}\")\n",
    "# Your code here \n",
    "a={1, 2, 3}\n",
    "b={1, 2, 3, 4, 5, 6}\n",
    "print(a.issubset(b))"
   ]
  }
 ],
 "metadata": {
  "kernelspec": {
   "display_name": "Python 3",
   "language": "python",
   "name": "python3"
  },
  "language_info": {
   "codemirror_mode": {
    "name": "ipython",
    "version": 3
   },
   "file_extension": ".py",
   "mimetype": "text/x-python",
   "name": "python",
   "nbconvert_exporter": "python",
   "pygments_lexer": "ipython3",
   "version": "3.12.0"
  }
 },
 "nbformat": 4,
 "nbformat_minor": 5
}
