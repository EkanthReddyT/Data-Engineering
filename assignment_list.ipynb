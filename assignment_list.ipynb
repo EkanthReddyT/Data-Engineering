{
 "cells": [
  {
   "cell_type": "code",
   "execution_count": 5,
   "id": "0cbfb042",
   "metadata": {},
   "outputs": [
    {
     "name": "stdout",
     "output_type": "stream",
     "text": [
      "Question 1: Create a list of first 10 square numbers\n",
      "[1, 4, 9, 16, 25, 36, 49, 64, 81, 100]\n"
     ]
    }
   ],
   "source": [
    "print(\"Question 1: Create a list of first 10 square numbers\")\n",
    "# Your code here\n",
    "n=10\n",
    "c=[]\n",
    "for i in range(1,11):\n",
    "  s=i**2\n",
    "  c.append(s)\n",
    "print(c)"
   ]
  },
  {
   "cell_type": "code",
   "execution_count": 9,
   "id": "cd311898",
   "metadata": {},
   "outputs": [
    {
     "name": "stdout",
     "output_type": "stream",
     "text": [
      "\n",
      "Question 2: Find the sum of all even numbers in [1, 2, 3, 4, 5, 6, 7, 8, 9, 10]\n",
      "30\n"
     ]
    }
   ],
   "source": [
    "print(\"\\nQuestion 2: Find the sum of all even numbers in [1, 2, 3, 4, 5, 6, 7, 8, 9, 10]\")\n",
    "# Your code here\n",
    "f=[1, 2, 3, 4, 5, 6, 7, 8, 9, 10]\n",
    "s=0\n",
    "for i in f:\n",
    "  if i%2==0:\n",
    "    s+=i\n",
    "print(s)  \n"
   ]
  },
  {
   "cell_type": "code",
   "execution_count": null,
   "id": "4c09afb1",
   "metadata": {},
   "outputs": [
    {
     "name": "stdout",
     "output_type": "stream",
     "text": [
      "\n",
      "Question 3: Remove duplicates from [1, 2, 2, 3, 4, 4, 5, 6, 6, 7]\n",
      "[1, 2, 3, 4, 5, 6, 7]\n"
     ]
    }
   ],
   "source": [
    "print(\"\\nQuestion 3: Remove duplicates from [1, 2, 2, 3, 4, 4, 5, 6, 6, 7]\")\n",
    "# Your code here\n",
    "n=[1, 2, 2, 3, 4, 4, 5, 6, 6, 7]\n",
    "c=[]\n",
    "for i in n:\n",
    "  if i not in c:\n",
    "    c.append(i)\n",
    "print(c)\n",
    "\n",
    "#or\n",
    "n=[1, 2, 2, 3, 4, 4, 5, 6, 6, 7]\n",
    "x=list(set(n))\n",
    "print(x)"
   ]
  },
  {
   "cell_type": "code",
   "execution_count": 22,
   "id": "67c9f87b",
   "metadata": {},
   "outputs": [
    {
     "name": "stdout",
     "output_type": "stream",
     "text": [
      "\n",
      "Question 4: Sort the list [64, 34, 25, 12, 22, 11, 90] in descending order\n",
      "[90, 64, 34, 25, 22, 12, 11]\n"
     ]
    }
   ],
   "source": [
    "print(\"\\nQuestion 4: Sort the list [64, 34, 25, 12, 22, 11, 90] in descending order\")\n",
    "# Your code here\n",
    "a=[64, 34, 25, 12, 22, 11, 90]\n",
    "a.sort(reverse=True)\n",
    "print(a)\n"
   ]
  },
  {
   "cell_type": "code",
   "execution_count": 23,
   "id": "8d06969f",
   "metadata": {},
   "outputs": [
    {
     "name": "stdout",
     "output_type": "stream",
     "text": [
      "\n",
      "Question 5: Find the average of numbers in [15, 23, 31, 42, 56, 78, 91]\n",
      "48.0\n"
     ]
    }
   ],
   "source": [
    "print(\"\\nQuestion 5: Find the average of numbers in [15, 23, 31, 42, 56, 78, 91]\")\n",
    "# Your code here\n",
    "a=[15, 23, 31, 42, 56, 78, 91]\n",
    "avg=sum(a)/len(a)\n",
    "print(avg)"
   ]
  },
  {
   "cell_type": "code",
   "execution_count": 24,
   "id": "35af9d87",
   "metadata": {},
   "outputs": [
    {
     "name": "stdout",
     "output_type": "stream",
     "text": [
      "\n",
      "Question 6: Create a list of first 15 Fibonacci numbers\n",
      "0 1 1 2 3 5 8 13 21 34 55 89 144 233 377 "
     ]
    }
   ],
   "source": [
    "print(\"\\nQuestion 6: Create a list of first 15 Fibonacci numbers\")\n",
    "# Your code here\n",
    "a,b=0,1\n",
    "for i in range(15):\n",
    "  print(a,end=' ')\n",
    "  a,b=b,a+b"
   ]
  },
  {
   "cell_type": "code",
   "execution_count": 35,
   "id": "3314eed4",
   "metadata": {},
   "outputs": [
    {
     "name": "stdout",
     "output_type": "stream",
     "text": [
      "\n",
      "Question 7: Find the second largest number in [45, 67, 23, 89, 12, 34, 78]\n",
      "78\n"
     ]
    }
   ],
   "source": [
    "print(\"\\nQuestion 7: Find the second largest number in [45, 67, 23, 89, 12, 34, 78]\")\n",
    "# Your code here\n",
    "a=[45, 67, 23, 89, 12, 34, 78]\n",
    "d=sorted(a,reverse=True)\n",
    "f=d[1]\n",
    "print(f)"
   ]
  },
  {
   "cell_type": "code",
   "execution_count": 42,
   "id": "320fc477",
   "metadata": {},
   "outputs": [
    {
     "name": "stdout",
     "output_type": "stream",
     "text": [
      "\n",
      "Question 8: Reverse the list [1, 2, 3, 4, 5, 6, 7, 8, 9, 10]\n",
      "[10, 9, 8, 7, 6, 5, 4, 3, 2, 1]\n",
      "[10, 9, 8, 7, 6, 5, 4, 3, 2, 1]\n"
     ]
    }
   ],
   "source": [
    "print(\"\\nQuestion 8: Reverse the list [1, 2, 3, 4, 5, 6, 7, 8, 9, 10]\")\n",
    "# Your code here\n",
    "a=[1, 2, 3, 4, 5, 6, 7, 8, 9, 10]\n",
    "a.reverse()\n",
    "print(a)\n",
    "\n",
    "#or\n",
    "a=[1, 2, 3, 4, 5, 6, 7, 8, 9, 10]\n",
    "s=a[::-1]\n",
    "print(s)"
   ]
  },
  {
   "cell_type": "code",
   "execution_count": 43,
   "id": "4a03c54a",
   "metadata": {},
   "outputs": [
    {
     "name": "stdout",
     "output_type": "stream",
     "text": [
      "\n",
      "Question 9: Count how many times 5 appears in [1, 5, 2, 5, 3, 5, 4, 5, 6]\n",
      "4\n"
     ]
    }
   ],
   "source": [
    "print(\"\\nQuestion 9: Count how many times 5 appears in [1, 5, 2, 5, 3, 5, 4, 5, 6]\")\n",
    "# Your code here\n",
    "a=[1, 5, 2, 5, 3, 5, 4, 5, 6]\n",
    "s=a.count(5)\n",
    "print(s)"
   ]
  },
  {
   "cell_type": "code",
   "execution_count": 47,
   "id": "414ced96",
   "metadata": {},
   "outputs": [
    {
     "name": "stdout",
     "output_type": "stream",
     "text": [
      "\n",
      "Question 10: Create a list of prime numbers between 1 and 50\n",
      "[2, 3, 5, 7, 11, 13, 17, 19, 23, 29, 31, 37, 41, 43, 47]\n"
     ]
    }
   ],
   "source": [
    "print(\"\\nQuestion 10: Create a list of prime numbers between 1 and 50\")\n",
    "# Your code here\n",
    "primes = []\n",
    "for num in range(2, 51):\n",
    "    for i in range(2, int(num**0.5) + 1):\n",
    "        if num % i == 0:\n",
    "            break\n",
    "    else:\n",
    "        primes.append(num)\n",
    "\n",
    "print(primes)\n",
    "\n"
   ]
  },
  {
   "cell_type": "code",
   "execution_count": 2,
   "id": "baef46cd",
   "metadata": {},
   "outputs": [
    {
     "name": "stdout",
     "output_type": "stream",
     "text": [
      "\n",
      "Question 11: Flatten nested list [[1, 2, 3], [4, 5, 6], [7, 8, 9]]\n",
      "[1, 2, 3, 4, 5, 6]\n"
     ]
    }
   ],
   "source": [
    "print(\"\\nQuestion 11: Flatten nested list [[1, 2, 3], [4, 5, 6], [7, 8, 9]]\")\n",
    "# Your code here\n",
    "# nested = [[1, 2], [3, 4], [5, 6]]\n",
    "# flat = [item for sublist in nested for item in sublist]\n",
    "# print(flat)\n",
    "\n",
    "n=[[1, 2], [3, 4], [5, 6]]\n",
    "a=[]\n",
    "for i in n:\n",
    "  for j in i:\n",
    "    a.append(j)\n",
    "print(a)    \n"
   ]
  },
  {
   "cell_type": "code",
   "execution_count": 5,
   "id": "9838824a",
   "metadata": {},
   "outputs": [
    {
     "name": "stdout",
     "output_type": "stream",
     "text": [
      "\n",
      "Question 12: Find common elements between [1, 2, 3, 4, 5] and [4, 5, 6, 7, 8]\n",
      "[4, 5]\n"
     ]
    }
   ],
   "source": [
    "print(\"\\nQuestion 12: Find common elements between [1, 2, 3, 4, 5] and [4, 5, 6, 7, 8]\")\n",
    "# Your code here\n",
    "a=[1, 2, 3, 4, 5]\n",
    "b=[4, 5, 6, 7, 8]\n",
    "z=[]\n",
    "for i in a:\n",
    "  if i in b:\n",
    "    z.append(i)\n",
    "print(z)"
   ]
  },
  {
   "cell_type": "code",
   "execution_count": 6,
   "id": "caa1695b",
   "metadata": {},
   "outputs": [
    {
     "name": "stdout",
     "output_type": "stream",
     "text": [
      "\n",
      "Question 13: Create a list of lists: [[1, 2], [3, 4], [5, 6]]\n",
      "[[1, 2], [3, 4], [5, 6]]\n"
     ]
    }
   ],
   "source": [
    "print(\"\\nQuestion 13: Create a list of lists: [[1, 2], [3, 4], [5, 6]]\")\n",
    "# Your code here\n",
    "list_of_lists = [[1, 2], [3, 4], [5, 6]]\n",
    "print(list_of_lists)\n"
   ]
  },
  {
   "cell_type": "code",
   "execution_count": 9,
   "id": "1e343456",
   "metadata": {},
   "outputs": [
    {
     "name": "stdout",
     "output_type": "stream",
     "text": [
      "\n",
      "Question 14: Find the sum of each sublist in [[1, 2, 3], [4, 5, 6], [7, 8, 9]]\n",
      "[6, 15, 24]\n"
     ]
    }
   ],
   "source": [
    "print(\"\\nQuestion 14: Find the sum of each sublist in [[1, 2, 3], [4, 5, 6], [7, 8, 9]]\")\n",
    "# Your code here\n",
    "a=[[1, 2, 3], [4, 5, 6], [7, 8, 9]]\n",
    "x=[]\n",
    "for i in a:\n",
    "  s=sum(i)\n",
    "  x.append(s)\n",
    "print(x)  \n",
    "  "
   ]
  },
  {
   "cell_type": "code",
   "execution_count": 10,
   "id": "921f9150",
   "metadata": {},
   "outputs": [
    {
     "name": "stdout",
     "output_type": "stream",
     "text": [
      "\n",
      "Question 15: Transpose the matrix [[1, 2, 3], [4, 5, 6], [7, 8, 9]]\n",
      "[[1, 4, 7], [2, 5, 8], [3, 6, 9]]\n"
     ]
    }
   ],
   "source": [
    "print(\"\\nQuestion 15: Transpose the matrix [[1, 2, 3], [4, 5, 6], [7, 8, 9]]\")\n",
    "# Your code here\n",
    "matrix = [[1, 2, 3],[4, 5, 6],[7, 8, 9]]\n",
    "transpose = []\n",
    "rows = len(matrix)\n",
    "cols = len(matrix[0])\n",
    "for j in range(cols):\n",
    "    new_row = []\n",
    "    for i in range(rows):\n",
    "        new_row.append(matrix[i][j])\n",
    "    transpose.append(new_row)\n",
    "\n",
    "print(transpose)\n"
   ]
  },
  {
   "cell_type": "code",
   "execution_count": null,
   "id": "1ae6f14f",
   "metadata": {},
   "outputs": [
    {
     "name": "stdout",
     "output_type": "stream",
     "text": [
      "\n",
      "Question 16: Find the maximum value in each sublist of [[1, 5, 3], [9, 2, 7], [4, 8, 6]]\n",
      "[5, 9, 8]\n"
     ]
    }
   ],
   "source": [
    "print(\"\\nQuestion 16: Find the maximum value in each sublist of [[1, 5, 3], [9, 2, 7], [4, 8, 6]]\")\n",
    "# Your code here\n",
    "a=[[1, 5, 3], [9, 2, 7], [4, 8, 6]]\n",
    "c=[]\n",
    "for i in a:\n",
    "  m=max(i)\n",
    "  c.append(m)\n",
    "print(c)    "
   ]
  },
  {
   "cell_type": "code",
   "execution_count": 13,
   "id": "3e2e243b",
   "metadata": {},
   "outputs": [
    {
     "name": "stdout",
     "output_type": "stream",
     "text": [
      "\n",
      "Question 17: Create a 3D list: [[[1, 2], [3, 4]], [[5, 6], [7, 8]]]\n",
      "[[[1, 2], [3, 4]], [[5, 6], [7, 8]]]\n"
     ]
    }
   ],
   "source": [
    "print(\"\\nQuestion 17: Create a 3D list: [[[1, 2], [3, 4]], [[5, 6], [7, 8]]]\")\n",
    "# Your code here\n",
    "list1 = [1, 2]\n",
    "list2 = [3, 4]\n",
    "list3 = [5, 6]\n",
    "list4 = [7, 8]\n",
    "\n",
    "list_2d_1 = [list1, list2]\n",
    "list_2d_2 = [list3, list4]\n",
    "\n",
    "list_3d = [list_2d_1, list_2d_2]\n",
    "\n",
    "print(list_3d)\n"
   ]
  },
  {
   "cell_type": "code",
   "execution_count": 14,
   "id": "2e977ba3",
   "metadata": {},
   "outputs": [
    {
     "name": "stdout",
     "output_type": "stream",
     "text": [
      "\n",
      "Question 18: Find the sum of all elements in 3D list [[[1, 2], [3, 4]], [[5, 6], [7, 8]]]\n",
      "36\n"
     ]
    }
   ],
   "source": [
    "print(\"\\nQuestion 18: Find the sum of all elements in 3D list [[[1, 2], [3, 4]], [[5, 6], [7, 8]]]\")\n",
    "# Your code here\n",
    "n = [[[1, 2], [3, 4]], [[5, 6], [7, 8]]]\n",
    "\n",
    "total_sum = 0\n",
    "for a in n:\n",
    "    for b in a:\n",
    "        for c in b:\n",
    "            total_sum += c\n",
    "\n",
    "print(total_sum)\n"
   ]
  },
  {
   "cell_type": "code",
   "execution_count": null,
   "id": "0f7859d1",
   "metadata": {},
   "outputs": [
    {
     "name": "stdout",
     "output_type": "stream",
     "text": [
      "\n",
      "Question 19: Extract all even numbers from nested list [[1, 2, 3], [4, 5, 6], [7, 8, 9]]\n",
      "[2, 4, 6, 8]\n"
     ]
    }
   ],
   "source": [
    "print(\"\\nQuestion 19: Extract all even numbers from nested list [[1, 2, 3], [4, 5, 6], [7, 8, 9]]\")\n",
    "# Your code here\n",
    "\n",
    "list = [[1, 2, 3], [4, 5, 6], [7, 8, 9]]\n",
    "result = []\n",
    "for i in range(len(list)):\n",
    "    a =list[i]\n",
    "    for j in range(len(a)):\n",
    "        b = a[j]\n",
    "        if b % 2 == 0:\n",
    "            result.append(b)\n",
    "\n",
    "print(result)\n"
   ]
  },
  {
   "cell_type": "code",
   "execution_count": 15,
   "id": "60f2c997",
   "metadata": {},
   "outputs": [
    {
     "name": "stdout",
     "output_type": "stream",
     "text": [
      "\n",
      "Question 20: Create a list of mixed data types: [1, 'hello', 3.14, True, [1, 2, 3]]\n",
      "[1, 'hello', 3.14, True, [1, 2, 3]]\n"
     ]
    }
   ],
   "source": [
    "print(\"\\nQuestion 20: Create a list of mixed data types: [1, 'hello', 3.14, True, [1, 2, 3]]\")\n",
    "# Your code here\n",
    "a=[1, 'hello', 3.14, True, [1, 2, 3]]\n",
    "print(a)"
   ]
  },
  {
   "cell_type": "code",
   "execution_count": 21,
   "id": "4a510c19",
   "metadata": {},
   "outputs": [
    {
     "name": "stdout",
     "output_type": "stream",
     "text": [
      "\n",
      "Question 21: Find the length of each string in ['apple', 'banana', 'cherry', 'date']\n",
      "[5, 6, 6, 4]\n"
     ]
    }
   ],
   "source": [
    "print(\"\\nQuestion 21: Find the length of each string in ['apple', 'banana', 'cherry', 'date']\")\n",
    "# Your code here\n",
    "a=['apple', 'banana', 'cherry', 'date']\n",
    "s=[]\n",
    "for i in a:\n",
    "  s.append(len(i))\n",
    "print(s)  \n"
   ]
  },
  {
   "cell_type": "code",
   "execution_count": 22,
   "id": "64549b33",
   "metadata": {},
   "outputs": [
    {
     "name": "stdout",
     "output_type": "stream",
     "text": [
      "\n",
      "Question 22: Create a list of tuples: [(1, 'a'), (2, 'b'), (3, 'c')]\n",
      "[(1, 'a'), (2, 'b'), (3, 'c')]\n"
     ]
    }
   ],
   "source": [
    "print(\"\\nQuestion 22: Create a list of tuples: [(1, 'a'), (2, 'b'), (3, 'c')]\")\n",
    "# Your code here\n",
    "list_of_tuples = [(1, 'a'), (2, 'b'), (3, 'c')]\n",
    "print(list_of_tuples)"
   ]
  },
  {
   "cell_type": "code",
   "execution_count": 23,
   "id": "8cd7a57c",
   "metadata": {},
   "outputs": [
    {
     "name": "stdout",
     "output_type": "stream",
     "text": [
      "\n",
      "Question 23: Extract first element from each tuple in [(1, 'a'), (2, 'b'), (3, 'c')]\n",
      "[1, 2, 3]\n"
     ]
    }
   ],
   "source": [
    "print(\"\\nQuestion 23: Extract first element from each tuple in [(1, 'a'), (2, 'b'), (3, 'c')]\")\n",
    "# Your code here\n",
    "tuples_list = [(1, 'a'), (2, 'b'), (3, 'c')]\n",
    "first_elements = []\n",
    "\n",
    "for tup in tuples_list:\n",
    "    first_elements.append(tup[0])\n",
    "\n",
    "print(first_elements)"
   ]
  },
  {
   "cell_type": "code",
   "execution_count": 24,
   "id": "fdf579ad",
   "metadata": {},
   "outputs": [
    {
     "name": "stdout",
     "output_type": "stream",
     "text": [
      "\n",
      "Question 24: Create a list of dictionaries: [{'name': 'Alice', 'age': 25}, {'name': 'Bob', 'age': 30}]\n",
      "[{'name': 'John', 'age': 28}, {'name': 'Emma', 'age': 35}]\n"
     ]
    }
   ],
   "source": [
    "print(\"\\nQuestion 24: Create a list of dictionaries: [{'name': 'Alice', 'age': 25}, {'name': 'Bob', 'age': 30}]\")\n",
    "# Your code here\n",
    "people = [\n",
    "    {'name': 'John', 'age': 28},\n",
    "    {'name': 'Emma', 'age': 35}\n",
    "]\n",
    "\n",
    "print(people)\n"
   ]
  },
  {
   "cell_type": "code",
   "execution_count": 26,
   "id": "584d9533",
   "metadata": {},
   "outputs": [
    {
     "name": "stdout",
     "output_type": "stream",
     "text": [
      "\n",
      "Question 25: Extract all 'name' values from list of dictionaries\n",
      "\n",
      "Question 25: Extract all 'name' values from list of dictionaries\n",
      "['John', 'Emma']\n"
     ]
    }
   ],
   "source": [
    "print(\"\\nQuestion 25: Extract all 'name' values from list of dictionaries\")\n",
    "# Your code here\n",
    "print(\"\\nQuestion 25: Extract all 'name' values from list of dictionaries\")\n",
    "\n",
    "people = [\n",
    "    {'name': 'John', 'age': 28},\n",
    "    {'name': 'Emma', 'age': 35}\n",
    "]\n",
    "\n",
    "names = []\n",
    "for person in people:\n",
    "    names.append(person['name'])\n",
    "\n",
    "print(names)\n"
   ]
  },
  {
   "cell_type": "code",
   "execution_count": null,
   "id": "ebe08b9f",
   "metadata": {},
   "outputs": [
    {
     "name": "stdout",
     "output_type": "stream",
     "text": [
      "\n",
      "Question 26: Find the person with maximum age in list of dictionaries\n",
      "{'name': 'David', 'age': 35}\n"
     ]
    }
   ],
   "source": [
    "print(\"\\nQuestion 26: Find the person with maximum age in list of dictionaries\")\n",
    "# Your code here\n",
    "people = [\n",
    "    {'name': 'Alice', 'age': 25},\n",
    "    {'name': 'Bob', 'age': 30},\n",
    "    {'name': 'Charlie', 'age': 22},\n",
    "    {'name': 'David', 'age': 35}\n",
    "]\n",
    "def get_age(person):\n",
    "    return person['age']\n",
    "oldest_person = max(people, key=get_age)\n",
    "print(oldest_person)\n"
   ]
  },
  {
   "cell_type": "code",
   "execution_count": 12,
   "id": "41e11aba",
   "metadata": {},
   "outputs": [
    {
     "name": "stdout",
     "output_type": "stream",
     "text": [
      "\n",
      "Question 27: Create a 4D list: [[[[1, 2], [3, 4]], [[5, 6], [7, 8]]], [[[9, 10], [11, 12]], [[13, 14], [15, 16]]]]\n",
      "[[[[1, 2], [3, 4]], [[5, 6], [7, 8]]], [[[9, 10], [11, 12]], [[13, 14], [15, 16]]]]\n"
     ]
    }
   ],
   "source": [
    "print(\"\\nQuestion 27: Create a 4D list: [[[[1, 2], [3, 4]], [[5, 6], [7, 8]]], [[[9, 10], [11, 12]], [[13, 14], [15, 16]]]]\")\n",
    "# Your code here\n",
    "list_4d = [\n",
    "    [\n",
    "        [[1, 2], [3, 4]],\n",
    "        [[5, 6], [7, 8]]\n",
    "    ],\n",
    "    [\n",
    "        [[9, 10], [11, 12]],\n",
    "        [[13, 14], [15, 16]]\n",
    "    ]\n",
    "]\n",
    "\n",
    "print(list_4d)\n"
   ]
  },
  {
   "cell_type": "code",
   "execution_count": 3,
   "id": "9cc8a085",
   "metadata": {},
   "outputs": [
    {
     "name": "stdout",
     "output_type": "stream",
     "text": [
      "\n",
      "Question 28: Find the maximum value in 4D list\n",
      "Maximum value: 16\n"
     ]
    }
   ],
   "source": [
    "print(\"\\nQuestion 28: Find the maximum value in 4D list\")\n",
    "# Your code here\n",
    "list_4d = [\n",
    "    [\n",
    "        [[1, 2], [3, 4]],\n",
    "        [[5, 6], [7, 8]]\n",
    "    ],\n",
    "    [\n",
    "        [[9, 10], [11, 12]],\n",
    "        [[13, 14], [15, 16]]\n",
    "    ]\n",
    "]\n",
    "\n",
    "max_value = max(\n",
    "    value\n",
    "    for block1 in list_4d\n",
    "    for block2 in block1\n",
    "    for block3 in block2\n",
    "    for value in block3\n",
    ")\n",
    "\n",
    "print(\"Maximum value:\", max_value)\n"
   ]
  },
  {
   "cell_type": "code",
   "execution_count": 4,
   "id": "f9d25690",
   "metadata": {},
   "outputs": [
    {
     "name": "stdout",
     "output_type": "stream",
     "text": [
      "\n",
      "Question 29: Create a list of sets: [{1, 2, 3}, {4, 5, 6}, {7, 8, 9}]\n",
      "[{1, 2, 3}, {4, 5, 6}, {8, 9, 7}]\n"
     ]
    }
   ],
   "source": [
    "print(\"\\nQuestion 29: Create a list of sets: [{1, 2, 3}, {4, 5, 6}, {7, 8, 9}]\")\n",
    "# Your code here\n",
    "list_of_sets = [{1, 2, 3}, {4, 5, 6}, {7, 8, 9}]\n",
    "print(list_of_sets)"
   ]
  },
  {
   "cell_type": "code",
   "execution_count": 5,
   "id": "bbf8256c",
   "metadata": {},
   "outputs": [
    {
     "name": "stdout",
     "output_type": "stream",
     "text": [
      "\n",
      "Question 30: Find the union of all sets in list of sets\n",
      "Union of all sets: {1, 2, 3, 4, 5, 6, 7, 8, 9}\n"
     ]
    }
   ],
   "source": [
    "print(\"\\nQuestion 30: Find the union of all sets in list of sets\")\n",
    "# Your code here\n",
    "list_of_sets = [{1, 2, 3}, {4, 5, 6}, {7, 8, 9}]\n",
    "union_set = set().union(*list_of_sets)\n",
    "print(\"Union of all sets:\", union_set)"
   ]
  },
  {
   "cell_type": "code",
   "execution_count": 15,
   "id": "b732cd6c",
   "metadata": {},
   "outputs": [
    {
     "name": "stdout",
     "output_type": "stream",
     "text": [
      "\n",
      "Question 31: Create a list of complex numbers: [1+2j, 3+4j, 5+6j]\n",
      "[(1+2j), (3+4j), (5+6j)]\n"
     ]
    }
   ],
   "source": [
    "print(\"\\nQuestion 31: Create a list of complex numbers: [1+2j, 3+4j, 5+6j]\")\n",
    "# Your code here\n",
    "complex_list = [1+2j, 3+4j, 5+6j]\n",
    "print(complex_list)\n"
   ]
  },
  {
   "cell_type": "code",
   "execution_count": 13,
   "id": "6273787d",
   "metadata": {},
   "outputs": [
    {
     "name": "stdout",
     "output_type": "stream",
     "text": [
      "\n",
      "Question 32: Find the magnitude of each complex number in list\n",
      "Magnitudes: [2.23606797749979, 5.0, 7.810249675906654]\n"
     ]
    }
   ],
   "source": [
    "print(\"\\nQuestion 32: Find the magnitude of each complex number in list\")\n",
    "# Your code here\n",
    "complex_list = [1+2j, 3+4j, 5+6j]\n",
    "magnitudes = [abs(c) for c in complex_list]\n",
    "print(\"Magnitudes:\", magnitudes)"
   ]
  },
  {
   "cell_type": "code",
   "execution_count": 8,
   "id": "e3ec2f0c",
   "metadata": {},
   "outputs": [
    {
     "name": "stdout",
     "output_type": "stream",
     "text": [
      "\n",
      "Question 33: Create a nested list with different levels: [1, [2, 3], [4, [5, 6]], 7]\n",
      "[1, [2, 3], [4, [5, 6]], 7]\n"
     ]
    }
   ],
   "source": [
    "print(\"\\nQuestion 33: Create a nested list with different levels: [1, [2, 3], [4, [5, 6]], 7]\")\n",
    "# Your code here\n",
    "nested_list = [1, [2, 3], [4, [5, 6]], 7]\n",
    "print(nested_list)\n"
   ]
  },
  {
   "cell_type": "code",
   "execution_count": 9,
   "id": "4c5220b5",
   "metadata": {},
   "outputs": [
    {
     "name": "stdout",
     "output_type": "stream",
     "text": [
      "\n",
      "Question 34: Count the depth of nesting in [1, [2, 3], [4, [5, 6]], 7]\n",
      "Depth of nesting: 3\n"
     ]
    }
   ],
   "source": [
    "print(\"\\nQuestion 34: Count the depth of nesting in [1, [2, 3], [4, [5, 6]], 7]\")\n",
    "# Your code here\n",
    "def list_depth(lst):\n",
    "    if not isinstance(lst, list):\n",
    "        return 0\n",
    "    if not lst:\n",
    "        return 1\n",
    "    return 1 + max(list_depth(item) for item in lst)\n",
    "\n",
    "nested_list = [1, [2, 3], [4, [5, 6]], 7]\n",
    "\n",
    "depth = list_depth(nested_list)\n",
    "\n",
    "print(\"Depth of nesting:\", depth)"
   ]
  },
  {
   "cell_type": "code",
   "execution_count": 10,
   "id": "70e77ad3",
   "metadata": {},
   "outputs": [
    {
     "name": "stdout",
     "output_type": "stream",
     "text": [
      "\n",
      "Question 35: Create a list of functions: [len, str, int, float]\n",
      "[<built-in function len>, <class 'str'>, <class 'int'>, <class 'float'>]\n"
     ]
    }
   ],
   "source": [
    "print(\"\\nQuestion 35: Create a list of functions: [len, str, int, float]\")\n",
    "# Your code here\n",
    "functions_list = [len, str, int, float]\n",
    "print(functions_list)"
   ]
  },
  {
   "cell_type": "code",
   "execution_count": 11,
   "id": "5e989809",
   "metadata": {},
   "outputs": [
    {
     "name": "stdout",
     "output_type": "stream",
     "text": [
      "\n",
      "Question 36: Apply each function in list to string '123'\n",
      "Results: [3, '123', 123, 123.0]\n"
     ]
    }
   ],
   "source": [
    "print(\"\\nQuestion 36: Apply each function in list to string '123'\")\n",
    "# Your code here\n",
    "functions_list = [len, str, int, float]\n",
    "input_str = \"123\"\n",
    "results = [func(input_str) for func in functions_list]\n",
    "print(\"Results:\", results)"
   ]
  },
  {
   "cell_type": "code",
   "execution_count": 6,
   "id": "58726118",
   "metadata": {},
   "outputs": [
    {
     "name": "stdout",
     "output_type": "stream",
     "text": [
      "\n",
      "Question 37: Create a list of lambda functions: [lambda x: x*2, lambda x: x**2, lambda x: x+1]\n",
      "Function 1 output for input 3: 6\n",
      "Function 2 output for input 3: 9\n",
      "Function 3 output for input 3: 4\n"
     ]
    }
   ],
   "source": [
    "print(\"\\nQuestion 37: Create a list of lambda functions: [lambda x: x*2, lambda x: x**2, lambda x: x+1]\")\n",
    "# Your code here\n",
    "lambda_funcs = [\n",
    "    lambda x: x * 2,\n",
    "    lambda x: x ** 2,\n",
    "    lambda x: x + 1\n",
    "]\n",
    "\n",
    "for i, func in enumerate(lambda_funcs, start=1):\n",
    "    print(f\"Function {i} output for input 3: {func(3)}\")\n"
   ]
  },
  {
   "cell_type": "code",
   "execution_count": 7,
   "id": "b6c3d9e7",
   "metadata": {},
   "outputs": [
    {
     "name": "stdout",
     "output_type": "stream",
     "text": [
      "\n",
      "Question 38: Apply each lambda function to 5\n",
      "Result of lambda function 1 applied to 5: 10\n",
      "Result of lambda function 2 applied to 5: 25\n",
      "Result of lambda function 3 applied to 5: 6\n"
     ]
    }
   ],
   "source": [
    "print(\"\\nQuestion 38: Apply each lambda function to 5\")\n",
    "# Your code here\n",
    "lambda_funcs = [\n",
    "    lambda x: x * 2, \n",
    "    lambda x: x ** 2,  \n",
    "    lambda x: x + 1 \n",
    "]\n",
    "\n",
    "for i, func in enumerate(lambda_funcs, start=1):\n",
    "    result = func(5)  # Apply lambda to 5\n",
    "    print(f\"Result of lambda function {i} applied to 5: {result}\")\n"
   ]
  },
  {
   "cell_type": "code",
   "execution_count": 10,
   "id": "06da3101",
   "metadata": {},
   "outputs": [
    {
     "name": "stdout",
     "output_type": "stream",
     "text": [
      "\n",
      "Question 39: Create a list of classes: [list, dict, set, tuple]\n",
      "Class: list, Example instance: []\n",
      "Class: dict, Example instance: {}\n",
      "Class: set, Example instance: set()\n",
      "Class: tuple, Example instance: ()\n"
     ]
    }
   ],
   "source": [
    "print(\"\\nQuestion 39: Create a list of classes: [list, dict, set, tuple]\")\n",
    "# Your code here\n",
    "\n",
    "classes = [list, dict, set, tuple]\n",
    "for cls in classes:\n",
    "    print(f\"Class: {cls.__name__}, Example instance: {cls()}\")\n"
   ]
  },
  {
   "cell_type": "code",
   "execution_count": null,
   "id": "19d539cd",
   "metadata": {},
   "outputs": [
    {
     "name": "stdout",
     "output_type": "stream",
     "text": [
      "\n",
      "Question 40: Create instances of each class in list\n",
      "Instance 1 is of type list and its value is []\n",
      "Instance 2 is of type dict and its value is {}\n",
      "Instance 3 is of type set and its value is set()\n",
      "Instance 4 is of type tuple and its value is ()\n"
     ]
    }
   ],
   "source": [
    "print(\"\\nQuestion 40: Create instances of each class in list\")\n",
    "# Your code here\n",
    "\n",
    "classes = [list, dict, set, tuple]\n",
    "\n",
    "instances = [cls() for cls in classes]\n",
    "for i, instance in enumerate(instances, start=1):\n",
    "    print(f\"Instance {i} is of type {type(instance).__name__} and its value is {instance}\")\n"
   ]
  },
  {
   "cell_type": "code",
   "execution_count": 12,
   "id": "89aa65b0",
   "metadata": {},
   "outputs": [
    {
     "name": "stdout",
     "output_type": "stream",
     "text": [
      "\n",
      "Question 41: Create a list of None values: [None, None, None, None]\n",
      "[None, None, None, None]\n"
     ]
    }
   ],
   "source": [
    "print(\"\\nQuestion 41: Create a list of None values: [None, None, None, None]\")\n",
    "# Your code here\n",
    "none_list = [None, None, None, None]\n",
    "print(none_list)\n"
   ]
  },
  {
   "cell_type": "code",
   "execution_count": 13,
   "id": "e5a48211",
   "metadata": {},
   "outputs": [
    {
     "name": "stdout",
     "output_type": "stream",
     "text": [
      "\n",
      "Question 42: Replace all None values with 0 in list\n",
      "[0, 5, 0, 8, 0, 2]\n"
     ]
    }
   ],
   "source": [
    "print(\"\\nQuestion 42: Replace all None values with 0 in list\")\n",
    "# Your code here\n",
    "data = [None, 5, None, 8, None, 2]\n",
    "\n",
    "for i in range(len(data)):\n",
    "    if data[i] is None:\n",
    "        data[i] = 0\n",
    "\n",
    "print(data)\n"
   ]
  },
  {
   "cell_type": "code",
   "execution_count": 14,
   "id": "be428ff4",
   "metadata": {},
   "outputs": [
    {
     "name": "stdout",
     "output_type": "stream",
     "text": [
      "\n",
      "Question 43: Create a list of boolean values: [True, False, True, False]\n",
      "[True, False, True, False]\n"
     ]
    }
   ],
   "source": [
    "print(\"\\nQuestion 43: Create a list of boolean values: [True, False, True, False]\")\n",
    "# Your code here\n",
    "\n",
    "bool_list = [True, False, True, False]\n",
    "print(bool_list)"
   ]
  },
  {
   "cell_type": "code",
   "execution_count": 15,
   "id": "085cddc5",
   "metadata": {},
   "outputs": [
    {
     "name": "stdout",
     "output_type": "stream",
     "text": [
      "\n",
      "Question 44: Count True values in boolean list\n",
      "Number of True values: 3\n"
     ]
    }
   ],
   "source": [
    "print(\"\\nQuestion 44: Count True values in boolean list\")\n",
    "# Your code here\n",
    "bool_list = [True, False, True, False, True]\n",
    "true_count = bool_list.count(True)\n",
    "print(\"Number of True values:\", true_count)\n"
   ]
  },
  {
   "cell_type": "code",
   "execution_count": 16,
   "id": "19028be6",
   "metadata": {},
   "outputs": [
    {
     "name": "stdout",
     "output_type": "stream",
     "text": [
      "\n",
      "Question 45: Create a list of ranges: [range(3), range(5), range(2)]\n",
      "Range 1: [0, 1, 2]\n",
      "Range 2: [0, 1, 2, 3, 4]\n",
      "Range 3: [0, 1]\n"
     ]
    }
   ],
   "source": [
    "print(\"\\nQuestion 45: Create a list of ranges: [range(3), range(5), range(2)]\")\n",
    "# Your code here\n",
    "range_list = [range(3), range(5), range(2)]\n",
    "for i, r in enumerate(range_list, start=1):\n",
    "    print(f\"Range {i}: {list(r)}\")\n"
   ]
  },
  {
   "cell_type": "code",
   "execution_count": 5,
   "id": "47f4aef2",
   "metadata": {},
   "outputs": [
    {
     "name": "stdout",
     "output_type": "stream",
     "text": [
      "\n",
      "Question 46: Convert each range to list\n",
      "List from range 1: [0, 1, 2]\n",
      "List from range 2: [0, 1, 2, 3, 4]\n",
      "List from range 3: [2, 3, 4, 5, 6]\n"
     ]
    }
   ],
   "source": [
    "print(\"\\nQuestion 46: Convert each range to list\")\n",
    "# Your code here\n",
    "ranges = [range(3), range(5), range(2, 7)]\n",
    "lists = []\n",
    "for r in ranges:\n",
    "    lists.append(list(r))\n",
    "\n",
    "for i, l in enumerate(lists, start=1):\n",
    "    print(f\"List from range {i}: {l}\")\n"
   ]
  },
  {
   "cell_type": "code",
   "execution_count": 4,
   "id": "0c0cb4a0",
   "metadata": {},
   "outputs": [
    {
     "name": "stdout",
     "output_type": "stream",
     "text": [
      "\n",
      "Question 47: Create a list of generators: [(x for x in range(3)), (x for x in range(5))]\n",
      "Values from generator 1: 0 1 2 \n",
      "Values from generator 2: 0 1 2 3 4 \n"
     ]
    }
   ],
   "source": [
    "print(\"\\nQuestion 47: Create a list of generators: [(x for x in range(3)), (x for x in range(5))]\")\n",
    "# Your code here\n",
    "generators_list = [(x for x in range(3)), (x for x in range(5))]\n",
    "for i, gen in enumerate(generators_list, start=1):\n",
    "    print(f\"Values from generator {i}: \", end=\"\")\n",
    "    for val in gen:\n",
    "        print(val, end=\" \")\n",
    "    print()\n"
   ]
  },
  {
   "cell_type": "code",
   "execution_count": 3,
   "id": "0e54c295",
   "metadata": {},
   "outputs": [
    {
     "name": "stdout",
     "output_type": "stream",
     "text": [
      "\n",
      "Question 48: Convert each generator to list\n",
      "List from generator 1: [0, 1, 2]\n",
      "List from generator 2: [9, 16, 25]\n"
     ]
    }
   ],
   "source": [
    "print(\"\\nQuestion 48: Convert each generator to list\")\n",
    "# Your code here\n",
    "\n",
    "gen1 = (x for x in range(3))     \n",
    "gen2 = (x*x for x in range(3, 6))   \n",
    "\n",
    "generators = [gen1, gen2]\n",
    "\n",
    "lists = []\n",
    "for g in generators:\n",
    "    lists.append(list(g))\n",
    "\n",
    "for i, l in enumerate(lists, start=1):\n",
    "    print(f\"List from generator {i}: {l}\")\n"
   ]
  },
  {
   "cell_type": "code",
   "execution_count": 2,
   "id": "415781af",
   "metadata": {},
   "outputs": [
    {
     "name": "stdout",
     "output_type": "stream",
     "text": [
      "\n",
      "Question 49: Create a list of iterators: [iter([1, 2, 3]), iter([4, 5, 6])]\n",
      "Elements in iterator 1:\n",
      "1\n",
      "2\n",
      "3\n",
      "Elements in iterator 2:\n",
      "4\n",
      "5\n",
      "6\n"
     ]
    }
   ],
   "source": [
    "print(\"\\nQuestion 49: Create a list of iterators: [iter([1, 2, 3]), iter([4, 5, 6])]\")\n",
    "# Your code here\n",
    "\n",
    "list1 = [1, 2, 3]\n",
    "list2 = [4, 5, 6]\n",
    "it1 = iter(list1)\n",
    "it2 = iter(list2)\n",
    "\n",
    "iterator_list = [it1, it2]\n",
    "\n",
    "for i, itr in enumerate(iterator_list, start=1):\n",
    "    print(f\"Elements in iterator {i}:\")\n",
    "    for val in itr:\n",
    "        print(val)\n"
   ]
  },
  {
   "cell_type": "code",
   "execution_count": 1,
   "id": "074bf472",
   "metadata": {},
   "outputs": [
    {
     "name": "stdout",
     "output_type": "stream",
     "text": [
      "\n",
      "Question 50: Extract all elements from each iterator\n",
      "[10, 20, 30, 40, 50, 60]\n"
     ]
    }
   ],
   "source": [
    "print(\"\\nQuestion 50: Extract all elements from each iterator\")\n",
    "# Your code here \n",
    "streams = [iter([10, 20]), iter([30, 40]), iter([50, 60])]\n",
    "all_items = []\n",
    "\n",
    "for stream in streams:\n",
    "    for element in stream:\n",
    "        all_items.append(element)\n",
    "\n",
    "print(all_items)\n"
   ]
  }
 ],
 "metadata": {
  "kernelspec": {
   "display_name": "Python 3",
   "language": "python",
   "name": "python3"
  },
  "language_info": {
   "codemirror_mode": {
    "name": "ipython",
    "version": 3
   },
   "file_extension": ".py",
   "mimetype": "text/x-python",
   "name": "python",
   "nbconvert_exporter": "python",
   "pygments_lexer": "ipython3",
   "version": "3.12.0"
  }
 },
 "nbformat": 4,
 "nbformat_minor": 5
}
