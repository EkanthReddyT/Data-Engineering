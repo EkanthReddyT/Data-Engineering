{
 "cells": [
  {
   "cell_type": "code",
   "execution_count": 1,
   "id": "a3d24b41",
   "metadata": {},
   "outputs": [
    {
     "name": "stdout",
     "output_type": "stream",
     "text": [
      "Question 1: Create complex number 5 + 3j\n",
      "(5+3j)\n",
      "<class 'complex'>\n"
     ]
    }
   ],
   "source": [
    "print(\"Question 1: Create complex number 5 + 3j\")\n",
    "# Your code here\n",
    "c=5 + 3j\n",
    "print(c)\n",
    "print(type(c))"
   ]
  },
  {
   "cell_type": "code",
   "execution_count": 2,
   "id": "98830a42",
   "metadata": {},
   "outputs": [
    {
     "name": "stdout",
     "output_type": "stream",
     "text": [
      "\n",
      "Question 2: Find the real part of complex number 7 - 2j\n",
      "7.0\n"
     ]
    }
   ],
   "source": [
    "print(\"\\nQuestion 2: Find the real part of complex number 7 - 2j\")\n",
    "# Your code here\n",
    "z = 7 - 2j\n",
    "real_part = z.real\n",
    "print(real_part) \n"
   ]
  },
  {
   "cell_type": "code",
   "execution_count": 3,
   "id": "33c79655",
   "metadata": {},
   "outputs": [
    {
     "name": "stdout",
     "output_type": "stream",
     "text": [
      "\n",
      "Question 3: Find the imaginary part of complex number 4 + 6j\n",
      "6.0\n"
     ]
    }
   ],
   "source": [
    "print(\"\\nQuestion 3: Find the imaginary part of complex number 4 + 6j\")\n",
    "# Your code here\n",
    "z = 4+6j\n",
    "real_part = z.imag\n",
    "print(real_part) "
   ]
  },
  {
   "cell_type": "code",
   "execution_count": 4,
   "id": "5bb6691e",
   "metadata": {},
   "outputs": [
    {
     "name": "stdout",
     "output_type": "stream",
     "text": [
      "\n",
      "Question 4: Add two complex numbers: (3 + 2j) and (1 + 4j)\n",
      "(4+6j)\n"
     ]
    }
   ],
   "source": [
    "print(\"\\nQuestion 4: Add two complex numbers: (3 + 2j) and (1 + 4j)\")\n",
    "# Your code here\n",
    "a=(3+2j)\n",
    "b=(1+4j)\n",
    "s=a+b\n",
    "print(s)"
   ]
  },
  {
   "cell_type": "code",
   "execution_count": 5,
   "id": "d6a70daa",
   "metadata": {},
   "outputs": [
    {
     "name": "stdout",
     "output_type": "stream",
     "text": [
      "\n",
      "Question 5: Multiply two complex numbers: (2 + 3j) and (1 + 2j)\n",
      "(-4+7j)\n"
     ]
    }
   ],
   "source": [
    "print(\"\\nQuestion 5: Multiply two complex numbers: (2 + 3j) and (1 + 2j)\")\n",
    "# Your code here\n",
    "a=(2+3j)\n",
    "b=(1+2j)\n",
    "s=a*b\n",
    "print(s)"
   ]
  },
  {
   "cell_type": "code",
   "execution_count": 6,
   "id": "1e6483cc",
   "metadata": {},
   "outputs": [
    {
     "name": "stdout",
     "output_type": "stream",
     "text": [
      "\n",
      "Question 6: Find the magnitude of complex number 6 + 8j\n",
      "10.0\n"
     ]
    }
   ],
   "source": [
    "print(\"\\nQuestion 6: Find the magnitude of complex number 6 + 8j\")\n",
    "# Your code here\n",
    "z = 6 + 8j\n",
    "magnitude = abs(z)\n",
    "print(magnitude)  "
   ]
  },
  {
   "cell_type": "code",
   "execution_count": 7,
   "id": "4f026c8b",
   "metadata": {},
   "outputs": [
    {
     "name": "stdout",
     "output_type": "stream",
     "text": [
      "\n",
      "Question 7: Find the conjugate of complex number 5 - 7j\n",
      "(5+7j)\n"
     ]
    }
   ],
   "source": [
    "print(\"\\nQuestion 7: Find the conjugate of complex number 5 - 7j\")\n",
    "# Your code here\n",
    "z = 5 - 7j\n",
    "conjugate = z.conjugate()\n",
    "print(conjugate)"
   ]
  },
  {
   "cell_type": "code",
   "execution_count": 8,
   "id": "9a43e5f3",
   "metadata": {},
   "outputs": [
    {
     "name": "stdout",
     "output_type": "stream",
     "text": [
      "\n",
      "Question 8: Subtract complex numbers: (10 + 5j) - (3 + 2j)\n",
      "(7+3j)\n"
     ]
    }
   ],
   "source": [
    "print(\"\\nQuestion 8: Subtract complex numbers: (10 + 5j) - (3 + 2j)\")\n",
    "# Your code here\n",
    "a=(10 + 5j) - (3 + 2j)\n",
    "print(a)"
   ]
  },
  {
   "cell_type": "code",
   "execution_count": 9,
   "id": "2dcb74a5",
   "metadata": {},
   "outputs": [
    {
     "name": "stdout",
     "output_type": "stream",
     "text": [
      "\n",
      "Question 9: Divide complex numbers: (8 + 6j) / (2 + 1j)\n",
      "(4.4+0.8j)\n"
     ]
    }
   ],
   "source": [
    "print(\"\\nQuestion 9: Divide complex numbers: (8 + 6j) / (2 + 1j)\")\n",
    "# Your code here\n",
    "a=(8 + 6j) / (2 + 1j)\n",
    "print(a)"
   ]
  },
  {
   "cell_type": "code",
   "execution_count": null,
   "id": "6dd1d5fa",
   "metadata": {},
   "outputs": [
    {
     "name": "stdout",
     "output_type": "stream",
     "text": [
      "\n",
      "Question 10: Find the phase angle of complex number 1 + 1j\n",
      "Phase in radians: 0.7853981633974483\n",
      "Phase in degrees: 45.0\n"
     ]
    }
   ],
   "source": [
    "print(\"\\nQuestion 10: Find the phase angle of complex number 1 + 1j\")\n",
    "# Your code here \n",
    "import math\n",
    "import cmath\n",
    "z = 1 + 1j\n",
    "phase_radians = cmath.phase(z)\n",
    "phase_degrees = math.degrees(phase_radians)\n",
    "\n",
    "print(\"Phase in radians:\", phase_radians)   \n",
    "print(\"Phase in degrees:\", phase_degrees)  "
   ]
  }
 ],
 "metadata": {
  "kernelspec": {
   "display_name": "Python 3",
   "language": "python",
   "name": "python3"
  },
  "language_info": {
   "codemirror_mode": {
    "name": "ipython",
    "version": 3
   },
   "file_extension": ".py",
   "mimetype": "text/x-python",
   "name": "python",
   "nbconvert_exporter": "python",
   "pygments_lexer": "ipython3",
   "version": "3.12.0"
  }
 },
 "nbformat": 4,
 "nbformat_minor": 5
}
