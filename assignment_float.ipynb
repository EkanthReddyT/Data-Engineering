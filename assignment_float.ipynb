{
 "cells": [
  {
   "cell_type": "code",
   "execution_count": 1,
   "id": "013136f2",
   "metadata": {},
   "outputs": [
    {
     "name": "stdout",
     "output_type": "stream",
     "text": [
      "Question 1: Calculate the average of 3.14, 2.718, 1.618, 0.577\n",
      "2.01325\n"
     ]
    }
   ],
   "source": [
    "print(\"Question 1: Calculate the average of 3.14, 2.718, 1.618, 0.577\")\n",
    "# Your code here\n",
    "z=[3.14, 2.718, 1.618, 0.577]\n",
    "avg=sum(z)/len(z)\n",
    "print(avg)"
   ]
  },
  {
   "cell_type": "code",
   "execution_count": 2,
   "id": "2fc32228",
   "metadata": {},
   "outputs": [
    {
     "name": "stdout",
     "output_type": "stream",
     "text": [
      "\n",
      "Question 2: Convert 98.6 Fahrenheit to Celsius\n",
      "37.0\n"
     ]
    }
   ],
   "source": [
    "print(\"\\nQuestion 2: Convert 98.6 Fahrenheit to Celsius\")\n",
    "# Your code here\n",
    "c=(98.6-32)*5/9\n",
    "print(c)"
   ]
  },
  {
   "cell_type": "code",
   "execution_count": 3,
   "id": "2a896937",
   "metadata": {},
   "outputs": [
    {
     "name": "stdout",
     "output_type": "stream",
     "text": [
      "\n",
      "Question 3: Calculate compound interest on $1000 at 5.5% for 3 years\n",
      "174.24137499999983\n"
     ]
    }
   ],
   "source": [
    "print(\"\\nQuestion 3: Calculate compound interest on $1000 at 5.5% for 3 years\")\n",
    "# Your code here\n",
    "P = 1000   \n",
    "R = 5.5     \n",
    "T = 3          \n",
    "A = P * (1 + R / 100) ** T\n",
    "CI = A - P\n",
    "print(CI)"
   ]
  },
  {
   "cell_type": "code",
   "execution_count": 4,
   "id": "47ffeadb",
   "metadata": {},
   "outputs": [
    {
     "name": "stdout",
     "output_type": "stream",
     "text": [
      "\n",
      "Question 4: Find the hypotenuse of a right triangle with sides 3.5 and 4.2\n",
      "5.4671747731346585\n"
     ]
    }
   ],
   "source": [
    "print(\"\\nQuestion 4: Find the hypotenuse of a right triangle with sides 3.5 and 4.2\")\n",
    "# Your code here\n",
    "a=3.5\n",
    "b=4.2\n",
    "h=(a**2+b**2)**0.5\n",
    "print(h)\n"
   ]
  },
  {
   "cell_type": "code",
   "execution_count": 10,
   "id": "c6324756",
   "metadata": {},
   "outputs": [
    {
     "name": "stdout",
     "output_type": "stream",
     "text": [
      "\n",
      "Question 5: Calculate the volume of a sphere with radius 7.8\n",
      "1987.7970902399995\n"
     ]
    }
   ],
   "source": [
    "print(\"\\nQuestion 5: Calculate the volume of a sphere with radius 7.8\")\n",
    "# Your code here\n",
    "r=7.8\n",
    "pi=3.14159\n",
    "v=(4/3)*pi*(r**3)\n",
    "print(v)"
   ]
  },
  {
   "cell_type": "code",
   "execution_count": 11,
   "id": "95254d6f",
   "metadata": {},
   "outputs": [
    {
     "name": "stdout",
     "output_type": "stream",
     "text": [
      "\n",
      "Question 6: Round 3.14159 to 3 decimal places\n"
     ]
    },
    {
     "data": {
      "text/plain": [
       "3.142"
      ]
     },
     "execution_count": 11,
     "metadata": {},
     "output_type": "execute_result"
    }
   ],
   "source": [
    "print(\"\\nQuestion 6: Round 3.14159 to 3 decimal places\")\n",
    "# Your code here\n",
    "x=3.14159\n",
    "round(x,3)"
   ]
  },
  {
   "cell_type": "code",
   "execution_count": 14,
   "id": "d7ce5268",
   "metadata": {},
   "outputs": [
    {
     "name": "stdout",
     "output_type": "stream",
     "text": [
      "\n",
      "Question 8: Find the square root of 23.456\n",
      "4.843139477652899\n"
     ]
    }
   ],
   "source": [
    "print(\"\\nQuestion 8: Find the square root of 23.456\")\n",
    "# Your code here\n",
    "x=(23.456)**(1/2)\n",
    "print(x)"
   ]
  },
  {
   "cell_type": "code",
   "execution_count": 16,
   "id": "05844bee",
   "metadata": {},
   "outputs": [
    {
     "name": "stdout",
     "output_type": "stream",
     "text": [
      "\n",
      "Question 9: Calculate simple interest: Principal=2500, Rate=6.5%, Time=2.5 years\n",
      "406.25\n"
     ]
    }
   ],
   "source": [
    "print(\"\\nQuestion 9: Calculate simple interest: Principal=2500, Rate=6.5%, Time=2.5 years\")\n",
    "# Your code \n",
    "p=2500\n",
    "t=2.5\n",
    "r=6.5\n",
    "si=(p*t*r)/100\n",
    "print(si)"
   ]
  },
  {
   "cell_type": "code",
   "execution_count": 18,
   "id": "589f3ca0",
   "metadata": {},
   "outputs": [
    {
     "name": "stdout",
     "output_type": "stream",
     "text": [
      "\n",
      "Question 10: Convert 45.7 degrees to radians\n",
      "0.7976147944444444\n"
     ]
    }
   ],
   "source": [
    "print(\"\\nQuestion 10: Convert 45.7 degrees to radians\")\n",
    "# Your code here \n",
    "c=45.7\n",
    "pi=3.14159\n",
    "r=c*(pi/180)\n",
    "print(r)"
   ]
  }
 ],
 "metadata": {
  "kernelspec": {
   "display_name": "Python 3",
   "language": "python",
   "name": "python3"
  },
  "language_info": {
   "codemirror_mode": {
    "name": "ipython",
    "version": 3
   },
   "file_extension": ".py",
   "mimetype": "text/x-python",
   "name": "python",
   "nbconvert_exporter": "python",
   "pygments_lexer": "ipython3",
   "version": "3.12.0"
  }
 },
 "nbformat": 4,
 "nbformat_minor": 5
}
