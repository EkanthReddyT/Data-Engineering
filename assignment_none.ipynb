{
 "cells": [
  {
   "cell_type": "code",
   "execution_count": 1,
   "id": "d76fd2c1",
   "metadata": {},
   "outputs": [
    {
     "name": "stdout",
     "output_type": "stream",
     "text": [
      "Question 1: Create a variable and assign None to it\n",
      "none\n"
     ]
    }
   ],
   "source": [
    "print(\"Question 1: Create a variable and assign None to it\")\n",
    "# Your code here\n",
    "a='none'\n",
    "print(a)\n"
   ]
  },
  {
   "cell_type": "code",
   "execution_count": null,
   "id": "a80a85f7",
   "metadata": {},
   "outputs": [
    {
     "name": "stdout",
     "output_type": "stream",
     "text": [
      "\n",
      "Question 2: Check if None equals None\n",
      "True\n",
      "True\n"
     ]
    }
   ],
   "source": [
    "\n",
    "# Question 2: Check if None equals None\n",
    "print(\"\\nQuestion 2: Check if None equals None\")\n",
    "# Your code here\n",
    "x=None\n",
    "\n",
    "print(x == None)\n",
    "print(x is None)\n"
   ]
  },
  {
   "cell_type": "code",
   "execution_count": null,
   "id": "5bf77d7b",
   "metadata": {},
   "outputs": [
    {
     "name": "stdout",
     "output_type": "stream",
     "text": [
      "\n",
      "Question 3: Check if None is None\n",
      "True\n"
     ]
    }
   ],
   "source": [
    "\n",
    "# Question 3: Check if None is None\n",
    "print(\"\\nQuestion 3: Check if None is None\")\n",
    "# Your code here\n",
    "\n",
    "result = None is None\n",
    "print(result)\n"
   ]
  },
  {
   "cell_type": "code",
   "execution_count": 15,
   "id": "ca922e94",
   "metadata": {},
   "outputs": [
    {
     "name": "stdout",
     "output_type": "stream",
     "text": [
      "\n",
      "Question 4: Check if 0 is None\n",
      "False\n"
     ]
    }
   ],
   "source": [
    "# Question 4: Check if 0 is None\n",
    "print(\"\\nQuestion 4: Check if 0 is None\")\n",
    "result = (0 == None)\n",
    "print(result)\n"
   ]
  },
  {
   "cell_type": "code",
   "execution_count": 16,
   "id": "fc9c9805",
   "metadata": {},
   "outputs": [
    {
     "name": "stdout",
     "output_type": "stream",
     "text": [
      "\n",
      "Question 5: Check if empty string is None\n",
      "False\n"
     ]
    }
   ],
   "source": [
    "# Question 5: Check if empty string is None\n",
    "print(\"\\nQuestion 5: Check if empty string is None\")\n",
    "# Your code here\n",
    "\n",
    "result = (\"\" == None)\n",
    "print(result)\n"
   ]
  },
  {
   "cell_type": "code",
   "execution_count": 17,
   "id": "6a8bc742",
   "metadata": {},
   "outputs": [
    {
     "name": "stdout",
     "output_type": "stream",
     "text": [
      "\n",
      "Question 6: Check if False is None\n",
      "False\n"
     ]
    }
   ],
   "source": [
    "# Question 6: Check if False is None\n",
    "print(\"\\nQuestion 6: Check if False is None\")\n",
    "# Your code here\n",
    "result = (False is None)\n",
    "print(result)"
   ]
  },
  {
   "cell_type": "code",
   "execution_count": 18,
   "id": "57b40d9a",
   "metadata": {},
   "outputs": [
    {
     "name": "stdout",
     "output_type": "stream",
     "text": [
      "\n",
      "Question 7: Check if empty list is None\n",
      "False\n"
     ]
    }
   ],
   "source": [
    "# Question 7: Check if empty list is None\n",
    "print(\"\\nQuestion 7: Check if empty list is None\")\n",
    "# Your code here\n",
    "result = ([] is None)\n",
    "print(result)"
   ]
  },
  {
   "cell_type": "code",
   "execution_count": 20,
   "id": "785e838f",
   "metadata": {},
   "outputs": [
    {
     "name": "stdout",
     "output_type": "stream",
     "text": [
      "\n",
      "Question 8: Check if empty dictionary is None\n",
      "False\n"
     ]
    }
   ],
   "source": [
    "# Question 8: Check if empty dictionary is None\n",
    "print(\"\\nQuestion 8: Check if empty dictionary is None\")\n",
    "# Your code here\n",
    "result = ({} is None)\n",
    "print(result)"
   ]
  },
  {
   "cell_type": "code",
   "execution_count": 22,
   "id": "ccfa45fb",
   "metadata": {},
   "outputs": [
    {
     "name": "stdout",
     "output_type": "stream",
     "text": [
      "\n",
      "Question 9: Check if empty tuple is None\n",
      "False\n"
     ]
    }
   ],
   "source": [
    "# Question 9: Check if empty tuple is None\n",
    "print(\"\\nQuestion 9: Check if empty tuple is None\")\n",
    "# Your code here\n",
    "result = (() == None)\n",
    "print(result)"
   ]
  },
  {
   "cell_type": "code",
   "execution_count": 23,
   "id": "70dda07b",
   "metadata": {},
   "outputs": [
    {
     "name": "stdout",
     "output_type": "stream",
     "text": [
      "\n",
      "Question 10: Check if empty set is None\n",
      "False\n"
     ]
    }
   ],
   "source": [
    "# Question 10: Check if empty set is None\n",
    "print(\"\\nQuestion 10: Check if empty set is None\")\n",
    "# Your code here \n",
    "result = (set() is None)\n",
    "print(result)"
   ]
  }
 ],
 "metadata": {
  "kernelspec": {
   "display_name": "Python 3",
   "language": "python",
   "name": "python3"
  },
  "language_info": {
   "codemirror_mode": {
    "name": "ipython",
    "version": 3
   },
   "file_extension": ".py",
   "mimetype": "text/x-python",
   "name": "python",
   "nbconvert_exporter": "python",
   "pygments_lexer": "ipython3",
   "version": "3.12.0"
  }
 },
 "nbformat": 4,
 "nbformat_minor": 5
}
