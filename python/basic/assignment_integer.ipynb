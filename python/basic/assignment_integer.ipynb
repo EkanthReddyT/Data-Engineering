{
 "cells": [
  {
   "cell_type": "code",
   "execution_count": 3,
   "id": "8d244278",
   "metadata": {},
   "outputs": [
    {
     "name": "stdout",
     "output_type": "stream",
     "text": [
      "Question 1: Calculate the product of first 10 natural numbers\n",
      "the product od first 10 no:3628800\n"
     ]
    }
   ],
   "source": [
    "print(\"Question 1: Calculate the product of first 10 natural numbers\")\n",
    "# Your code here\n",
    "p=1\n",
    "for i in range(1,11):\n",
    "  p*=i\n",
    "print(f\"the product od first 10 no:{p}\")"
   ]
  },
  {
   "cell_type": "code",
   "execution_count": 6,
   "id": "fd09eb1f",
   "metadata": {},
   "outputs": [
    {
     "name": "stdout",
     "output_type": "stream",
     "text": [
      "\n",
      "Question 2: Find the remainder when 156 is divided by 7\n",
      "the remainder when 156 is divided by 7:2\n"
     ]
    }
   ],
   "source": [
    "print(\"\\nQuestion 2: Find the remainder when 156 is divided by 7\")\n",
    "# Your code here\n",
    "n=156%7\n",
    "print(f\"the remainder when 156 is divided by 7:{n}\")"
   ]
  },
  {
   "cell_type": "code",
   "execution_count": 10,
   "id": "9772240d",
   "metadata": {},
   "outputs": [
    {
     "name": "stdout",
     "output_type": "stream",
     "text": [
      "\n",
      "Question 3: Calculate the square of 25\n",
      "Calculate the square of 25:625\n"
     ]
    }
   ],
   "source": [
    "print(\"\\nQuestion 3: Calculate the square of 25\")\n",
    "# Your code here\n",
    "n=25**2#25*25\n",
    "print(f\"Calculate the square of 25:{n}\")\n"
   ]
  },
  {
   "cell_type": "code",
   "execution_count": 11,
   "id": "217111eb",
   "metadata": {},
   "outputs": [
    {
     "name": "stdout",
     "output_type": "stream",
     "text": [
      "\n",
      "Question 4: Find the cube root of 125\n",
      "the cube root of 125:5.0\n"
     ]
    }
   ],
   "source": [
    "print(\"\\nQuestion 4: Find the cube root of 125\")\n",
    "# Your code here\n",
    "a=125**(1/3)\n",
    "print(f\"the cube root of 125:{a}\")"
   ]
  },
  {
   "cell_type": "code",
   "execution_count": 21,
   "id": "1429dbc4",
   "metadata": {},
   "outputs": [
    {
     "name": "stdout",
     "output_type": "stream",
     "text": [
      "\n",
      "Question 5: Calculate the sum of digits in number 12345\n",
      "the sum of digits in number 12345:15\n"
     ]
    }
   ],
   "source": [
    "print(\"\\nQuestion 5: Calculate the sum of digits in number 12345\")\n",
    "# Your code here\n",
    "n=12345\n",
    "s=0\n",
    "for i in str(n):\n",
    "  s+=int(i)\n",
    "print(f\"the sum of digits in number 12345:{s}\")  \n"
   ]
  },
  {
   "cell_type": "code",
   "execution_count": 24,
   "id": "b3b3544e",
   "metadata": {},
   "outputs": [
    {
     "name": "stdout",
     "output_type": "stream",
     "text": [
      "Prime number\n"
     ]
    }
   ],
   "source": [
    "num = 97\n",
    "\n",
    "if num <= 1:\n",
    "    print(\"Not a prime number\")\n",
    "else:\n",
    "    for i in range(2, int(num) + 1):\n",
    "        if num % i == 0:  \n",
    "            print(\"Not a prime number\")\n",
    "            break\n",
    "        else:\n",
    "            print(\"Prime number\")\n",
    "            break\n",
    "\n"
   ]
  },
  {
   "cell_type": "code",
   "execution_count": 2,
   "id": "075e6f93",
   "metadata": {},
   "outputs": [
    {
     "name": "stdout",
     "output_type": "stream",
     "text": [
      "\n",
      "Question 7: Find the factorial of 8\n",
      "the factorial of 8:40320\n"
     ]
    }
   ],
   "source": [
    "print(\"\\nQuestion 7: Find the factorial of 8\")\n",
    "# Your code here\n",
    "s=1\n",
    "for i in range(1,9):\n",
    "  s*=i\n",
    "print(f\"the factorial of 8:{s}\")"
   ]
  },
  {
   "cell_type": "code",
   "execution_count": 4,
   "id": "92c4092e",
   "metadata": {},
   "outputs": [
    {
     "name": "stdout",
     "output_type": "stream",
     "text": [
      "\n",
      "Question 8: Calculate the average of numbers: 15, 23, 31, 42, 56\n",
      "Calculate the average of numbers: 15, 23, 31:167\n"
     ]
    }
   ],
   "source": [
    "print(\"\\nQuestion 8: Calculate the average of numbers: 15, 23, 31, 42, 56\")\n",
    "# Your code here\n",
    "a=[15,23,31,42,56]\n",
    "s=0\n",
    "for i in a:\n",
    "  s+=i\n",
    "print(f\"Calculate the average of numbers: 15, 23, 31:{s}\")"
   ]
  },
  {
   "cell_type": "code",
   "execution_count": 8,
   "id": "6732b704",
   "metadata": {},
   "outputs": [
    {
     "name": "stdout",
     "output_type": "stream",
     "text": [
      "\n",
      "Question 9: Find the greatest common divisor (GCD) of 48 and 36\n"
     ]
    },
    {
     "data": {
      "text/plain": [
       "12"
      ]
     },
     "execution_count": 8,
     "metadata": {},
     "output_type": "execute_result"
    }
   ],
   "source": [
    "print(\"\\nQuestion 9: Find the greatest common divisor (GCD) of 48 and 36\")\n",
    "# Your code here\n",
    "import math\n",
    "math.gcd(48,36)"
   ]
  },
  {
   "cell_type": "code",
   "execution_count": null,
   "id": "9c3a58c9",
   "metadata": {},
   "outputs": [
    {
     "name": "stdout",
     "output_type": "stream",
     "text": [
      "12\n"
     ]
    }
   ],
   "source": [
    "a,b=48,36\n",
    "while b!=0:\n",
    "  rem=a%b\n",
    "  a=b\n",
    "  b=rem\n",
    "print(a)"
   ]
  },
  {
   "cell_type": "code",
   "execution_count": 31,
   "id": "06e97f46",
   "metadata": {},
   "outputs": [
    {
     "name": "stdout",
     "output_type": "stream",
     "text": [
      "\n",
      "Question 10: Calculate the sum of first 20 odd numbers\n",
      "400\n"
     ]
    }
   ],
   "source": [
    "print(\"\\nQuestion 10: Calculate the sum of first 20 odd numbers\")\n",
    "# Your code here \n",
    "s=0\n",
    "for i in range(1,40,2):\n",
    "  s+=i\n",
    "print(s)\n",
    "\n",
    "  "
   ]
  }
 ],
 "metadata": {
  "kernelspec": {
   "display_name": "Python 3",
   "language": "python",
   "name": "python3"
  },
  "language_info": {
   "codemirror_mode": {
    "name": "ipython",
    "version": 3
   },
   "file_extension": ".py",
   "mimetype": "text/x-python",
   "name": "python",
   "nbconvert_exporter": "python",
   "pygments_lexer": "ipython3",
   "version": "3.12.0"
  }
 },
 "nbformat": 4,
 "nbformat_minor": 5
}
