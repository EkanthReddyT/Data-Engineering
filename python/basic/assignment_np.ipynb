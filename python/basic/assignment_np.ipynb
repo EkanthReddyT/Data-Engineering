{
 "cells": [
  {
   "cell_type": "code",
   "execution_count": 5,
   "id": "8ff6b55b",
   "metadata": {},
   "outputs": [
    {
     "name": "stdout",
     "output_type": "stream",
     "text": [
      "2.3.2\n"
     ]
    }
   ],
   "source": [
    "import numpy as np\n",
    "print(np.__version__)\n"
   ]
  },
  {
   "cell_type": "code",
   "execution_count": null,
   "id": "eee13fcc",
   "metadata": {},
   "outputs": [
    {
     "data": {
      "text/plain": [
       "array([[0, 3, 7],\n",
       "       [1, 9, 8],\n",
       "       [8, 2, 9]], dtype=int32)"
      ]
     },
     "execution_count": 11,
     "metadata": {},
     "output_type": "execute_result"
    }
   ],
   "source": [
    "data=np.random.randint(0,10,(3,3))\n",
    "data"
   ]
  },
  {
   "cell_type": "code",
   "execution_count": 12,
   "id": "a7a7df77",
   "metadata": {},
   "outputs": [
    {
     "data": {
      "text/plain": [
       "array([[ 0.87938044, -0.03276469,  0.01852048],\n",
       "       [ 1.4607248 ,  0.01376347, -0.78626252],\n",
       "       [ 1.38458578, -1.02805747, -0.59781206]])"
      ]
     },
     "execution_count": 12,
     "metadata": {},
     "output_type": "execute_result"
    }
   ],
   "source": [
    "np.random.randn(3,3)"
   ]
  },
  {
   "cell_type": "code",
   "execution_count": null,
   "id": "2a045b12",
   "metadata": {},
   "outputs": [
    {
     "data": {
      "text/plain": [
       "np.float64(1.0930395642987956)"
      ]
     },
     "execution_count": 13,
     "metadata": {},
     "output_type": "execute_result"
    }
   ],
   "source": [
    "np.random.randn(3,3).std()#it is closed to 1"
   ]
  },
  {
   "cell_type": "code",
   "execution_count": null,
   "id": "de7770a2",
   "metadata": {},
   "outputs": [
    {
     "data": {
      "text/plain": [
       "np.float64(-0.22755594932105694)"
      ]
     },
     "execution_count": 14,
     "metadata": {},
     "output_type": "execute_result"
    }
   ],
   "source": [
    "np.random.randn(3,3).mean()#closed to 0"
   ]
  },
  {
   "cell_type": "code",
   "execution_count": null,
   "id": "4e791269",
   "metadata": {},
   "outputs": [],
   "source": [
    "#mean()#center of data\n",
    "#median()#takes the middle vave\n",
    "#mode()#most repeated value it it's a chatagore\n",
    "#std()=sigma=sqrt(samation(xi-mu)**2/n)#xi is index starting to end number-mu is avg\n",
    "\n"
   ]
  },
  {
   "cell_type": "code",
   "execution_count": 17,
   "id": "5abaecb0",
   "metadata": {},
   "outputs": [
    {
     "data": {
      "text/plain": [
       "np.float64(5.222222222222222)"
      ]
     },
     "execution_count": 17,
     "metadata": {},
     "output_type": "execute_result"
    }
   ],
   "source": [
    "np.mean(data)"
   ]
  },
  {
   "cell_type": "code",
   "execution_count": 19,
   "id": "e1418152",
   "metadata": {},
   "outputs": [
    {
     "data": {
      "text/plain": [
       "np.float64(3.456966485800899)"
      ]
     },
     "execution_count": 19,
     "metadata": {},
     "output_type": "execute_result"
    }
   ],
   "source": [
    "np.std(data)"
   ]
  },
  {
   "cell_type": "code",
   "execution_count": 20,
   "id": "cf63b934",
   "metadata": {},
   "outputs": [
    {
     "data": {
      "text/plain": [
       "np.float64(7.0)"
      ]
     },
     "execution_count": 20,
     "metadata": {},
     "output_type": "execute_result"
    }
   ],
   "source": [
    "np.median(data)"
   ]
  },
  {
   "cell_type": "code",
   "execution_count": 21,
   "id": "b3cab34f",
   "metadata": {},
   "outputs": [
    {
     "data": {
      "text/plain": [
       "np.float64(11.950617283950617)"
      ]
     },
     "execution_count": 21,
     "metadata": {},
     "output_type": "execute_result"
    }
   ],
   "source": [
    "np.var(data)"
   ]
  },
  {
   "cell_type": "code",
   "execution_count": 23,
   "id": "ff902cf0",
   "metadata": {},
   "outputs": [
    {
     "data": {
      "text/plain": [
       "array([73, 51, 90, 62, 63, 43, 17, 44, 62, 97], dtype=int32)"
      ]
     },
     "execution_count": 23,
     "metadata": {},
     "output_type": "execute_result"
    }
   ],
   "source": [
    "data=np.random.randint(0,100,10)\n",
    "data"
   ]
  },
  {
   "cell_type": "code",
   "execution_count": 27,
   "id": "53ccdba3",
   "metadata": {},
   "outputs": [
    {
     "data": {
      "text/plain": [
       "np.int32(17)"
      ]
     },
     "execution_count": 27,
     "metadata": {},
     "output_type": "execute_result"
    }
   ],
   "source": [
    "data.min()"
   ]
  },
  {
   "cell_type": "code",
   "execution_count": 29,
   "id": "5e178eaf",
   "metadata": {},
   "outputs": [
    {
     "data": {
      "text/plain": [
       "np.int32(80)"
      ]
     },
     "execution_count": 29,
     "metadata": {},
     "output_type": "execute_result"
    }
   ],
   "source": [
    "range=data.max()-data.min()\n",
    "range"
   ]
  },
  {
   "cell_type": "code",
   "execution_count": 31,
   "id": "f1c664eb",
   "metadata": {},
   "outputs": [
    {
     "data": {
      "text/plain": [
       "array([[4, 3, 3],\n",
       "       [4, 2, 4],\n",
       "       [0, 1, 2]], dtype=int32)"
      ]
     },
     "execution_count": 31,
     "metadata": {},
     "output_type": "execute_result"
    }
   ],
   "source": [
    "data=np.random.randint(0,5,(3,3))\n",
    "data"
   ]
  },
  {
   "cell_type": "code",
   "execution_count": null,
   "id": "443f4b0b",
   "metadata": {},
   "outputs": [
    {
     "data": {
      "text/plain": [
       "array([8, 6, 9])"
      ]
     },
     "execution_count": 32,
     "metadata": {},
     "output_type": "execute_result"
    }
   ],
   "source": [
    "data.sum(axis=0)#gives all row calculation"
   ]
  },
  {
   "cell_type": "code",
   "execution_count": 33,
   "id": "d2c4a84e",
   "metadata": {},
   "outputs": [
    {
     "data": {
      "text/plain": [
       "array([4, 4, 2], dtype=int32)"
      ]
     },
     "execution_count": 33,
     "metadata": {},
     "output_type": "execute_result"
    }
   ],
   "source": [
    "data.max(axis=1)#gives max of all coloum wise"
   ]
  },
  {
   "cell_type": "code",
   "execution_count": 34,
   "id": "b2e301b0",
   "metadata": {},
   "outputs": [
    {
     "data": {
      "text/plain": [
       "np.int32(0)"
      ]
     },
     "execution_count": 34,
     "metadata": {},
     "output_type": "execute_result"
    }
   ],
   "source": [
    "data.min()"
   ]
  },
  {
   "cell_type": "code",
   "execution_count": null,
   "id": "06f1678c",
   "metadata": {},
   "outputs": [
    {
     "data": {
      "text/plain": [
       "np.int64(6)"
      ]
     },
     "execution_count": 35,
     "metadata": {},
     "output_type": "execute_result"
    }
   ],
   "source": [
    "data.argmin()#location of min numberS"
   ]
  },
  {
   "cell_type": "code",
   "execution_count": 5,
   "id": "1039947d",
   "metadata": {},
   "outputs": [
    {
     "data": {
      "text/plain": [
       "array([[99, 22, 34],\n",
       "       [33, 58, 23],\n",
       "       [30, 43, 44]], dtype=int32)"
      ]
     },
     "execution_count": 5,
     "metadata": {},
     "output_type": "execute_result"
    }
   ],
   "source": [
    "import numpy as np\n",
    "data=np.random.randint(0,100,(3,3))\n",
    "data"
   ]
  },
  {
   "cell_type": "code",
   "execution_count": 7,
   "id": "becca8cf",
   "metadata": {},
   "outputs": [
    {
     "data": {
      "text/plain": [
       "array([22, 23, 30], dtype=int32)"
      ]
     },
     "execution_count": 7,
     "metadata": {},
     "output_type": "execute_result"
    }
   ],
   "source": [
    "data.min(axis=1)"
   ]
  },
  {
   "cell_type": "code",
   "execution_count": null,
   "id": "b573dc3f",
   "metadata": {},
   "outputs": [],
   "source": [
    "[store ID,sales,customers,inventory,returns]"
   ]
  },
  {
   "cell_type": "code",
   "execution_count": 1,
   "id": "cc6255b0",
   "metadata": {},
   "outputs": [
    {
     "name": "stdout",
     "output_type": "stream",
     "text": [
      "[[    1 25000   300  1200    10]\n",
      " [    2 32000   450  1500    15]\n",
      " [    3 28000   380  1100     8]\n",
      " [    4 41000   500  1600    20]\n",
      " [    5 35000   420  1400    12]\n",
      " [    6 27000   360  1300     9]\n",
      " [    7 39000   480  1700    18]\n",
      " [    8 30000   400  1250    14]\n",
      " [    9 45000   550  1800    25]\n",
      " [   10 33000   410  1450    11]]\n"
     ]
    }
   ],
   "source": [
    "import numpy as np\n",
    "\n",
    "# Manually created array: [Store ID, Sales, Customers, Inventory, Returns]\n",
    "retail_data = np.array([\n",
    "    [1, 25000, 300, 1200, 10],\n",
    "    [2, 32000, 450, 1500, 15],\n",
    "    [3, 28000, 380, 1100, 8],\n",
    "    [4, 41000, 500, 1600, 20],\n",
    "    [5, 35000, 420, 1400, 12],\n",
    "    [6, 27000, 360, 1300, 9],\n",
    "    [7, 39000, 480, 1700, 18],\n",
    "    [8, 30000, 400, 1250, 14],\n",
    "    [9, 45000, 550, 1800, 25],\n",
    "    [10, 33000, 410, 1450, 11]\n",
    "])\n",
    "\n",
    "print(retail_data)\n",
    "\n"
   ]
  },
  {
   "cell_type": "code",
   "execution_count": 3,
   "id": "8cf0903b",
   "metadata": {},
   "outputs": [
    {
     "data": {
      "text/plain": [
       "np.int64(9)"
      ]
     },
     "execution_count": 3,
     "metadata": {},
     "output_type": "execute_result"
    }
   ],
   "source": [
    "retail_data[:,3].argmax()+1"
   ]
  },
  {
   "cell_type": "markdown",
   "id": "e53d77df",
   "metadata": {},
   "source": [
    "sales/customer\n",
    "sales/transaction #basket value\n",
    "sales/units# basket size"
   ]
  },
  {
   "cell_type": "code",
   "execution_count": 5,
   "id": "d4652cdc",
   "metadata": {},
   "outputs": [
    {
     "data": {
      "text/plain": [
       "np.int64(335000)"
      ]
     },
     "execution_count": 5,
     "metadata": {},
     "output_type": "execute_result"
    }
   ],
   "source": [
    "#1. What is the **total revenue** generated across all stores?\n",
    "retail_data[:,1].sum()"
   ]
  },
  {
   "cell_type": "code",
   "execution_count": 6,
   "id": "9699cc75",
   "metadata": {},
   "outputs": [
    {
     "data": {
      "text/plain": [
       "np.int64(9)"
      ]
     },
     "execution_count": 6,
     "metadata": {},
     "output_type": "execute_result"
    }
   ],
   "source": [
    "#2. Which store recorded the **highest sales**?\n",
    "retail_data[:,1].argmax()+1"
   ]
  },
  {
   "cell_type": "code",
   "execution_count": 7,
   "id": "cb027255",
   "metadata": {},
   "outputs": [
    {
     "data": {
      "text/plain": [
       "np.int64(1)"
      ]
     },
     "execution_count": 7,
     "metadata": {},
     "output_type": "execute_result"
    }
   ],
   "source": [
    "#3. Which store recorded the **lowest sales**?\n",
    "retail_data[:,1].argmin()+1"
   ]
  },
  {
   "cell_type": "code",
   "execution_count": 4,
   "id": "b23dd994",
   "metadata": {},
   "outputs": [
    {
     "data": {
      "text/plain": [
       "np.float64(33500.0)"
      ]
     },
     "execution_count": 4,
     "metadata": {},
     "output_type": "execute_result"
    }
   ],
   "source": [
    "#4. What is the **average daily sales** per store?\n",
    "retail_data[:,1].mean()"
   ]
  },
  {
   "cell_type": "code",
   "execution_count": 10,
   "id": "1746fa95",
   "metadata": {},
   "outputs": [
    {
     "name": "stdout",
     "output_type": "stream",
     "text": [
      "3\n"
     ]
    }
   ],
   "source": [
    "#5. How many stores achieved sales **above ₹35,000**?\n",
    "retail_data\n",
    "s=np.sum(retail_data[:,1]>35000)\n",
    "print(s)"
   ]
  },
  {
   "cell_type": "code",
   "execution_count": 13,
   "id": "bad5c57a",
   "metadata": {},
   "outputs": [
    {
     "name": "stdout",
     "output_type": "stream",
     "text": [
      "9\n"
     ]
    }
   ],
   "source": [
    "#6. Which store had the **highest customer footfall**?\n",
    "s=np.argmax(retail_data[:,2])+1\n",
    "print(s)"
   ]
  },
  {
   "cell_type": "code",
   "execution_count": 15,
   "id": "d475c029",
   "metadata": {},
   "outputs": [
    {
     "name": "stdout",
     "output_type": "stream",
     "text": [
      "425.0\n"
     ]
    }
   ],
   "source": [
    "#7. What is the **average number of customers** per store?\n",
    "s=retail_data[:,2].mean()\n",
    "print(s)"
   ]
  },
  {
   "cell_type": "code",
   "execution_count": 16,
   "id": "ba82c67b",
   "metadata": {},
   "outputs": [
    {
     "name": "stdout",
     "output_type": "stream",
     "text": [
      "3\n"
     ]
    }
   ],
   "source": [
    "#8. How many stores have **more than 450 customers**?\n",
    "s=np.argmax(retail_data[:,2]>450)\n",
    "print(s)"
   ]
  },
  {
   "cell_type": "code",
   "execution_count": 18,
   "id": "01a7f9ae",
   "metadata": {},
   "outputs": [
    {
     "name": "stdout",
     "output_type": "stream",
     "text": [
      "1\n"
     ]
    }
   ],
   "source": [
    "#9. Which store has the **lowest customer count**?\n",
    "s=np.argmin(retail_data[:,2])+1\n",
    "print(s)"
   ]
  },
  {
   "cell_type": "code",
   "execution_count": 31,
   "id": "4b5e2409",
   "metadata": {},
   "outputs": [
    {
     "data": {
      "text/plain": [
       "array([[    5, 35000,   420,  1400,    12]])"
      ]
     },
     "execution_count": 31,
     "metadata": {},
     "output_type": "execute_result"
    }
   ],
   "source": [
    "#10.Is there any store where **high sales do not correspond to high customers**?\n",
    "sal = retail_data[:,1].mean()\n",
    "cus = retail_data[:,2].mean()\n",
    "mis = retail_data[(retail_data[:,1] > sal) & (retail_data[:,2] < cus)]\n",
    "mis"
   ]
  },
  {
   "cell_type": "code",
   "execution_count": 23,
   "id": "f298bb62",
   "metadata": {},
   "outputs": [
    {
     "name": "stdout",
     "output_type": "stream",
     "text": [
      "14300\n"
     ]
    }
   ],
   "source": [
    "#11. What is the **total inventory** across all stores?\n",
    "s=retail_data[:,3].sum()\n",
    "print(s)\n",
    "\n",
    "\n",
    "\n"
   ]
  },
  {
   "cell_type": "code",
   "execution_count": 26,
   "id": "cafd2191",
   "metadata": {},
   "outputs": [
    {
     "data": {
      "text/plain": [
       "np.int64(9)"
      ]
     },
     "execution_count": 26,
     "metadata": {},
     "output_type": "execute_result"
    }
   ],
   "source": [
    "#12. Which store has the **highest inventory stock**?\n",
    "retail_data[:,3].argmax()+1"
   ]
  },
  {
   "cell_type": "code",
   "execution_count": 29,
   "id": "9612c840",
   "metadata": {},
   "outputs": [
    {
     "name": "stdout",
     "output_type": "stream",
     "text": [
      "3\n"
     ]
    }
   ],
   "source": [
    "#13. How many stores have **inventory less than 1300 units**?\n",
    "d=np.sum(retail_data[:,3]<1300)\n",
    "print(d)"
   ]
  },
  {
   "cell_type": "code",
   "execution_count": 33,
   "id": "891f765e",
   "metadata": {},
   "outputs": [
    {
     "name": "stdout",
     "output_type": "stream",
     "text": [
      "8\n"
     ]
    }
   ],
   "source": [
    "#14. Which store has the **highest return rate** (returns ÷ inventory)?\n",
    "r=np.argmax(retail_data[:,4]/retail_data[:,3])\n",
    "print(r)\n"
   ]
  },
  {
   "cell_type": "code",
   "execution_count": 37,
   "id": "c16c61b8",
   "metadata": {},
   "outputs": [
    {
     "name": "stdout",
     "output_type": "stream",
     "text": [
      "[4 7 9]\n"
     ]
    }
   ],
   "source": [
    "#15. Which stores have **returns greater than 15 units**?\n",
    "s=retail_data[retail_data[:,4]>15,0]\n",
    "print(s)\n"
   ]
  },
  {
   "cell_type": "code",
   "execution_count": 6,
   "id": "ae5adca8",
   "metadata": {},
   "outputs": [
    {
     "name": "stdout",
     "output_type": "stream",
     "text": [
      "0.9593636912502479\n",
      "Yes\n"
     ]
    }
   ],
   "source": [
    "#16. Is there a **positive correlation** between sales and customers?\n",
    "sales = retail_data[:, 1]\n",
    "customers = retail_data[:, 2]\n",
    "\n",
    "corr_matrix = np.corrcoef(sales, customers)\n",
    "correlation = corr_matrix[0, 1]\n",
    "print(correlation)\n",
    "if correlation > 0:\n",
    "    print(\"Yes\")\n",
    "else:\n",
    "    print(\"No\")"
   ]
  },
  {
   "cell_type": "code",
   "execution_count": 8,
   "id": "763261ae",
   "metadata": {},
   "outputs": [
    {
     "name": "stdout",
     "output_type": "stream",
     "text": [
      "[2]\n"
     ]
    }
   ],
   "source": [
    "\n",
    "#17. Which store has **high customer visits but low sales**?\n",
    "sales = retail_data[:, 1]\n",
    "customers = retail_data[:, 2]\n",
    "\n",
    "avg_sales = np.mean(sales)\n",
    "avg_customers = np.mean(customers)\n",
    "\n",
    "condition = (customers > avg_customers) & (sales < avg_sales)\n",
    "\n",
    "stores = retail_data[condition, 0]\n",
    "print(stores)"
   ]
  },
  {
   "cell_type": "code",
   "execution_count": 10,
   "id": "2e1fe5d2",
   "metadata": {},
   "outputs": [
    {
     "name": "stdout",
     "output_type": "stream",
     "text": [
      "[5]\n"
     ]
    }
   ],
   "source": [
    "\n",
    "#18. Which store has **low customers but high sales**?\n",
    "sales = retail_data[:, 1]\n",
    "customers = retail_data[:, 2]\n",
    "\n",
    "avg_sales = np.mean(sales)\n",
    "avg_customers = np.mean(customers)\n",
    "\n",
    "condition = (customers < avg_customers) & (sales > avg_sales)\n",
    "\n",
    "stores = retail_data[condition, 0]\n",
    "print(stores)"
   ]
  },
  {
   "cell_type": "code",
   "execution_count": 3,
   "id": "c2657c10",
   "metadata": {},
   "outputs": [
    {
     "name": "stdout",
     "output_type": "stream",
     "text": [
      "[83.33333333 71.11111111 73.68421053 82.         83.33333333 75.\n",
      " 81.25       75.         81.81818182 80.48780488]\n"
     ]
    }
   ],
   "source": [
    "#19. How many stores have **sales per customer above ₹90**?\n",
    "s=retail_data[:,1]\n",
    "c=retail_data[:,2]\n",
    "s_c=s/c\n",
    "print(s_c)\n"
   ]
  },
  {
   "cell_type": "code",
   "execution_count": 7,
   "id": "fcc229d7",
   "metadata": {},
   "outputs": [
    {
     "name": "stdout",
     "output_type": "stream",
     "text": [
      "[10]\n"
     ]
    }
   ],
   "source": [
    "\n",
    "#20. Which stores could **benefit from customer acquisition campaigns** (low customers, high inventory)?\n",
    "c=retail_data[:,2]\n",
    "i=retail_data[:,3]\n",
    "a_c=np.mean(c)\n",
    "a_i=np.mean(i)\n",
    "condition=(c<a_c)&(i>a_i)\n",
    "s=retail_data[condition,0]\n",
    "print(s)"
   ]
  },
  {
   "cell_type": "code",
   "execution_count": 4,
   "id": "8dd90911",
   "metadata": {},
   "outputs": [
    {
     "name": "stdout",
     "output_type": "stream",
     "text": [
      "[5000. 6400. 5600. 8200. 7000. 5400. 7800. 6000. 9000. 6600.]\n"
     ]
    }
   ],
   "source": [
    "#21.If profit margin is **20% of sales**, what is the **profit per store**?\n",
    "s= retail_data[:, 1]\n",
    "p = 0.20\n",
    "profit_store = s * p\n",
    "\n",
    "print(profit_store)\n"
   ]
  },
  {
   "cell_type": "code",
   "execution_count": null,
   "id": "122e8438",
   "metadata": {},
   "outputs": [
    {
     "name": "stdout",
     "output_type": "stream",
     "text": [
      "8\n"
     ]
    },
    {
     "name": "stdout",
     "output_type": "stream",
     "text": [
      "profit_store"
     ]
    }
   ],
   "source": [
    "#22. Which store has the **highest profit**?\n",
    "s= retail_data[:, 1]\n",
    "p = 0.20\n",
    "profit_store = (s * p).argmax()\n",
    "\n",
    "print(profit_store)"
   ]
  },
  {
   "cell_type": "code",
   "execution_count": 6,
   "id": "fd2b11b4",
   "metadata": {},
   "outputs": [
    {
     "name": "stdout",
     "output_type": "stream",
     "text": [
      "0\n"
     ]
    }
   ],
   "source": [
    "#23. Which store has the **lowest profit**?\n",
    "s= retail_data[:, 1]\n",
    "p = 0.20\n",
    "profit_store = (s * p).argmin()\n",
    "\n",
    "print(profit_store)"
   ]
  },
  {
   "cell_type": "code",
   "execution_count": 7,
   "id": "67a4a891",
   "metadata": {},
   "outputs": [
    {
     "name": "stdout",
     "output_type": "stream",
     "text": [
      "[27500. 35200. 30800. 45100. 38500. 29700. 42900. 33000. 49500. 36300.]\n"
     ]
    }
   ],
   "source": [
    "#24. If sales increase by **10% next month**, what are the **new sales figures**?\n",
    "s=retail_data[:,1]\n",
    "n_s=s*1.10\n",
    "print(n_s)"
   ]
  },
  {
   "cell_type": "code",
   "execution_count": 11,
   "id": "c180e7d7",
   "metadata": {},
   "outputs": [
    {
     "name": "stdout",
     "output_type": "stream",
     "text": [
      "6700.000000000015\n"
     ]
    }
   ],
   "source": [
    "\n",
    "#25. How will **total profit** change with the 10% sales increase?\n",
    "s = np.sum(retail_data[:, 1])     \n",
    "n_s = s * 1.10                 \n",
    "p = (n_s * 0.20) - (s * 0.20)  \n",
    "print(p)\n"
   ]
  },
  {
   "cell_type": "code",
   "execution_count": 2,
   "id": "bbf68b0e",
   "metadata": {},
   "outputs": [
    {
     "name": "stdout",
     "output_type": "stream",
     "text": [
      "Stores needing restocking: [ 1  2  3  4  5  6  7  8  9 10]\n"
     ]
    }
   ],
   "source": [
    "#26. Which stores need **inventory restocking** based on sales and current stock?\n",
    "sales = retail_data[:, 1]\n",
    "inventory = retail_data[:, 3]\n",
    "store_ids = retail_data[:, 0]\n",
    "\n",
    "restock_stores = store_ids[inventory < sales]\n",
    "\n",
    "print(\"Stores needing restocking:\", restock_stores)\n"
   ]
  },
  {
   "cell_type": "code",
   "execution_count": 4,
   "id": "5a6b234e",
   "metadata": {},
   "outputs": [
    {
     "name": "stdout",
     "output_type": "stream",
     "text": [
      "[9]\n"
     ]
    }
   ],
   "source": [
    "#27. Which stores show **high returns percentage** and might require **quality checks**?\n",
    "returns_percentage = (retail_data[:, 4] / retail_data[:, 1]) * 100\n",
    "\n",
    "threshold = 0.05 \n",
    "high_returns_indices = np.where(returns_percentage > threshold)[0]\n",
    "\n",
    "high_returns_stores = retail_data[high_returns_indices, 0]\n",
    "print(high_returns_stores)"
   ]
  },
  {
   "cell_type": "code",
   "execution_count": 3,
   "id": "2012969c",
   "metadata": {},
   "outputs": [
    {
     "name": "stdout",
     "output_type": "stream",
     "text": [
      "9\n"
     ]
    }
   ],
   "source": [
    "#28. Which store is the **best performer overall** (sales, customers, inventory turnover)?\n",
    "sales = retail_data[:, 1]\n",
    "customers = retail_data[:, 2]\n",
    "inventory_turnover = sales / retail_data[:, 3] \n",
    "\n",
    "sales_norm = (sales - sales.min()) / (sales.max() - sales.min())\n",
    "customers_norm = (customers - customers.min()) / (customers.max() - customers.min())\n",
    "turnover_norm = (inventory_turnover - inventory_turnover.min()) / (inventory_turnover.max() - inventory_turnover.min())\n",
    "\n",
    "score = sales_norm + customers_norm + turnover_norm\n",
    "\n",
    "best_index = np.argmax(score)\n",
    "best_store_id = int(retail_data[best_index, 0])\n",
    "\n",
    "print(best_store_id)\n"
   ]
  },
  {
   "cell_type": "code",
   "execution_count": 4,
   "id": "4bfb98db",
   "metadata": {},
   "outputs": [
    {
     "name": "stdout",
     "output_type": "stream",
     "text": [
      "1\n"
     ]
    }
   ],
   "source": [
    "#29. Which store is the **worst performer overall**?\n",
    "sales = retail_data[:, 1]\n",
    "customers = retail_data[:, 2]\n",
    "inventory_turnover = sales / retail_data[:, 3] \n",
    "\n",
    "sales_norm = (sales - sales.min()) / (sales.max() - sales.min())\n",
    "customers_norm = (customers - customers.min()) / (customers.max() - customers.min())\n",
    "turnover_norm = (inventory_turnover - inventory_turnover.min()) / (inventory_turnover.max() - inventory_turnover.min())\n",
    "\n",
    "score = sales_norm + customers_norm + turnover_norm\n",
    "\n",
    "best_index = np.argmin(score)\n",
    "best_store_id = int(retail_data[best_index, 0])\n",
    "\n",
    "print(best_store_id)"
   ]
  },
  {
   "cell_type": "code",
   "execution_count": 7,
   "id": "9856a51a",
   "metadata": {},
   "outputs": [
    {
     "name": "stdout",
     "output_type": "stream",
     "text": [
      "[4 7 9]\n"
     ]
    }
   ],
   "source": [
    "#30. Which stores can be considered for **expansion** based on strong sales and customer metrics?\n",
    "sales = retail_data[:, 1]\n",
    "customers = retail_data[:, 2]\n",
    "\n",
    "avg_sales = np.mean(sales)\n",
    "avg_customers = np.mean(customers)\n",
    "\n",
    "expansion_indices = np.where((sales > avg_sales) & (customers > avg_customers))[0]\n",
    "expansion_store_ids = retail_data[expansion_indices, 0]\n",
    "\n",
    "print( expansion_store_ids)\n"
   ]
  }
 ],
 "metadata": {
  "kernelspec": {
   "display_name": "Python 3",
   "language": "python",
   "name": "python3"
  },
  "language_info": {
   "codemirror_mode": {
    "name": "ipython",
    "version": 3
   },
   "file_extension": ".py",
   "mimetype": "text/x-python",
   "name": "python",
   "nbconvert_exporter": "python",
   "pygments_lexer": "ipython3",
   "version": "3.12.0"
  }
 },
 "nbformat": 4,
 "nbformat_minor": 5
}
