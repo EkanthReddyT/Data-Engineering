{
 "cells": [
  {
   "cell_type": "code",
   "execution_count": 4,
   "id": "56dd8f0f",
   "metadata": {},
   "outputs": [
    {
     "name": "stdout",
     "output_type": "stream",
     "text": [
      "Question 1: Create a dictionary of student names and their ages\n",
      "{'ekanth': 22, 'reddy': 45, 'channa': 25, 'basava': 26}\n"
     ]
    }
   ],
   "source": [
    "print(\"Question 1: Create a dictionary of student names and their ages\")\n",
    "# Your code here\n",
    "d={\"ekanth\":22,\"reddy\":45,\"channa\":25,\"basava\":26}\n",
    "print(d)"
   ]
  },
  {
   "cell_type": "code",
   "execution_count": 8,
   "id": "9b1c2509",
   "metadata": {},
   "outputs": [
    {
     "name": "stdout",
     "output_type": "stream",
     "text": [
      "\n",
      "Question 2: Add a new key-value pair to dictionary {'a': 1, 'b': 2, 'c': 3}\n",
      "{'a': 1, 'b': 2, 'c': 3, 'd': 4}\n"
     ]
    }
   ],
   "source": [
    "print(\"\\nQuestion 2: Add a new key-value pair to dictionary {'a': 1, 'b': 2, 'c': 3}\")\n",
    "# Your code here\n",
    "a={'a': 1, 'b': 2, 'c': 3}\n",
    "a['d']=4\n",
    "print(a)"
   ]
  },
  {
   "cell_type": "code",
   "execution_count": 13,
   "id": "3bd74f24",
   "metadata": {},
   "outputs": [
    {
     "name": "stdout",
     "output_type": "stream",
     "text": [
      "\n",
      "Question 3: Get all keys from dictionary {'name': 'John', 'age': 25, 'city': 'New York'}\n",
      "dict_keys(['name', 'age', 'city'])\n"
     ]
    }
   ],
   "source": [
    "print(\"\\nQuestion 3: Get all keys from dictionary {'name': 'John', 'age': 25, 'city': 'New York'}\")\n",
    "# Your code here\n",
    "a={'name': 'John', 'age': 25, 'city': 'New York'}\n",
    "print(a.keys())"
   ]
  },
  {
   "cell_type": "code",
   "execution_count": 14,
   "id": "0ff873d9",
   "metadata": {},
   "outputs": [
    {
     "name": "stdout",
     "output_type": "stream",
     "text": [
      "\n",
      "Question 4: Get all values from dictionary {'python': 3, 'java': 2, 'c++': 1}\n",
      "dict_values([3, 2, 1])\n"
     ]
    }
   ],
   "source": [
    "print(\"\\nQuestion 4: Get all values from dictionary {'python': 3, 'java': 2, 'c++': 1}\")\n",
    "# Your code here\n",
    "a={'python': 3, 'java': 2, 'c++': 1}\n",
    "print(a.values())"
   ]
  },
  {
   "cell_type": "code",
   "execution_count": 22,
   "id": "b5b66b24",
   "metadata": {},
   "outputs": [
    {
     "name": "stdout",
     "output_type": "stream",
     "text": [
      "\n",
      "Question 5: Check if key 'age' exists in {'name': 'Alice', 'age': 30, 'city': 'London'}\n",
      "age is present:30\n"
     ]
    }
   ],
   "source": [
    "print(\"\\nQuestion 5: Check if key 'age' exists in {'name': 'Alice', 'age': 30, 'city': 'London'}\")\n",
    "# Your code here\n",
    "a={'name': 'Alice', 'age': 30, 'city': 'London'}\n",
    "if 'age' in a:\n",
    "  print(f\"age is present:{a[\"age\"]}\")\n",
    "  "
   ]
  },
  {
   "cell_type": "code",
   "execution_count": 5,
   "id": "3867976b",
   "metadata": {},
   "outputs": [
    {
     "name": "stdout",
     "output_type": "stream",
     "text": [
      "\n",
      "Question 6: Remove key 'temp' from {'a': 1, 'b': 2, 'temp': 3, 'c': 4}\n"
     ]
    },
    {
     "data": {
      "text/plain": [
       "3"
      ]
     },
     "execution_count": 5,
     "metadata": {},
     "output_type": "execute_result"
    }
   ],
   "source": [
    "print(\"\\nQuestion 6: Remove key 'temp' from {'a': 1, 'b': 2, 'temp': 3, 'c': 4}\")\n",
    "# Your code here\n",
    "a={'a': 1, 'b': 2, 'temp': 3, 'c': 4}\n",
    "a.pop('temp')"
   ]
  },
  {
   "cell_type": "code",
   "execution_count": 6,
   "id": "f3b48b39",
   "metadata": {},
   "outputs": [
    {
     "name": "stdout",
     "output_type": "stream",
     "text": [
      "\n",
      "Question 7: Find the sum of all values in {'math': 85, 'science': 92, 'english': 78}\n",
      "Sum of all values: 255\n"
     ]
    }
   ],
   "source": [
    "print(\"\\nQuestion 7: Find the sum of all values in {'math': 85, 'science': 92, 'english': 78}\")\n",
    "# Your code here\n",
    "marks = {'math': 85, 'science': 92, 'english': 78}\n",
    "total = sum(marks.values())\n",
    "print(\"Sum of all values:\", total)"
   ]
  },
  {
   "cell_type": "code",
   "execution_count": 11,
   "id": "f2118aa1",
   "metadata": {},
   "outputs": [
    {
     "name": "stdout",
     "output_type": "stream",
     "text": [
      "\n",
      "Question 8: Create a dictionary with squares of numbers 1 to 5\n",
      "{1: 1, 2: 4, 3: 27, 4: 256, 5: 3125}\n"
     ]
    }
   ],
   "source": [
    "print(\"\\nQuestion 8: Create a dictionary with squares of numbers 1 to 5\")\n",
    "# Your code here\n",
    "a={}\n",
    "for i in range(1,6):\n",
    "  s=i**i\n",
    "  a[i]=s\n",
    "\n",
    "\n",
    "print(a)\n"
   ]
  },
  {
   "cell_type": "code",
   "execution_count": null,
   "id": "5a47f35b",
   "metadata": {},
   "outputs": [],
   "source": [
    "print(\"\\nQuestion 9: Count frequency of each character in string 'hello'\")\n",
    "# Your code here"
   ]
  },
  {
   "cell_type": "code",
   "execution_count": 12,
   "id": "847e2c30",
   "metadata": {},
   "outputs": [
    {
     "name": "stdout",
     "output_type": "stream",
     "text": [
      "\n",
      "Question 10: Merge two dictionaries {'a': 1, 'b': 2} and {'c': 3, 'd': 4}\n",
      "{'a': 1, 'b': 2, 'c': 3, 'd': 4}\n"
     ]
    }
   ],
   "source": [
    "print(\"\\nQuestion 10: Merge two dictionaries {'a': 1, 'b': 2} and {'c': 3, 'd': 4}\")\n",
    "# Your code here\n",
    "a={'a': 1, 'b': 2}\n",
    "b={'c': 3, 'd': 4}\n",
    "a.update(b)\n",
    "print(a)"
   ]
  },
  {
   "cell_type": "code",
   "execution_count": 13,
   "id": "cd182b49",
   "metadata": {},
   "outputs": [
    {
     "name": "stdout",
     "output_type": "stream",
     "text": [
      "\n",
      "Question 11: Create a nested dictionary: {'person': {'name': 'Alice', 'age': 25}}\n",
      "Nested dictionary: {'person': {'name': 'Alice', 'age': 25}}\n"
     ]
    }
   ],
   "source": [
    "print(\"\\nQuestion 11: Create a nested dictionary: {'person': {'name': 'Alice', 'age': 25}}\")\n",
    "# Your code her\n",
    "\n",
    "nested_dict = {\n",
    "    'person': {\n",
    "        'name': 'Alice',\n",
    "        'age': 25\n",
    "    }\n",
    "}\n",
    "\n",
    "print(\"Nested dictionary:\", nested_dict)"
   ]
  },
  {
   "cell_type": "code",
   "execution_count": 16,
   "id": "d252eeeb",
   "metadata": {},
   "outputs": [
    {
     "name": "stdout",
     "output_type": "stream",
     "text": [
      "\n",
      "Question 12: Access nested value 'name' from {'person': {'name': 'Alice', 'age': 25}}\n",
      "Alice\n"
     ]
    }
   ],
   "source": [
    "print(\"\\nQuestion 12: Access nested value 'name' from {'person': {'name': 'Alice', 'age': 25}}\")\n",
    "# Your code here\n",
    "a={'person': {'name': 'Alice', 'age': 25}}\n",
    "print(a['person']['name'])"
   ]
  },
  {
   "cell_type": "code",
   "execution_count": 17,
   "id": "1f59df5d",
   "metadata": {},
   "outputs": [
    {
     "name": "stdout",
     "output_type": "stream",
     "text": [
      "\n",
      "Question 13: Create a dictionary with list values: {'fruits': ['apple', 'banana'], 'colors': ['red', 'blue']}\n",
      "{'fruits': ['apple', 'banana'], 'colors': ['red', 'blue']}\n"
     ]
    }
   ],
   "source": [
    "print(\"\\nQuestion 13: Create a dictionary with list values: {'fruits': ['apple', 'banana'], 'colors': ['red', 'blue']}\")\n",
    "# Your code here\n",
    "a={}\n",
    "a['fruits']=['apple','banana']\n",
    "a['colors']= ['red', 'blue']\n",
    "print(a)"
   ]
  },
  {
   "cell_type": "code",
   "execution_count": 18,
   "id": "90e66105",
   "metadata": {},
   "outputs": [
    {
     "name": "stdout",
     "output_type": "stream",
     "text": [
      "\n",
      "Question 14: Add 'orange' to the 'fruits' list in nested dictionary\n",
      "{'fruits': ['apple', 'banana', 'orange'], 'colors': ['red', 'blue']}\n"
     ]
    }
   ],
   "source": [
    "print(\"\\nQuestion 14: Add 'orange' to the 'fruits' list in nested dictionary\")\n",
    "# Your code here\n",
    "a={'fruits': ['apple', 'banana'],\n",
    "    'colors': ['red', 'blue']\n",
    "}\n",
    "a['fruits'].append('orange')\n",
    "print(a)"
   ]
  },
  {
   "cell_type": "code",
   "execution_count": 22,
   "id": "f96e47e2",
   "metadata": {},
   "outputs": [
    {
     "name": "stdout",
     "output_type": "stream",
     "text": [
      "\n",
      "Question 15: Create a dictionary with tuple values: {'coordinates': (10, 20), 'rgb': (255, 0, 0)}\n",
      "{'coordinates': (10, 20), 'rgb': (255, 0, 0)}\n"
     ]
    }
   ],
   "source": [
    "print(\"\\nQuestion 15: Create a dictionary with tuple values: {'coordinates': (10, 20), 'rgb': (255, 0, 0)}\")\n",
    "# Your code here\n",
    "a={}\n",
    "a['coordinates']= (10, 20)\n",
    "a['rgb']= (255, 0, 0)\n",
    "print(a)\n"
   ]
  },
  {
   "cell_type": "code",
   "execution_count": 23,
   "id": "e41ec891",
   "metadata": {},
   "outputs": [
    {
     "name": "stdout",
     "output_type": "stream",
     "text": [
      "\n",
      "Question 16: Extract first coordinate from nested tuple\n",
      "First coordinate: 1\n"
     ]
    }
   ],
   "source": [
    "print(\"\\nQuestion 16: Extract first coordinate from nested tuple\")\n",
    "# Your code here\n",
    "nested_tuple = ((1, 2), (3, 4), (5, 6))\n",
    "first_coord = nested_tuple[0][0]\n",
    "print(\"First coordinate:\", first_coord)"
   ]
  },
  {
   "cell_type": "code",
   "execution_count": 24,
   "id": "d7eb3a6a",
   "metadata": {},
   "outputs": [
    {
     "name": "stdout",
     "output_type": "stream",
     "text": [
      "\n",
      "Question 17: Create a dictionary with set values: {'vowels': {'a', 'e', 'i'}, 'consonants': {'b', 'c', 'd'}}\n",
      "{'vowels': {'i', 'e', 'a'}, 'consonants': {'d', 'c', 'b'}}\n"
     ]
    }
   ],
   "source": [
    "print(\"\\nQuestion 17: Create a dictionary with set values: {'vowels': {'a', 'e', 'i'}, 'consonants': {'b', 'c', 'd'}}\")\n",
    "# Your code here\n",
    "my_dict = {\n",
    "    'vowels': {'a', 'e', 'i'},\n",
    "    'consonants': {'b', 'c', 'd'}\n",
    "}\n",
    "\n",
    "print(my_dict)\n"
   ]
  },
  {
   "cell_type": "code",
   "execution_count": 28,
   "id": "0ca7e7c4",
   "metadata": {},
   "outputs": [
    {
     "name": "stdout",
     "output_type": "stream",
     "text": [
      "\n",
      "Question 18: Add 'o' to vowels set in nested dictionary\n",
      "{'vowels': {'i', 'e', 'o', 'a'}, 'consonants': {'d', 'c', 'b'}}\n"
     ]
    }
   ],
   "source": [
    "print(\"\\nQuestion 18: Add 'o' to vowels set in nested dictionary\")\n",
    "# Your code \n",
    "a= {\n",
    "    'vowels': {'a', 'e', 'i'},\n",
    "    'consonants': {'b', 'c', 'd'}\n",
    "}\n",
    "a['vowels'].add('o')\n",
    "print(a)\n",
    "\n"
   ]
  },
  {
   "cell_type": "code",
   "execution_count": 29,
   "id": "5e53612f",
   "metadata": {},
   "outputs": [
    {
     "name": "stdout",
     "output_type": "stream",
     "text": [
      "\n",
      "Question 19: Create a 3-level nested dictionary: {'company': {'department': {'employee': {'name': 'John', 'id': 123}}}}\n",
      "{'department': {'employee': {'name': 'John', 'id': 123}}}\n"
     ]
    }
   ],
   "source": [
    "print(\"\\nQuestion 19: Create a 3-level nested dictionary: {'company': {'department': {'employee': {'name': 'John', 'id': 123}}}}\")\n",
    "# Your code here\n",
    "a={'department': {'employee': {'name': 'John', 'id': 123}}}\n",
    "print(a)"
   ]
  },
  {
   "cell_type": "code",
   "execution_count": 32,
   "id": "df992873",
   "metadata": {},
   "outputs": [
    {
     "name": "stdout",
     "output_type": "stream",
     "text": [
      "\n",
      "Question 20: Access employee name from 3-level nested dictionary\n"
     ]
    },
    {
     "data": {
      "text/plain": [
       "'John'"
      ]
     },
     "execution_count": 32,
     "metadata": {},
     "output_type": "execute_result"
    }
   ],
   "source": [
    "print(\"\\nQuestion 20: Access employee name from 3-level nested dictionary\")\n",
    "# Your code here\n",
    "a={'department': {'employee': {'name': 'John', 'id': 123}}}\n",
    "a['department']['employee']['name']\n"
   ]
  },
  {
   "cell_type": "code",
   "execution_count": 33,
   "id": "6272d495",
   "metadata": {},
   "outputs": [
    {
     "name": "stdout",
     "output_type": "stream",
     "text": [
      "\n",
      "Question 21: Create a dictionary with mixed data types: {'int': 42, 'float': 3.14, 'str': 'hello', 'bool': True}\n",
      "{'int': 42, 'float': 3.14, 'str': 'hello', 'bool': True}\n"
     ]
    }
   ],
   "source": [
    "print(\"\\nQuestion 21: Create a dictionary with mixed data types: {'int': 42, 'float': 3.14, 'str': 'hello', 'bool': True}\")\n",
    "# Your code here\n",
    "a={'int': 42, 'float': 3.14, 'str': 'hello', 'bool': True}\n",
    "print(a)\n"
   ]
  },
  {
   "cell_type": "code",
   "execution_count": null,
   "id": "dd37f5ff",
   "metadata": {},
   "outputs": [
    {
     "name": "stdout",
     "output_type": "stream",
     "text": [
      "\n",
      "Question 22: Check data type of each value in mixed dictionary\n",
      "Key: name, Value: Alice, Type: str\n",
      "Key: age, Value: 30, Type: int\n",
      "Key: is_student, Value: True, Type: bool\n",
      "Key: grades, Value: [85, 90, 92], Type: list\n",
      "Key: address, Value: {'city': 'London', 'zip': 12345}, Type: dict\n"
     ]
    }
   ],
   "source": [
    "print(\"\\nQuestion 22: Check data type of each value in mixed dictionary\")\n",
    "# Your code here\n",
    "mixed_dict = {\n",
    "    'name': 'Alice',\n",
    "    'age': 30,\n",
    "    'is_student': True,\n",
    "    'grades': [85, 90, 92],\n",
    "    'address': {'city': 'London', 'zip': 12345}\n",
    "}\n",
    "\n",
    "for key, value in mixed_dict.items():\n",
    "    print(f\"Key: {key}, Value: {value}, Type: {type(value).__name__}\")\n"
   ]
  },
  {
   "cell_type": "code",
   "execution_count": 40,
   "id": "5a554330",
   "metadata": {},
   "outputs": [
    {
     "name": "stdout",
     "output_type": "stream",
     "text": [
      "\n",
      "Question 23: Create a dictionary with function values: {'len': len, 'str': str, 'int': int}\n",
      "{'len': <built-in function len>, 'str': <class 'str'>, 'int': <class 'int'>}\n"
     ]
    }
   ],
   "source": [
    "print(\"\\nQuestion 23: Create a dictionary with function values: {'len': len, 'str': str, 'int': int}\")\n",
    "# Your code here\n",
    "func_dict = {\n",
    "    'len': len,\n",
    "    'str': str,\n",
    "    'int': int\n",
    "}\n",
    "\n",
    "print(func_dict)"
   ]
  },
  {
   "cell_type": "code",
   "execution_count": 41,
   "id": "05fe4b92",
   "metadata": {},
   "outputs": [
    {
     "name": "stdout",
     "output_type": "stream",
     "text": [
      "\n",
      "Question 24: Apply each function to '123' using dictionary\n",
      "len('123') = 3\n",
      "str('123') = 123\n",
      "int('123') = 123\n"
     ]
    }
   ],
   "source": [
    "print(\"\\nQuestion 24: Apply each function to '123' using dictionary\")\n",
    "# Your code here\n",
    "func_dict = {\n",
    "    'len': len,\n",
    "    'str': str,\n",
    "    'int': int\n",
    "}\n",
    "\n",
    "input_str = '123'\n",
    "\n",
    "for name, func in func_dict.items():\n",
    "    result = func(input_str)\n",
    "    print(f\"{name}('{input_str}') = {result}\")"
   ]
  },
  {
   "cell_type": "code",
   "execution_count": 42,
   "id": "23ec9a4f",
   "metadata": {},
   "outputs": [
    {
     "name": "stdout",
     "output_type": "stream",
     "text": [
      "\n",
      "Question 25: Create a dictionary with lambda functions: {'double': lambda x: x*2, 'square': lambda x: x**2}\n",
      "{'double': <function <lambda> at 0x000002011D011C60>, 'square': <function <lambda> at 0x000002011D011D00>}\n"
     ]
    }
   ],
   "source": [
    "print(\"\\nQuestion 25: Create a dictionary with lambda functions: {'double': lambda x: x*2, 'square': lambda x: x**2}\")\n",
    "# Your code here\n",
    "func_dict = {\n",
    "    'double': lambda x: x * 2,\n",
    "    'square': lambda x: x ** 2\n",
    "}\n",
    "\n",
    "print(func_dict)\n"
   ]
  },
  {
   "cell_type": "code",
   "execution_count": 1,
   "id": "07acbc36",
   "metadata": {},
   "outputs": [
    {
     "name": "stdout",
     "output_type": "stream",
     "text": [
      "\n",
      "Question 26: Apply each lambda function to 5\n",
      "double(5) = 10\n",
      "square(5) = 25\n",
      "increment(5) = 6\n",
      "negate(5) = -5\n"
     ]
    }
   ],
   "source": [
    "print(\"\\nQuestion 26: Apply each lambda function to 5\")\n",
    "# Your code here\n",
    "lambda_funcs = {\n",
    "    'double': lambda x: x * 2,\n",
    "    'square': lambda x: x ** 2,\n",
    "    'increment': lambda x: x + 1,\n",
    "    'negate': lambda x: -x\n",
    "}\n",
    "input_value = 5\n",
    "for name, func in lambda_funcs.items():\n",
    "    result = func(input_value)\n",
    "    print(f\"{name}({input_value}) = {result}\")"
   ]
  },
  {
   "cell_type": "code",
   "execution_count": 1,
   "id": "29a06d4f",
   "metadata": {},
   "outputs": [
    {
     "name": "stdout",
     "output_type": "stream",
     "text": [
      "\n",
      "Question 27: Create a dictionary with class values: {'list': list, 'dict': dict, 'set': set}\n",
      "{'list': <class 'list'>, 'dict': <class 'dict'>, 'set': <class 'set'>}\n"
     ]
    }
   ],
   "source": [
    "print(\"\\nQuestion 27: Create a dictionary with class values: {'list': list, 'dict': dict, 'set': set}\")\n",
    "# Your code here\n",
    "my_dict = {\n",
    "    'list': list,\n",
    "    'dict': dict,\n",
    "    'set': set\n",
    "}\n",
    "\n",
    "print(my_dict)"
   ]
  },
  {
   "cell_type": "code",
   "execution_count": 2,
   "id": "5169f371",
   "metadata": {},
   "outputs": [
    {
     "name": "stdout",
     "output_type": "stream",
     "text": [
      "\n",
      "Question 28: Create instances using class dictionary\n",
      "List: [1, 2, 3]\n",
      "Dict: {'a': 1, 'b': 2}\n",
      "Set: {10, 20, 30}\n"
     ]
    }
   ],
   "source": [
    "print(\"\\nQuestion 28: Create instances using class dictionary\")\n",
    "# Your code here\n",
    "classes = {\n",
    "    'list': list,\n",
    "    'dict': dict,\n",
    "    'set': set\n",
    "}\n",
    "\n",
    "my_list = classes['list']([1, 2, 3])\n",
    "my_dict = classes['dict'](a=1, b=2)\n",
    "my_set = classes['set']({10, 20, 30})\n",
    "\n",
    "print(\"List:\", my_list)\n",
    "print(\"Dict:\", my_dict)\n",
    "print(\"Set:\", my_set)\n"
   ]
  },
  {
   "cell_type": "code",
   "execution_count": 3,
   "id": "0aba59a6",
   "metadata": {},
   "outputs": [
    {
     "name": "stdout",
     "output_type": "stream",
     "text": [
      "\n",
      "Question 29: Create a dictionary with None values: {'a': None, 'b': None, 'c': None}\n",
      "{'a': None, 'b': None, 'c': None}\n"
     ]
    }
   ],
   "source": [
    "print(\"\\nQuestion 29: Create a dictionary with None values: {'a': None, 'b': None, 'c': None}\")\n",
    "# Your code \n",
    "a={'a': None, 'b': None, 'c': None}\n",
    "print(a)"
   ]
  },
  {
   "cell_type": "code",
   "execution_count": 7,
   "id": "8bfd4344",
   "metadata": {},
   "outputs": [
    {
     "name": "stdout",
     "output_type": "stream",
     "text": [
      "\n",
      "Question 30: Replace all None values with 0\n",
      "{'a': 0, 'b': 0, 'c': 0}\n"
     ]
    }
   ],
   "source": [
    "print(\"\\nQuestion 30: Replace all None values with 0\")\n",
    "# Your code here\n",
    "a={'a': None, 'b': None, 'c': None}\n",
    "for key in a:\n",
    "  if a[key] is None:\n",
    "    a[key]=0\n",
    "\n",
    "print(a)   \n",
    "    "
   ]
  },
  {
   "cell_type": "code",
   "execution_count": 8,
   "id": "b41bdd33",
   "metadata": {},
   "outputs": [
    {
     "name": "stdout",
     "output_type": "stream",
     "text": [
      "\n",
      "Question 31: Create a dictionary with boolean values: {'is_active': True, 'is_admin': False}\n",
      "{'is_active': True, 'is_admin': False}\n"
     ]
    }
   ],
   "source": [
    "print(\"\\nQuestion 31: Create a dictionary with boolean values: {'is_active': True, 'is_admin': False}\")\n",
    "# Your code here\n",
    "\n",
    "user_status = {\n",
    "    'is_active': True,\n",
    "    'is_admin': False\n",
    "}\n",
    "\n",
    "print(user_status)"
   ]
  },
  {
   "cell_type": "code",
   "execution_count": null,
   "id": "7c9f2ce2",
   "metadata": {},
   "outputs": [
    {
     "name": "stdout",
     "output_type": "stream",
     "text": [
      "\n",
      "Question 32: Count True values in boolean dictionary\n",
      "1\n"
     ]
    }
   ],
   "source": [
    "print(\"\\nQuestion 32: Count True values in boolean dictionary\")\n",
    "# Your code here\n",
    "user_status = {\n",
    "    'is_active': True,\n",
    "    'is_admin': False\n",
    "}\n",
    "\n",
    "count = 0\n",
    "for key in user_status:\n",
    "    if user_status[key] is True: \n",
    "        count += 1\n",
    "\n",
    "print(count)\n",
    "\n",
    "  "
   ]
  },
  {
   "cell_type": "code",
   "execution_count": 17,
   "id": "09419784",
   "metadata": {},
   "outputs": [
    {
     "name": "stdout",
     "output_type": "stream",
     "text": [
      "\n",
      "Question 33: Create a dictionary with complex numbers: {'z1': 3+4j, 'z2': 1+2j}\n",
      "{'z1': (3+4j), 'z2': (1+2j)}\n"
     ]
    }
   ],
   "source": [
    "print(\"\\nQuestion 33: Create a dictionary with complex numbers: {'z1': 3+4j, 'z2': 1+2j}\")\n",
    "# Your code here\n",
    "complex_numbers = {\n",
    "    'z1': 3 + 4j,\n",
    "    'z2': 1 + 2j\n",
    "}\n",
    "\n",
    "print(complex_numbers)\n"
   ]
  },
  {
   "cell_type": "code",
   "execution_count": 18,
   "id": "1343230d",
   "metadata": {},
   "outputs": [
    {
     "name": "stdout",
     "output_type": "stream",
     "text": [
      "\n",
      "Question 34: Find magnitude of each complex number\n",
      "Magnitude of z1: 5.0\n",
      "Magnitude of z2: 2.23606797749979\n"
     ]
    }
   ],
   "source": [
    "print(\"\\nQuestion 34: Find magnitude of each complex number\")\n",
    "# Your code here\n",
    "complex_numbers = {\n",
    "    'z1': 3 + 4j,\n",
    "    'z2': 1 + 2j\n",
    "}\n",
    "\n",
    "mag_z1 = abs(complex_numbers['z1']) \n",
    "mag_z2 = abs(complex_numbers['z2'])  \n",
    "\n",
    "print(\"Magnitude of z1:\", mag_z1)\n",
    "print(\"Magnitude of z2:\", mag_z2)\n"
   ]
  },
  {
   "cell_type": "code",
   "execution_count": 19,
   "id": "07d4d6c1",
   "metadata": {},
   "outputs": [
    {
     "name": "stdout",
     "output_type": "stream",
     "text": [
      "\n",
      "Question 35: Create a 4-level nested dictionary\n",
      "{'level1': {'level2': {'level3': {'level4': 'final value'}}}}\n"
     ]
    }
   ],
   "source": [
    "print(\"\\nQuestion 35: Create a 4-level nested dictionary\")\n",
    "# Your code here\n",
    "data = {\n",
    "    'level1': {\n",
    "        'level2': {\n",
    "            'level3': {\n",
    "                'level4': \"final value\"\n",
    "            }\n",
    "        }\n",
    "    }\n",
    "}\n",
    "\n",
    "print(data)"
   ]
  },
  {
   "cell_type": "code",
   "execution_count": 21,
   "id": "80b5705b",
   "metadata": {},
   "outputs": [
    {
     "name": "stdout",
     "output_type": "stream",
     "text": [
      "\n",
      "Question 36: Access deepest value in 4-level nested dictionary\n",
      "final value\n"
     ]
    }
   ],
   "source": [
    "print(\"\\nQuestion 36: Access deepest value in 4-level nested dictionary\")\n",
    "# Your code here\n",
    "data = {'level1': {'level2': {'level3': {'level4': \"final value\"}}}}\n",
    "a=data['level1']['level2']['level3']['level4']\n",
    "print(a)\n"
   ]
  },
  {
   "cell_type": "code",
   "execution_count": 22,
   "id": "6d188465",
   "metadata": {},
   "outputs": [
    {
     "name": "stdout",
     "output_type": "stream",
     "text": [
      "\n",
      "Question 37: Create a dictionary with range values: {'r1': range(3), 'r2': range(5)}\n",
      "{'r1': [0, 1, 2], 'r2': [0, 1, 2, 3, 4]}\n"
     ]
    }
   ],
   "source": [
    "print(\"\\nQuestion 37: Create a dictionary with range values: {'r1': range(3), 'r2': range(5)}\")\n",
    "# Your code here\n",
    "my_dict = {\n",
    "    'r1': [x for x in range(3)],\n",
    "    'r2': [x for x in range(5)]\n",
    "}\n",
    "\n",
    "print(my_dict)\n"
   ]
  },
  {
   "cell_type": "code",
   "execution_count": null,
   "id": "c31f6746",
   "metadata": {},
   "outputs": [
    {
     "name": "stdout",
     "output_type": "stream",
     "text": [
      "\n",
      "Question 38: Convert each range to list\n",
      "{'r1': [0, 1, 2], 'r2': [0, 1, 2, 3, 4]}\n",
      "<class 'dict'>\n"
     ]
    }
   ],
   "source": [
    "print(\"\\nQuestion 38: Convert each range to list\")\n",
    "# Your code here\n",
    "my_dict = {\n",
    "    'r1': [x for x in range(3)],\n",
    "    'r2': [x for x in range(5)]\n",
    "}\n",
    "\n",
    "print(my_dict)\n"
   ]
  },
  {
   "cell_type": "code",
   "execution_count": 25,
   "id": "3e3657ec",
   "metadata": {},
   "outputs": [
    {
     "name": "stdout",
     "output_type": "stream",
     "text": [
      "\n",
      "Question 39: Create a dictionary with generator values\n",
      "{'r1': <generator object <genexpr> at 0x00000187B2AFFE80>, 'r2': <generator object <genexpr> at 0x00000187B2AFFB80>}\n",
      "Values from r1: [0, 1, 2]\n",
      "Values from r2: [0, 1, 2, 3, 4]\n"
     ]
    }
   ],
   "source": [
    "print(\"\\nQuestion 39: Create a dictionary with generator values\")\n",
    "# Your code here\n",
    "my_dict = {\n",
    "    'r1': (x for x in range(3)),\n",
    "    'r2': (x for x in range(5))\n",
    "}\n",
    "print(my_dict)\n",
    "print(\"Values from r1:\", list(my_dict['r1']))\n",
    "print(\"Values from r2:\", list(my_dict['r2']))\n"
   ]
  },
  {
   "cell_type": "code",
   "execution_count": 26,
   "id": "d4f248ce",
   "metadata": {},
   "outputs": [
    {
     "name": "stdout",
     "output_type": "stream",
     "text": [
      "\n",
      "Question 40: Convert each generator to list\n",
      "{'r1': [0, 1, 2], 'r2': [0, 1, 2, 3, 4]}\n"
     ]
    }
   ],
   "source": [
    "print(\"\\nQuestion 40: Convert each generator to list\")\n",
    "# Your code here\n",
    "gen_dict = {\n",
    "    'r1': (x for x in range(3)),\n",
    "    'r2': (x for x in range(5))\n",
    "}\n",
    "for key in gen_dict:\n",
    "    gen_dict[key] = list(gen_dict[key])\n",
    "print(gen_dict)\n",
    "\n"
   ]
  },
  {
   "cell_type": "code",
   "execution_count": 3,
   "id": "259bd010",
   "metadata": {},
   "outputs": [
    {
     "name": "stdout",
     "output_type": "stream",
     "text": [
      "\n",
      "Question 41: Create a dictionary with iterator values\n",
      "{'numbers': <list_iterator object at 0x000001FDA55DF220>, 'letters': <list_iterator object at 0x000001FDA55DF8B0>}\n"
     ]
    }
   ],
   "source": [
    "print(\"\\nQuestion 41: Create a dictionary with iterator values\")\n",
    "# Your code here\n",
    "iter1 = iter([1, 2, 3])\n",
    "iter2 = iter(['a', 'b', 'c'])\n",
    "\n",
    "dict_with_iterators = {\n",
    "    'numbers': iter1,\n",
    "    'letters': iter2\n",
    "}\n",
    "\n",
    "print(dict_with_iterators)"
   ]
  },
  {
   "cell_type": "code",
   "execution_count": 4,
   "id": "f03a1924",
   "metadata": {},
   "outputs": [
    {
     "name": "stdout",
     "output_type": "stream",
     "text": [
      "\n",
      "Question 42: Extract all elements from each iterator\n",
      "[1, 2, 3]\n"
     ]
    }
   ],
   "source": [
    "print(\"\\nQuestion 42: Extract all elements from each iterator\")\n",
    "# Your code here\n",
    "iter1 = iter([1, 2, 3])\n",
    "dict_with_iterators = {'numbers': iter1}\n",
    "all_numbers = list(dict_with_iterators['numbers'])\n",
    "print(all_numbers)\n"
   ]
  },
  {
   "cell_type": "code",
   "execution_count": 2,
   "id": "b743daab",
   "metadata": {},
   "outputs": [
    {
     "name": "stdout",
     "output_type": "stream",
     "text": [
      "\n",
      "Question 43: Create a dictionary with nested lists: {'matrix': [[1, 2], [3, 4]], 'vector': [5, 6, 7]}\n",
      "{'matrix': [[1, 2], [3, 4]], 'vector': [5, 6, 7]}\n"
     ]
    }
   ],
   "source": [
    "print(\"\\nQuestion 43: Create a dictionary with nested lists: {'matrix': [[1, 2], [3, 4]], 'vector': [5, 6, 7]}\")\n",
    "# Your code here\n",
    "nested_dict = {\n",
    "    'matrix': [[1, 2], [3, 4]],\n",
    "    'vector': [5, 6, 7]\n",
    "}\n",
    "\n",
    "print(nested_dict)"
   ]
  },
  {
   "cell_type": "code",
   "execution_count": 1,
   "id": "dcd3b010",
   "metadata": {},
   "outputs": [
    {
     "name": "stdout",
     "output_type": "stream",
     "text": [
      "\n",
      "Question 44: Find sum of each nested list\n",
      "182\n"
     ]
    }
   ],
   "source": [
    "print(\"\\nQuestion 44: Find sum of each nested list\")\n",
    "# Your code here\n",
    "nested_dict = {\n",
    "    'group1': [10, 20, 30],\n",
    "    'group2': [5, 15, 25, 35],\n",
    "    'group3': [7, 14, 21]\n",
    "}\n",
    "\n",
    "s = 0\n",
    "for lst in nested_dict.values():  # iterate over lists, not keys\n",
    "    s += sum(lst)\n",
    "\n",
    "print(s)\n",
    " \n"
   ]
  },
  {
   "cell_type": "code",
   "execution_count": 11,
   "id": "9f184ba3",
   "metadata": {},
   "outputs": [
    {
     "name": "stdout",
     "output_type": "stream",
     "text": [
      "\n",
      "Question 45: Create a dictionary with nested dictionaries: {'config': {'db': {'host': 'localhost', 'port': 5432}}}\n",
      "{'config': {'db': {'host': 'localhost', 'port': 5432}}}\n"
     ]
    }
   ],
   "source": [
    "print(\"\\nQuestion 45: Create a dictionary with nested dictionaries: {'config': {'db': {'host': 'localhost', 'port': 5432}}}\")\n",
    "# Your code here\n",
    "a= {'config':\n",
    "     {'db':\n",
    "       {'host': 'localhost', \n",
    "        'port': 5432\n",
    "        }\n",
    "      }\n",
    "    }\n",
    "print(a)"
   ]
  },
  {
   "cell_type": "code",
   "execution_count": 9,
   "id": "962d9920",
   "metadata": {},
   "outputs": [
    {
     "name": "stdout",
     "output_type": "stream",
     "text": [
      "\n",
      "Question 46: Access database port from nested configuration\n",
      "Database port: 5432\n"
     ]
    }
   ],
   "source": [
    "print(\"\\nQuestion 46: Access database port from nested configuration\")\n",
    "# Your code \n",
    "config = {\n",
    "    'database': {'host': 'localhost','port': 5432,'user': 'admin','password': 'secret'},\n",
    "    'logging': {'level': 'DEBUG'}\n",
    "}\n",
    "port = config['database']['port']\n",
    "print(\"Database port:\", port)"
   ]
  },
  {
   "cell_type": "code",
   "execution_count": 5,
   "id": "e0393345",
   "metadata": {},
   "outputs": [
    {
     "name": "stdout",
     "output_type": "stream",
     "text": [
      "\n",
      "Question 47: Create a dictionary with nested tuples: {'points': ((1, 2), (3, 4)), 'rgb': ((255, 0, 0), (0, 255, 0))}\n",
      "{'points': ((1, 2), (3, 4)), 'rgb': ((255, 0, 0), (0, 255, 0))}\n"
     ]
    }
   ],
   "source": [
    "print(\"\\nQuestion 47: Create a dictionary with nested tuples: {'points': ((1, 2), (3, 4)), 'rgb': ((255, 0, 0), (0, 255, 0))}\")\n",
    "# Your code here\n",
    "a={'points': ((1, 2), (3, 4)), 'rgb': ((255, 0, 0), (0, 255, 0))}\n",
    "print(a)"
   ]
  },
  {
   "cell_type": "code",
   "execution_count": 8,
   "id": "97fc136f",
   "metadata": {},
   "outputs": [
    {
     "name": "stdout",
     "output_type": "stream",
     "text": [
      "\n",
      "Question 48: Extract first point coordinates\n",
      "First point coordinates: {'x': 5, 'y': 10}\n"
     ]
    }
   ],
   "source": [
    "print(\"\\nQuestion 48: Extract first point coordinates\")\n",
    "# Your code here\n",
    "points = [{'x': 5, 'y': 10}, {'x': 15, 'y': 20}, {'x': 25, 'y': 30}]\n",
    "first_point = points[0]\n",
    "print(\"First point coordinates:\", first_point)"
   ]
  },
  {
   "cell_type": "code",
   "execution_count": null,
   "id": "a42bd170",
   "metadata": {},
   "outputs": [
    {
     "name": "stdout",
     "output_type": "stream",
     "text": [
      "\n",
      "Question 49: Create a dictionary with nested sets: {'groups': {{1, 2, 3}, {4, 5, 6}}, 'categories': {{'a', 'b'}, {'c', 'd'}}}\n",
      "{'groups': [{1, 2, 3}, {4, 5, 6}], 'categories': [{'a', 'b'}, {'d', 'c'}]}\n"
     ]
    }
   ],
   "source": [
    "print(\"\\nQuestion 49: Create a dictionary with nested sets: {'groups': {{1, 2, 3}, {4, 5, 6}}, 'categories': {{'a', 'b'}, {'c', 'd'}}}\")\n",
    "# Your code here\n",
    "nested_dict = {\n",
    "    'groups': [{1, 2, 3}, {4, 5, 6}],\n",
    "    'categories': [{'a', 'b'}, {'c', 'd'}]\n",
    "}\n",
    "print(nested_dict)"
   ]
  },
  {
   "cell_type": "code",
   "execution_count": 2,
   "id": "22b6f8d4",
   "metadata": {},
   "outputs": [
    {
     "name": "stdout",
     "output_type": "stream",
     "text": [
      "\n",
      "Question 50: Find union of all nested sets\n",
      "Union of all nested sets: {1, 2, 3, 4, 5, 6}\n"
     ]
    }
   ],
   "source": [
    "print(\"\\nQuestion 50: Find union of all nested sets\")\n",
    "# Your code here \n",
    "nested_sets = [{1, 2, 3}, {3, 4, 5}, {5, 6}]\n",
    "union_set = set()\n",
    "for s in nested_sets:\n",
    "    union_set = union_set.union(s)\n",
    "print(\"Union of all nested sets:\", union_set)\n"
   ]
  }
 ],
 "metadata": {
  "kernelspec": {
   "display_name": "Python 3",
   "language": "python",
   "name": "python3"
  },
  "language_info": {
   "codemirror_mode": {
    "name": "ipython",
    "version": 3
   },
   "file_extension": ".py",
   "mimetype": "text/x-python",
   "name": "python",
   "nbconvert_exporter": "python",
   "pygments_lexer": "ipython3",
   "version": "3.12.0"
  }
 },
 "nbformat": 4,
 "nbformat_minor": 5
}
