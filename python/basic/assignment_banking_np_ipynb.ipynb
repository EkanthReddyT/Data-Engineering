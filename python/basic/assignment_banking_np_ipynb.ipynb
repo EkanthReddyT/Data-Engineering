{
 "cells": [
  {
   "cell_type": "code",
   "execution_count": 1,
   "id": "b9b8f531",
   "metadata": {},
   "outputs": [
    {
     "name": "stdout",
     "output_type": "stream",
     "text": [
      "\n",
      "ORIGINAL BANKING DATA:\n",
      "[[2001.   2540.75  720.     15.      5.  ]\n",
      " [2002.   3890.5   650.      8.      3.  ]\n",
      " [2003.   1200.    580.     20.      2.  ]\n",
      " [2004.   8750.25  810.      5.     10.  ]\n",
      " [2005.   4320.1   700.     18.      6.  ]\n",
      " [2006.   2980.4   690.     12.      4.  ]\n",
      " [2007.   6500.    750.      9.      7.  ]\n",
      " [2008.    780.65  610.     25.      1.  ]\n",
      " [2009.   9420.9   840.      6.     12.  ]\n",
      " [2010.   5200.35  730.     14.      8.  ]]\n",
      "\n",
      "Data shape: (10, 5)\n",
      "Data type: float64\n"
     ]
    }
   ],
   "source": [
    "import numpy as np\n",
    "\n",
    "banking_data = np.array([\n",
    "    [2001, 2540.75, 720, 15, 5],\n",
    "    [2002, 3890.50, 650, 8, 3],\n",
    "    [2003, 1200.00, 580, 20, 2],\n",
    "    [2004, 8750.25, 810, 5, 10],\n",
    "    [2005, 4320.10, 700, 18, 6],\n",
    "    [2006, 2980.40, 690, 12, 4],\n",
    "    [2007, 6500.00, 750, 9, 7],\n",
    "    [2008, 780.65, 610, 25, 1],\n",
    "    [2009, 9420.90, 840, 6, 12],\n",
    "    [2010, 5200.35, 730, 14, 8]\n",
    "], dtype=float)\n",
    "\n",
    "np.set_printoptions(suppress=True, precision=2)\n",
    "\n",
    "print(\"\\nORIGINAL BANKING DATA:\")\n",
    "print(banking_data)\n",
    "print(f\"\\nData shape: {banking_data.shape}\")\n",
    "print(f\"Data type: {banking_data.dtype}\")\n",
    "\n",
    "\n"
   ]
  },
  {
   "cell_type": "code",
   "execution_count": 8,
   "id": "13080487",
   "metadata": {},
   "outputs": [
    {
     "name": "stdout",
     "output_type": "stream",
     "text": [
      "[[1. 0. 0. 0.]\n",
      " [0. 1. 0. 0.]\n",
      " [0. 0. 1. 0.]\n",
      " [0. 0. 0. 1.]]\n"
     ]
    }
   ],
   "source": [
    "# Questions\n",
    "# Question 1: Array Creation and Manipulation\n",
    "# Q1.1: Create a 4x4 identity matrix using np.eye()\n",
    "s=np.eye(4)\n",
    "print(s)"
   ]
  },
  {
   "cell_type": "code",
   "execution_count": 9,
   "id": "13fc52b7",
   "metadata": {},
   "outputs": [
    {
     "name": "stdout",
     "output_type": "stream",
     "text": [
      "[0. 0. 0. 0. 0. 0. 0. 0.]\n"
     ]
    }
   ],
   "source": [
    "\n",
    "# Q1.2: Create an array of 8 zeros using np.zeros()\n",
    "z=np.zeros(8)\n",
    "print(z)"
   ]
  },
  {
   "cell_type": "code",
   "execution_count": 10,
   "id": "a4912ca1",
   "metadata": {},
   "outputs": [
    {
     "name": "stdout",
     "output_type": "stream",
     "text": [
      "[1. 1. 1. 1. 1. 1.]\n"
     ]
    }
   ],
   "source": [
    "\n",
    "# Q1.3: Create an array of 6 ones using np.ones()\n",
    "a=np.ones(6)\n",
    "print(a)"
   ]
  },
  {
   "cell_type": "code",
   "execution_count": 11,
   "id": "8140c1ce",
   "metadata": {},
   "outputs": [
    {
     "name": "stdout",
     "output_type": "stream",
     "text": [
      "[ 0  1  2  3  4  5  6  7  8  9 10 11 12 13 14 15]\n"
     ]
    }
   ],
   "source": [
    "\n",
    "# Q1.4: Create an array with values from 0 to 15 using np.arange()\n",
    "r=np.arange(16)\n",
    "print(r)"
   ]
  },
  {
   "cell_type": "code",
   "execution_count": 12,
   "id": "61d4817f",
   "metadata": {},
   "outputs": [
    {
     "name": "stdout",
     "output_type": "stream",
     "text": [
      "[  0.    14.29  28.57  42.86  57.14  71.43  85.71 100.  ]\n"
     ]
    }
   ],
   "source": [
    "\n",
    "# Q1.5: Create an array with 8 evenly spaced values from 0 to 100 using np.linspace()\n",
    "s=np.linspace(0,100,8)\n",
    "print(s)"
   ]
  },
  {
   "cell_type": "code",
   "execution_count": 15,
   "id": "d18927b8",
   "metadata": {},
   "outputs": [
    {
     "name": "stdout",
     "output_type": "stream",
     "text": [
      "(10, 5)\n"
     ]
    }
   ],
   "source": [
    "# Question 2: Array Attributes and Information\n",
    "# Q2.1: What is the shape of the banking_data array?\n",
    "s=banking_data.shape\n",
    "print(s)"
   ]
  },
  {
   "cell_type": "code",
   "execution_count": null,
   "id": "1520127e",
   "metadata": {},
   "outputs": [
    {
     "name": "stdout",
     "output_type": "stream",
     "text": [
      "float64\n"
     ]
    }
   ],
   "source": [
    "\n",
    "# Q2.2: What is the data type of the banking_data array?\n",
    "# s=type(banking_data)\n",
    "s=banking_data.dtype\n",
    "print(s)"
   ]
  },
  {
   "cell_type": "code",
   "execution_count": null,
   "id": "d6b6c092",
   "metadata": {},
   "outputs": [
    {
     "name": "stdout",
     "output_type": "stream",
     "text": [
      "Object `array` not found.\n",
      "50\n"
     ]
    }
   ],
   "source": [
    "# Q2.3: What is the size (total number of elements) of the banking_data array?\n",
    "s=banking_data.size\n",
    "print(s)"
   ]
  },
  {
   "cell_type": "code",
   "execution_count": 19,
   "id": "445faabd",
   "metadata": {},
   "outputs": [
    {
     "name": "stdout",
     "output_type": "stream",
     "text": [
      "2\n"
     ]
    }
   ],
   "source": [
    "# Q2.4: What is the number of dimensions of the banking_data array?\n",
    "d=banking_data.ndim\n",
    "print(d)"
   ]
  },
  {
   "cell_type": "code",
   "execution_count": 20,
   "id": "e0cc566b",
   "metadata": {},
   "outputs": [
    {
     "name": "stdout",
     "output_type": "stream",
     "text": [
      "400\n"
     ]
    }
   ],
   "source": [
    "# Q2.5: What is the memory size of the banking_data array in bytes?\n",
    "s=banking_data.nbytes\n",
    "print(s)"
   ]
  },
  {
   "cell_type": "code",
   "execution_count": 29,
   "id": "c470aeb7",
   "metadata": {},
   "outputs": [
    {
     "name": "stdout",
     "output_type": "stream",
     "text": [
      "[2001.   2540.75  720.     15.      5.  ]\n"
     ]
    }
   ],
   "source": [
    "# Question 3: Indexing and Slicing\n",
    "# Q3.1: Extract the first row of banking_data\n",
    "first_row=banking_data[0]\n",
    "print(first_row)"
   ]
  },
  {
   "cell_type": "code",
   "execution_count": 31,
   "id": "95977e2b",
   "metadata": {},
   "outputs": [
    {
     "name": "stdout",
     "output_type": "stream",
     "text": [
      "[2010.   5200.35  730.     14.      8.  ]\n"
     ]
    }
   ],
   "source": [
    "# Q3.2: Extract the last row of banking_data\n",
    "last_row=banking_data[-1]\n",
    "print(last_row)"
   ]
  },
  {
   "cell_type": "code",
   "execution_count": 33,
   "id": "9988d2b2",
   "metadata": {},
   "outputs": [
    {
     "name": "stdout",
     "output_type": "stream",
     "text": [
      "[2540.75 3890.5  1200.   8750.25 4320.1  2980.4  6500.    780.65 9420.9\n",
      " 5200.35]\n"
     ]
    }
   ],
   "source": [
    "\n",
    "# Q3.3: Extract the Account_Balance column (column index 1)\n",
    "s=banking_data[:,1]\n",
    "print(s)\n"
   ]
  },
  {
   "cell_type": "code",
   "execution_count": 34,
   "id": "b111ce8c",
   "metadata": {},
   "outputs": [
    {
     "name": "stdout",
     "output_type": "stream",
     "text": [
      "[[2001.   2540.75  720.  ]\n",
      " [2002.   3890.5   650.  ]\n",
      " [2003.   1200.    580.  ]\n",
      " [2004.   8750.25  810.  ]]\n"
     ]
    }
   ],
   "source": [
    "# Q3.4: Extract the first 4 rows and first 3 columns\n",
    "s=banking_data[:4,:3]\n",
    "print(s)"
   ]
  },
  {
   "cell_type": "code",
   "execution_count": 35,
   "id": "6b149161",
   "metadata": {},
   "outputs": [
    {
     "name": "stdout",
     "output_type": "stream",
     "text": [
      "[[2004.   8750.25  810.      5.     10.  ]\n",
      " [2005.   4320.1   700.     18.      6.  ]\n",
      " [2006.   2980.4   690.     12.      4.  ]\n",
      " [2007.   6500.    750.      9.      7.  ]\n",
      " [2008.    780.65  610.     25.      1.  ]]\n"
     ]
    }
   ],
   "source": [
    "# Q3.5: Extract rows 3 to 7 (inclusive)\n",
    "r=banking_data[3:8]\n",
    "print(r)"
   ]
  },
  {
   "cell_type": "code",
   "execution_count": 3,
   "id": "9502f2ac",
   "metadata": {},
   "outputs": [
    {
     "name": "stdout",
     "output_type": "stream",
     "text": [
      "45583.90\n"
     ]
    }
   ],
   "source": [
    "# Question 4: Mathematical Operations\n",
    "# Q4.1: Calculate the sum of all account balances\n",
    "s=np.sum(banking_data[:,1])\n",
    "print(f\"{s:.2f}\")"
   ]
  },
  {
   "cell_type": "code",
   "execution_count": 4,
   "id": "64e8a4a1",
   "metadata": {},
   "outputs": [
    {
     "name": "stdout",
     "output_type": "stream",
     "text": [
      "4558.39\n"
     ]
    }
   ],
   "source": [
    "\n",
    "# Q4.2: Calculate the mean account balance\n",
    "m=np.mean(banking_data[:,1])\n",
    "print(m)"
   ]
  },
  {
   "cell_type": "code",
   "execution_count": 5,
   "id": "e1e7fdf8",
   "metadata": {},
   "outputs": [
    {
     "name": "stdout",
     "output_type": "stream",
     "text": [
      "2793.054626730383\n"
     ]
    }
   ],
   "source": [
    "\n",
    "# Q4.3: Calculate the standard deviation of account balances\n",
    "s=np.std(banking_data[:,1])\n",
    "print(s)"
   ]
  },
  {
   "cell_type": "code",
   "execution_count": 6,
   "id": "45101ad9",
   "metadata": {},
   "outputs": [
    {
     "name": "stdout",
     "output_type": "stream",
     "text": [
      "7801154.147899998\n"
     ]
    }
   ],
   "source": [
    "# Q4.4: Calculate the variance of account balances\n",
    "v=np.var(banking_data[:,1])\n",
    "print(v)"
   ]
  },
  {
   "cell_type": "code",
   "execution_count": 7,
   "id": "9e4225ad",
   "metadata": {},
   "outputs": [
    {
     "name": "stdout",
     "output_type": "stream",
     "text": [
      "4105.3\n"
     ]
    }
   ],
   "source": [
    "# Q4.5: Calculate the median account balance\n",
    "m=np.median(banking_data[:,1])\n",
    "print(m)"
   ]
  },
  {
   "cell_type": "code",
   "execution_count": 6,
   "id": "45712693",
   "metadata": {},
   "outputs": [
    {
     "name": "stdout",
     "output_type": "stream",
     "text": [
      "9420.9\n",
      "780.65\n"
     ]
    }
   ],
   "source": [
    "# Question 5: Statistical Functions\n",
    "# Q5.1: Find the minimum and maximum account balances\n",
    "ma=np.max(banking_data[:,1])\n",
    "mi=np.min(banking_data[:,1])\n",
    "print(ma)\n",
    "print(mi)"
   ]
  },
  {
   "cell_type": "code",
   "execution_count": 7,
   "id": "036ec265",
   "metadata": {},
   "outputs": [
    {
     "name": "stdout",
     "output_type": "stream",
     "text": [
      "840.0\n",
      "580.0\n"
     ]
    }
   ],
   "source": [
    "# Q5.2: Find the minimum and maximum credit scores\n",
    "ma=np.max(banking_data[:,2])\n",
    "mi=np.min(banking_data[:,2])\n",
    "print(ma)\n",
    "print(mi)"
   ]
  },
  {
   "cell_type": "code",
   "execution_count": 10,
   "id": "fdb6f2b5",
   "metadata": {},
   "outputs": [
    {
     "name": "stdout",
     "output_type": "stream",
     "text": [
      "[2650.66 4105.3  6175.09]\n"
     ]
    }
   ],
   "source": [
    "# Q5.3: Calculate the percentile values for account balances (25th, 50th, 75th)\n",
    "percentiles = np.percentile(banking_data[:, 1], [25, 50, 75])\n",
    "print(percentiles)"
   ]
  },
  {
   "cell_type": "code",
   "execution_count": 11,
   "id": "90adeba4",
   "metadata": {},
   "outputs": [
    {
     "name": "stdout",
     "output_type": "stream",
     "text": [
      "0.9293733219708898\n"
     ]
    }
   ],
   "source": [
    "\n",
    "# Q5.4: Calculate the correlation between account balance and credit score\n",
    "correlation = np.corrcoef(banking_data[:, 1], banking_data[:, 2])[0, 1]\n",
    "print(correlation)"
   ]
  },
  {
   "cell_type": "code",
   "execution_count": 13,
   "id": "190a0160",
   "metadata": {},
   "outputs": [
    {
     "name": "stdout",
     "output_type": "stream",
     "text": [
      "223335.58888888886\n"
     ]
    }
   ],
   "source": [
    "# Q5.5: Calculate the covariance between account balance and credit score\n",
    "cv=np.cov(banking_data[:, 1], banking_data[:, 2])[0, 1]\n",
    "print(cv)"
   ]
  },
  {
   "cell_type": "code",
   "execution_count": 14,
   "id": "fa5d6351",
   "metadata": {},
   "outputs": [
    {
     "name": "stdout",
     "output_type": "stream",
     "text": [
      "[[2001.   2540.75  720.     15.      5.   2002.   3890.5   650.      8.\n",
      "     3.  ]\n",
      " [2003.   1200.    580.     20.      2.   2004.   8750.25  810.      5.\n",
      "    10.  ]\n",
      " [2005.   4320.1   700.     18.      6.   2006.   2980.4   690.     12.\n",
      "     4.  ]\n",
      " [2007.   6500.    750.      9.      7.   2008.    780.65  610.     25.\n",
      "     1.  ]\n",
      " [2009.   9420.9   840.      6.     12.   2010.   5200.35  730.     14.\n",
      "     8.  ]]\n"
     ]
    }
   ],
   "source": [
    "# Question 6: Array Reshaping and Manipulation\n",
    "# Q6.1: Reshape the banking_data to 5 rows × 10 columns\n",
    "reshape=banking_data.reshape(5,10)\n",
    "print(reshape)"
   ]
  },
  {
   "cell_type": "code",
   "execution_count": 16,
   "id": "e1b7c120",
   "metadata": {},
   "outputs": [
    {
     "name": "stdout",
     "output_type": "stream",
     "text": [
      "[2001.   2540.75  720.     15.      5.   2002.   3890.5   650.      8.\n",
      "    3.   2003.   1200.    580.     20.      2.   2004.   8750.25  810.\n",
      "    5.     10.   2005.   4320.1   700.     18.      6.   2006.   2980.4\n",
      "  690.     12.      4.   2007.   6500.    750.      9.      7.   2008.\n",
      "  780.65  610.     25.      1.   2009.   9420.9   840.      6.     12.\n",
      " 2010.   5200.35  730.     14.      8.  ]\n"
     ]
    }
   ],
   "source": [
    "# Q6.2: Flatten the banking_data to a 1D array\n",
    "flot=banking_data.flatten()\n",
    "print(flot)"
   ]
  },
  {
   "cell_type": "code",
   "execution_count": 17,
   "id": "5c8da254",
   "metadata": {},
   "outputs": [
    {
     "name": "stdout",
     "output_type": "stream",
     "text": [
      "[[2001.   2002.   2003.   2004.   2005.   2006.   2007.   2008.   2009.\n",
      "  2010.  ]\n",
      " [2540.75 3890.5  1200.   8750.25 4320.1  2980.4  6500.    780.65 9420.9\n",
      "  5200.35]\n",
      " [ 720.    650.    580.    810.    700.    690.    750.    610.    840.\n",
      "   730.  ]\n",
      " [  15.      8.     20.      5.     18.     12.      9.     25.      6.\n",
      "    14.  ]\n",
      " [   5.      3.      2.     10.      6.      4.      7.      1.     12.\n",
      "     8.  ]]\n"
     ]
    }
   ],
   "source": [
    "# Q6.3: Transpose the banking_data\n",
    "t=banking_data.T\n",
    "print(t)"
   ]
  },
  {
   "cell_type": "code",
   "execution_count": 19,
   "id": "f4c2099f",
   "metadata": {},
   "outputs": [
    {
     "name": "stdout",
     "output_type": "stream",
     "text": [
      "[array([[2001.  , 2540.75,  720.  ,   15.  ,    5.  ],\n",
      "       [2002.  , 3890.5 ,  650.  ,    8.  ,    3.  ],\n",
      "       [2003.  , 1200.  ,  580.  ,   20.  ,    2.  ],\n",
      "       [2004.  , 8750.25,  810.  ,    5.  ,   10.  ],\n",
      "       [2005.  , 4320.1 ,  700.  ,   18.  ,    6.  ]]), array([[2006.  , 2980.4 ,  690.  ,   12.  ,    4.  ],\n",
      "       [2007.  , 6500.  ,  750.  ,    9.  ,    7.  ],\n",
      "       [2008.  ,  780.65,  610.  ,   25.  ,    1.  ],\n",
      "       [2009.  , 9420.9 ,  840.  ,    6.  ,   12.  ],\n",
      "       [2010.  , 5200.35,  730.  ,   14.  ,    8.  ]])]\n"
     ]
    }
   ],
   "source": [
    "# Q6.4: Split the banking_data into 2 equal parts vertically\n",
    "vs=np.vsplit(banking_data,2)\n",
    "print(vs)"
   ]
  },
  {
   "cell_type": "code",
   "execution_count": 32,
   "id": "ccaaf16f",
   "metadata": {},
   "outputs": [
    {
     "name": "stdout",
     "output_type": "stream",
     "text": [
      "[[2001.   2540.75]\n",
      " [2002.   3890.5 ]\n",
      " [2003.   1200.  ]\n",
      " [2004.   8750.25]\n",
      " [2005.   4320.1 ]\n",
      " [2006.   2980.4 ]\n",
      " [2007.   6500.  ]\n",
      " [2008.    780.65]\n",
      " [2009.   9420.9 ]\n",
      " [2010.   5200.35]]\n",
      "[[720.  15.   5.]\n",
      " [650.   8.   3.]\n",
      " [580.  20.   2.]\n",
      " [810.   5.  10.]\n",
      " [700.  18.   6.]\n",
      " [690.  12.   4.]\n",
      " [750.   9.   7.]\n",
      " [610.  25.   1.]\n",
      " [840.   6.  12.]\n",
      " [730.  14.   8.]]\n"
     ]
    }
   ],
   "source": [
    "#Q6.5: Split the banking_data into 2 equal parts horizontally\n",
    "hs=np.hsplit(banking_data,[2])\n",
    "# hs=np.array_split(banking_data,2,axis=1)\n",
    "print(hs[0])\n",
    "print(hs[1])"
   ]
  },
  {
   "cell_type": "code",
   "execution_count": null,
   "id": "2c5dda98",
   "metadata": {},
   "outputs": [
    {
     "name": "stdout",
     "output_type": "stream",
     "text": [
      "[[2004.   8750.25  810.      5.     10.  ]\n",
      " [2007.   6500.    750.      9.      7.  ]\n",
      " [2009.   9420.9   840.      6.     12.  ]\n",
      " [2010.   5200.35  730.     14.      8.  ]]\n"
     ]
    }
   ],
   "source": [
    "# Question 7: Logical Operations and Filtering\n",
    "# Q7.1: Find customers with account balance greater than $5000\n",
    "c=banking_data[banking_data[:,1]>5000]\n",
    "print(c)"
   ]
  },
  {
   "cell_type": "code",
   "execution_count": null,
   "id": "5e065be4",
   "metadata": {},
   "outputs": [
    {
     "name": "stdout",
     "output_type": "stream",
     "text": [
      "[[2001.   2540.75  720.     15.      5.  ]\n",
      " [2004.   8750.25  810.      5.     10.  ]\n",
      " [2007.   6500.    750.      9.      7.  ]\n",
      " [2009.   9420.9   840.      6.     12.  ]\n",
      " [2010.   5200.35  730.     14.      8.  ]]\n"
     ]
    }
   ],
   "source": [
    "# Q7.2: Find customers with credit score greater than 700\n",
    "cs=banking_data[banking_data[:,2]>700]\n",
    "print(cs)"
   ]
  },
  {
   "cell_type": "code",
   "execution_count": 54,
   "id": "9fe0d405",
   "metadata": {},
   "outputs": [
    {
     "name": "stdout",
     "output_type": "stream",
     "text": [
      "[[2001.   2540.75  720.     15.      5.  ]\n",
      " [2010.   5200.35  730.     14.      8.  ]]\n"
     ]
    }
   ],
   "source": [
    "# Q7.3: Find customers with transaction count greater than 10 AND credit score less than 700\n",
    "tc=banking_data[(banking_data[:,3]>10) & (banking_data[:,2]>700)]\n",
    "print(tc)"
   ]
  },
  {
   "cell_type": "code",
   "execution_count": 58,
   "id": "2d14169d",
   "metadata": {},
   "outputs": [
    {
     "name": "stdout",
     "output_type": "stream",
     "text": [
      "3\n"
     ]
    }
   ],
   "source": [
    "# Q7.4: Count how many customers have account balance between $10,000 and $100,000\n",
    "count =np.sum((banking_data[:, 1] >= 5000) & (banking_data[:, 1] <= 9000))\n",
    "print(count)"
   ]
  },
  {
   "cell_type": "code",
   "execution_count": 63,
   "id": "989c5ae5",
   "metadata": {},
   "outputs": [
    {
     "name": "stdout",
     "output_type": "stream",
     "text": [
      "7\n"
     ]
    }
   ],
   "source": [
    "# Q7.5: Find the index of the customer with the highest credit score\n",
    "hs=np.argmax(banking_data[:,3])\n",
    "print(hs)"
   ]
  },
  {
   "cell_type": "code",
   "execution_count": 5,
   "id": "8b95f155",
   "metadata": {},
   "outputs": [
    {
     "name": "stdout",
     "output_type": "stream",
     "text": [
      "[[2008.    780.65  610.     25.      1.  ]\n",
      " [2003.   1200.    580.     20.      2.  ]\n",
      " [2001.   2540.75  720.     15.      5.  ]\n",
      " [2006.   2980.4   690.     12.      4.  ]\n",
      " [2002.   3890.5   650.      8.      3.  ]\n",
      " [2005.   4320.1   700.     18.      6.  ]\n",
      " [2010.   5200.35  730.     14.      8.  ]\n",
      " [2007.   6500.    750.      9.      7.  ]\n",
      " [2004.   8750.25  810.      5.     10.  ]\n",
      " [2009.   9420.9   840.      6.     12.  ]]\n"
     ]
    }
   ],
   "source": [
    "# Question 8: Sorting and Searching\n",
    "# Q8.1: Sort the banking_data by account balance (ascending)\n",
    "s=banking_data[banking_data[:,1].argsort()]\n",
    "print(s)"
   ]
  },
  {
   "cell_type": "code",
   "execution_count": 6,
   "id": "c2680bd8",
   "metadata": {},
   "outputs": [
    {
     "name": "stdout",
     "output_type": "stream",
     "text": [
      "[[2009.   9420.9   840.      6.     12.  ]\n",
      " [2004.   8750.25  810.      5.     10.  ]\n",
      " [2010.   5200.35  730.     14.      8.  ]\n",
      " [2006.   2980.4   690.     12.      4.  ]\n",
      " [2007.   6500.    750.      9.      7.  ]\n",
      " [2001.   2540.75  720.     15.      5.  ]\n",
      " [2002.   3890.5   650.      8.      3.  ]\n",
      " [2005.   4320.1   700.     18.      6.  ]\n",
      " [2008.    780.65  610.     25.      1.  ]\n",
      " [2003.   1200.    580.     20.      2.  ]]\n"
     ]
    }
   ],
   "source": [
    "\n",
    "# Q8.2: Sort the banking_data by credit score (descending)\n",
    "s=banking_data[-banking_data[:,2].argsort()]\n",
    "print(s)"
   ]
  },
  {
   "cell_type": "code",
   "execution_count": 7,
   "id": "56e56cc6",
   "metadata": {},
   "outputs": [
    {
     "name": "stdout",
     "output_type": "stream",
     "text": [
      "[7 2 1 5 0 4 6 9 3 8]\n"
     ]
    }
   ],
   "source": [
    "# Q8.3: Find the indices that would sort the array by years active\n",
    "s=np.argsort(banking_data[:,4])\n",
    "print(s)"
   ]
  },
  {
   "cell_type": "code",
   "execution_count": 14,
   "id": "b1f6b233",
   "metadata": {},
   "outputs": [
    {
     "name": "stdout",
     "output_type": "stream",
     "text": [
      "3\n"
     ]
    }
   ],
   "source": [
    "# Q8.4: Find the customer with the second highest account balance\n",
    "s=np.argsort(banking_data[:,1])\n",
    "ss=s[-2]\n",
    "print(ss)"
   ]
  },
  {
   "cell_type": "code",
   "execution_count": 15,
   "id": "be1d1543",
   "metadata": {},
   "outputs": [
    {
     "name": "stdout",
     "output_type": "stream",
     "text": [
      "3\n"
     ]
    }
   ],
   "source": [
    "\n",
    "# Q8.5: Find the customer with the lowest transaction count\n",
    "l=np.argmin(banking_data[:,3])\n",
    "print(l)"
   ]
  },
  {
   "cell_type": "code",
   "execution_count": 16,
   "id": "b2a0f281",
   "metadata": {},
   "outputs": [
    {
     "name": "stdout",
     "output_type": "stream",
     "text": [
      "[[2001.   2540.75  720.     15.      5.  ]\n",
      " [2002.   3890.5   650.      8.      3.  ]\n",
      " [2003.   1200.    580.     20.      2.  ]\n",
      " [2004.   8750.25  810.      5.     10.  ]\n",
      " [2005.   4320.1   700.     18.      6.  ]\n",
      " [2006.   2980.4   690.     12.      4.  ]\n",
      " [2007.   6500.    750.      9.      7.  ]\n",
      " [2008.    780.65  610.     25.      1.  ]\n",
      " [2009.   9420.9   840.      6.     12.  ]\n",
      " [2010.   5200.35  730.     14.      8.  ]]\n"
     ]
    }
   ],
   "source": [
    "# Question 9: Mathematical Functions\n",
    "# Q9.1: Calculate the absolute values of all elements\n",
    "a=np.abs(banking_data)\n",
    "print(a)"
   ]
  },
  {
   "cell_type": "code",
   "execution_count": 17,
   "id": "b1d3c530",
   "metadata": {},
   "outputs": [
    {
     "name": "stdout",
     "output_type": "stream",
     "text": [
      "[50.41 62.37 34.64 93.54 65.73 54.59 80.62 27.94 97.06 72.11]\n"
     ]
    }
   ],
   "source": [
    "# Q9.2: Calculate the square root of all account balances\n",
    "s=np.sqrt(banking_data[:,1])\n",
    "print(s)"
   ]
  },
  {
   "cell_type": "code",
   "execution_count": 19,
   "id": "56abb3ea",
   "metadata": {},
   "outputs": [
    {
     "name": "stdout",
     "output_type": "stream",
     "text": [
      "[518400. 422500. 336400. 656100. 490000. 476100. 562500. 372100. 705600.\n",
      " 532900.]\n"
     ]
    }
   ],
   "source": [
    "# Q9.3: Calculate the square of all credit scores\n",
    "s=np.square(banking_data[:,2])\n",
    "print(s)"
   ]
  },
  {
   "cell_type": "code",
   "execution_count": 20,
   "id": "bf8a4123",
   "metadata": {},
   "outputs": [
    {
     "name": "stdout",
     "output_type": "stream",
     "text": [
      "[3.27e+06 2.98e+03 4.85e+08 1.48e+02 6.57e+07 1.63e+05 8.10e+03 7.20e+10\n",
      " 4.03e+02 1.20e+06]\n"
     ]
    }
   ],
   "source": [
    "# Q9.4: Calculate the exponential of all transaction counts\n",
    "e=np.exp(banking_data[:,3])\n",
    "print(e)"
   ]
  },
  {
   "cell_type": "code",
   "execution_count": 21,
   "id": "3ada35fd",
   "metadata": {},
   "outputs": [
    {
     "name": "stdout",
     "output_type": "stream",
     "text": [
      "[7.84 8.27 7.09 9.08 8.37 8.   8.78 6.66 9.15 8.56]\n"
     ]
    }
   ],
   "source": [
    "# Q9.5: Calculate the natural logarithm of all account balances\n",
    "n=np.log(banking_data[:,1])\n",
    "print(n)"
   ]
  },
  {
   "cell_type": "code",
   "execution_count": null,
   "id": "dd8982bb",
   "metadata": {},
   "outputs": [
    {
     "name": "stdout",
     "output_type": "stream",
     "text": [
      "[ 2540.75  6431.25  7631.25 16381.5  20701.6  23682.   30182.   30962.65\n",
      " 40383.55 45583.9 ]\n"
     ]
    }
   ],
   "source": [
    "# Question 10: Advanced Operations\n",
    "# Q10.1: Calculate the cumulative sum of account balances\n",
    "cs=np.cumsum(banking_data[:,1])\n",
    "print(cs)"
   ]
  },
  {
   "cell_type": "code",
   "execution_count": 25,
   "id": "7efb7b2c",
   "metadata": {},
   "outputs": [
    {
     "name": "stdout",
     "output_type": "stream",
     "text": [
      "[1.50e+01 1.20e+02 2.40e+03 1.20e+04 2.16e+05 2.59e+06 2.33e+07 5.83e+08\n",
      " 3.50e+09 4.90e+10]\n"
     ]
    }
   ],
   "source": [
    "# Q10.2: Calculate the cumulative product of transaction counts\n",
    "cp=np.cumprod(banking_data[:,3])\n",
    "print(cp)"
   ]
  },
  {
   "cell_type": "code",
   "execution_count": 26,
   "id": "e3f78677",
   "metadata": {},
   "outputs": [
    {
     "name": "stdout",
     "output_type": "stream",
     "text": [
      "[ 1349.75 -2690.5   7550.25 -4430.15 -1339.7   3519.6  -5719.35  8640.25\n",
      " -4220.55]\n"
     ]
    }
   ],
   "source": [
    "# Q10.3: Calculate the difference between consecutive account balances\n",
    "d=np.diff(banking_data[:,1])\n",
    "print(d)"
   ]
  },
  {
   "cell_type": "code",
   "execution_count": 27,
   "id": "69b24a42",
   "metadata": {},
   "outputs": [
    {
     "name": "stdout",
     "output_type": "stream",
     "text": [
      "[ 1349.75  -670.38  2429.88  1560.05 -2884.93  1089.95 -1099.88  1460.45\n",
      "  2209.85 -4220.55]\n"
     ]
    }
   ],
   "source": [
    "# Q10.4: Calculate the gradient of account balances\n",
    "g=np.gradient(banking_data[:,1])\n",
    "print(g)"
   ]
  },
  {
   "cell_type": "code",
   "execution_count": 29,
   "id": "8ec840fb",
   "metadata": {},
   "outputs": [
    {
     "name": "stdout",
     "output_type": "stream",
     "text": [
      "(array([2, 3, 2, 1, 2]), array([ 780.65, 2508.7 , 4236.75, 5964.8 , 7692.85, 9420.9 ]))\n"
     ]
    }
   ],
   "source": [
    "# Q10.5: Calculate the histogram of account balances with 5 bins\n",
    "s=np.histogram(banking_data[:,1],bins=5)\n",
    "print(s)"
   ]
  },
  {
   "cell_type": "code",
   "execution_count": 30,
   "id": "22e6141e",
   "metadata": {},
   "outputs": [
    {
     "name": "stdout",
     "output_type": "stream",
     "text": [
      "[730 725 442 872 352 856]\n"
     ]
    }
   ],
   "source": [
    "# Question 11: Random Numbers and Simulation\n",
    "# Q11.1: Generate 6 random integers between 1 and 1000\n",
    "\n",
    "random = np.random.randint(1, 1000, 6)\n",
    "print(random)"
   ]
  },
  {
   "cell_type": "code",
   "execution_count": 31,
   "id": "670a603b",
   "metadata": {},
   "outputs": [
    {
     "name": "stdout",
     "output_type": "stream",
     "text": [
      "[0.26 0.92 0.42 0.02 0.01 0.34]\n"
     ]
    }
   ],
   "source": [
    "# Q11.2: Generate 6 random floats between 0 and 1\n",
    "r_f = np.random.random(6)\n",
    "print(r_f)"
   ]
  },
  {
   "cell_type": "code",
   "execution_count": 32,
   "id": "e35df7ee",
   "metadata": {},
   "outputs": [
    {
     "name": "stdout",
     "output_type": "stream",
     "text": [
      "[747.64 674.26 790.79 731.35 725.14 603.13]\n"
     ]
    }
   ],
   "source": [
    "# Q11.3: Generate 6 random numbers from normal distribution (mean=700, std=100)\n",
    "normal_random = np.random.normal(700, 100, 6)\n",
    "print(normal_random)"
   ]
  },
  {
   "cell_type": "code",
   "execution_count": 34,
   "id": "7744eb19",
   "metadata": {},
   "outputs": [
    {
     "name": "stdout",
     "output_type": "stream",
     "text": [
      "[[2005.   4320.1   700.     18.      6.  ]\n",
      " [2009.   9420.9   840.      6.     12.  ]\n",
      " [2002.   3890.5   650.      8.      3.  ]\n",
      " [2010.   5200.35  730.     14.      8.  ]\n",
      " [2008.    780.65  610.     25.      1.  ]\n",
      " [2006.   2980.4   690.     12.      4.  ]\n",
      " [2001.   2540.75  720.     15.      5.  ]\n",
      " [2004.   8750.25  810.      5.     10.  ]\n",
      " [2003.   1200.    580.     20.      2.  ]\n",
      " [2007.   6500.    750.      9.      7.  ]]\n"
     ]
    }
   ],
   "source": [
    "# Q11.4: Shuffle the banking_data rows randomly\n",
    "\n",
    "s_d = banking_data.copy()\n",
    "np.random.shuffle(s_d)\n",
    "print(s_d)"
   ]
  },
  {
   "cell_type": "code",
   "execution_count": 39,
   "id": "249ca54c",
   "metadata": {},
   "outputs": [
    {
     "name": "stdout",
     "output_type": "stream",
     "text": [
      "[0.7  0.29 0.23 0.55]\n"
     ]
    }
   ],
   "source": [
    "\n",
    "# Q11.5: Set random seed to 123 and generate 4 random numbers\n",
    "np.random.seed(123)\n",
    "s = np.random.random(4)\n",
    "print(s)"
   ]
  },
  {
   "cell_type": "code",
   "execution_count": 3,
   "id": "324dbdcd",
   "metadata": {},
   "outputs": [
    {
     "name": "stdout",
     "output_type": "stream",
     "text": [
      "34283421.5\n"
     ]
    }
   ],
   "source": [
    "# Question 12: Linear Algebra Operations\n",
    "# Q12.1: Calculate the dot product of account balance and credit score columns\n",
    "d=np.dot(banking_data[:,1],banking_data[:,2])\n",
    "print(d)"
   ]
  },
  {
   "cell_type": "code",
   "execution_count": 6,
   "id": "137ad078",
   "metadata": {},
   "outputs": [
    {
     "name": "stdout",
     "output_type": "stream",
     "text": [
      "[-1149672.5   140790.   2698309. ]\n"
     ]
    }
   ],
   "source": [
    "# Q12.2: Calculate the cross product of first two rows\n",
    "c = np.cross(banking_data[0, :3], banking_data[1, :3])\n",
    "print(c)"
   ]
  },
  {
   "cell_type": "code",
   "execution_count": 7,
   "id": "c5b6c2cd",
   "metadata": {},
   "outputs": [
    {
     "name": "stdout",
     "output_type": "stream",
     "text": [
      "16905.64211735242\n"
     ]
    }
   ],
   "source": [
    "# Q12.3: Calculate the norm (magnitude) of the account balance column\n",
    "p = np.linalg.norm(banking_data[:, 1])\n",
    "print(p)"
   ]
  },
  {
   "cell_type": "code",
   "execution_count": 21,
   "id": "0e0fd9f7",
   "metadata": {},
   "outputs": [
    {
     "name": "stdout",
     "output_type": "stream",
     "text": [
      "[[2 3 4]\n",
      " [1 4 5]\n",
      " [1 2 3]]\n",
      "1.9999999999999998\n"
     ]
    }
   ],
   "source": [
    "# Q12.4: Create a 3x3 matrix and calculate its determinant\n",
    "matrix_3x3 = np.array([[2, 3,4], [1, 4,5],[1,2,3]])\n",
    "determinant = np.linalg.det(matrix_3x3)\n",
    "print(matrix_3x3)\n",
    "print(determinant)"
   ]
  },
  {
   "cell_type": "code",
   "execution_count": 24,
   "id": "9d538be6",
   "metadata": {},
   "outputs": [
    {
     "name": "stdout",
     "output_type": "stream",
     "text": [
      "[[ 1.  -0.5 -0.5]\n",
      " [ 1.   1.  -3. ]\n",
      " [-1.  -0.5  2.5]]\n"
     ]
    }
   ],
   "source": [
    "# Q12.5: Calculate the inverse of the 3x3 matrix\n",
    "matrix_3x3 = np.array([[2, 3, 4], \n",
    "                       [1, 4, 5], \n",
    "                       [1, 2, 3]])\n",
    "inverse_matrix = np.linalg.inv(matrix_3x3)\n",
    "print(inverse_matrix)"
   ]
  },
  {
   "cell_type": "code",
   "execution_count": 20,
   "metadata": {},
   "outputs": [
    {
     "name": "stdout",
     "output_type": "stream",
     "text": [
      "['2001.0' '2002.0' '2003.0' '2004.0' '2005.0' '2006.0' '2007.0' '2008.0'\n",
      " '2009.0' '2010.0']\n"
     ]
    }
   ],
   "source": [
    "# Question 13: String Operations\n",
    "# Q13.1: Convert all customer IDs to strings\n",
    "s = banking_data[:, 0].astype(str)\n",
    "print(s)"
   ]
  },
  {
   "cell_type": "code",
   "execution_count": 29,
   "id": "14bcdc7e",
   "metadata": {},
   "outputs": [
    {
     "name": "stdout",
     "output_type": "stream",
     "text": [
      "[False False False False False False False False False False]\n"
     ]
    }
   ],
   "source": [
    "# Q13.2: Check if any customer ID contains '100'\n",
    "customer_ids = banking_data[:, 0].astype(int).astype(str)\n",
    "c = np.char.find(customer_ids, '100') >= 0\n",
    "print(c)\n"
   ]
  },
  {
   "cell_type": "code",
   "execution_count": 33,
   "metadata": {},
   "outputs": [
    {
     "name": "stdout",
     "output_type": "stream",
     "text": [
      "['2001' '2002' '2003' '2004' '2005' '2006' '2007' '2008' '2009' '2010']\n"
     ]
    }
   ],
   "source": [
    "# Q13.3: Convert all customer IDs to uppercase (if they were strings)\n",
    "c_str = banking_data[:, 0].astype(int).astype(str)\n",
    "u=np.char.upper(c_str)\n",
    "print(u)"
   ]
  },
  {
   "cell_type": "code",
   "execution_count": 34,
   "metadata": {},
   "outputs": [
    {
     "name": "stdout",
     "output_type": "stream",
     "text": [
      "[4 4 4 4 4 4 4 4 4 4]\n"
     ]
    }
   ],
   "source": [
    "# Q13.4: Count the length of each customer ID string\n",
    "c_str = banking_data[:, 0].astype(int).astype(str)\n",
    "l=np.char.str_len(c_str)\n",
    "print(l)\n"
   ]
  },
  {
   "cell_type": "code",
   "execution_count": null,
   "metadata": {},
   "outputs": [
    {
     "name": "stdout",
     "output_type": "stream",
     "text": [
      "['CUST' '2002' '2003' '2004' '2005' '2006' '2007' '2008' '2009' '2010']\n"
     ]
    }
   ],
   "source": [
    "# Q13.5: Replace '2001' with 'CUST' in customer IDs\n",
    "c_str = banking_data[:, 0].astype(int).astype(str)\n",
    "f=np.char.replace(c_str,\"2001\",\"CUST\")\n",
    "print(f)"
   ]
  },
  {
   "cell_type": "code",
   "execution_count": 41,
   "id": "e74d31a2",
   "metadata": {},
   "outputs": [
    {
     "name": "stdout",
     "output_type": "stream",
     "text": [
      "[ 60.  36.  24. 120.  72.  48.  84.  12. 144.  96.]\n"
     ]
    }
   ],
   "source": [
    "# Question 14: Date and Time Operations\n",
    "# Q14.1: Convert years active to months\n",
    "y=banking_data[:,4]*12\n",
    "print(y)"
   ]
  },
  {
   "cell_type": "code",
   "execution_count": 42,
   "metadata": {},
   "outputs": [
    {
     "name": "stdout",
     "output_type": "stream",
     "text": [
      "5.8\n"
     ]
    }
   ],
   "source": [
    "# Q14.2: Calculate the average years active\n",
    "m=np.mean(banking_data[:,4])\n",
    "print(m)"
   ]
  },
  {
   "cell_type": "code",
   "execution_count": 43,
   "id": "a71c6e07",
   "metadata": {},
   "outputs": [
    {
     "name": "stdout",
     "output_type": "stream",
     "text": [
      "[[2004.   8750.25  810.      5.     10.  ]\n",
      " [2005.   4320.1   700.     18.      6.  ]\n",
      " [2007.   6500.    750.      9.      7.  ]\n",
      " [2009.   9420.9   840.      6.     12.  ]\n",
      " [2010.   5200.35  730.     14.      8.  ]]\n"
     ]
    }
   ],
   "source": [
    "\n",
    "# Q14.3: Find customers who have been active for more than 5 years\n",
    "a=banking_data[banking_data[:,4]>5]\n",
    "print(a)"
   ]
  },
  {
   "cell_type": "code",
   "execution_count": 44,
   "metadata": {},
   "outputs": [
    {
     "name": "stdout",
     "output_type": "stream",
     "text": [
      "58.0\n"
     ]
    }
   ],
   "source": [
    "# Q14.4: Calculate the total time all customers have been active (in years)\n",
    "t=np.sum(banking_data[:,4])\n",
    "print(t)"
   ]
  },
  {
   "cell_type": "code",
   "execution_count": 45,
   "metadata": {},
   "outputs": [
    {
     "name": "stdout",
     "output_type": "stream",
     "text": [
      "7\n"
     ]
    }
   ],
   "source": [
    "# Q14.5: Find the customer with the shortest time active\n",
    "m=np.argmin(banking_data[:,4])\n",
    "print(m)"
   ]
  },
  {
   "cell_type": "code",
   "execution_count": 6,
   "id": "f2a3acf4",
   "metadata": {},
   "outputs": [
    {
     "name": "stdout",
     "output_type": "stream",
     "text": [
      "[2540.75 3890.5  1200.   8750.25 4320.1  2980.4  6500.    780.65 9420.9\n",
      " 5200.35]\n",
      "[2667.79 4085.03 1260.   9187.76 4536.11 3129.42 6825.    819.68 9891.94\n",
      " 5460.37]\n"
     ]
    }
   ],
   "source": [
    "# Question 15: Advanced Array Operations\n",
    "# Q15.1: Apply a function to calculate 5% interest on all account balances\n",
    "b=banking_data[:,1]\n",
    "i=b*1.05\n",
    "print(b)\n",
    "print(i)"
   ]
  },
  {
   "cell_type": "code",
   "execution_count": 7,
   "metadata": {},
   "outputs": [
    {
     "name": "stdout",
     "output_type": "stream",
     "text": [
      "['average' 'average' 'average' 'rich' 'rich' 'average' 'rich' 'average'\n",
      " 'rich' 'rich']\n"
     ]
    }
   ],
   "source": [
    "# Q15.2: Use np.where to categorize customers by balance ranges\n",
    "c=np.where(banking_data[:,1]>4000,\"rich\",\"average\")\n",
    "print(c)"
   ]
  },
  {
   "cell_type": "code",
   "execution_count": 17,
   "id": "3bb28c1d",
   "metadata": {},
   "outputs": [
    {
     "name": "stdout",
     "output_type": "stream",
     "text": [
      "['good' 'good' 'ave' 'exc' 'good' 'good' 'good' 'good' 'exc' 'good']\n"
     ]
    }
   ],
   "source": [
    "# Q15.3: Use np.select to categorize customers by credit score ranges\n",
    "s=[banking_data[:,2]<600,(banking_data[:,2]>=600) & (banking_data[:,2]<=750),banking_data[:,2]>700]  \n",
    "c=[\"ave\",\"good\",\"exc\"]\n",
    "d=np.select(s,c,default='unknown')\n",
    "print(d)"
   ]
  },
  {
   "cell_type": "code",
   "execution_count": 24,
   "metadata": {},
   "outputs": [
    {
     "name": "stdout",
     "output_type": "stream",
     "text": [
      "[[ 2001.    3200.61   720.      15.       5.  ]\n",
      " [ 2002.    4633.65   650.       8.       3.  ]\n",
      " [ 2003.    1511.65   580.      20.       2.  ]\n",
      " [ 2004.    9842.84   810.       5.      10.  ]\n",
      " [ 2005.    5145.31   700.      18.       6.  ]\n",
      " [ 2006.    3616.68   690.      12.       4.  ]\n",
      " [ 2007.    7595.54   750.       9.       7.  ]\n",
      " [ 2008.     983.39   610.      25.       1.  ]\n",
      " [ 2009.   10597.23   840.       6.      12.  ]\n",
      " [ 2010.    6193.7    730.      14.       8.  ]]\n"
     ]
    }
   ],
   "source": [
    "# Q15.4: Use np.piecewise to apply different interest rates based on balance\n",
    "b= banking_data[:, 1]\n",
    "conditions = [\n",
    "    b < 3000,\n",
    "    (b >= 3000) & (b <= 7000),\n",
    "    b > 7000\n",
    "]\n",
    "i= [\n",
    "    lambda b:b* 1.08, \n",
    "    lambda b:b * 1.06,  \n",
    "    lambda b:b * 1.04  ]  \n",
    "nb=np.piecewise(b,conditions,i)\n",
    "banking_data[:,1]=nb\n",
    "print(banking_data)\n",
    "\n",
    "\n"
   ]
  },
  {
   "cell_type": "code",
   "execution_count": null,
   "id": "2d553fcc",
   "metadata": {},
   "outputs": [
    {
     "name": "stdout",
     "output_type": "stream",
     "text": [
      "Row-wise sums:\n",
      "[ 5941.61  7296.65  4116.65 12671.84  7874.31  6328.68 10368.54  3627.39\n",
      " 13464.23  8955.7 ]\n"
     ]
    }
   ],
   "source": [
    "\n",
    "# Q15.5: Use np.apply_along_axis to calculate the sum of each row\n",
    "\n",
    "row_sums = np.apply_along_axis(np.sum, axis=1, arr=banking_data)\n",
    "print(row_sums)\n"
   ]
  },
  {
   "cell_type": "code",
   "execution_count": 4,
   "metadata": {},
   "outputs": [
    {
     "name": "stdout",
     "output_type": "stream",
     "text": [
      "[1 2 3 4 4 5 6 7]\n"
     ]
    }
   ],
   "source": [
    "# Question 16: Array Concatenation and Stacking\n",
    "# Q16.1: Concatenate two arrays horizontally using np.hstack()\n",
    "import numpy as np\n",
    "a=np.array([1,2,3,4])\n",
    "b=np.array([4,5,6,7])\n",
    "z=np.hstack([a,b])\n",
    "print(z)"
   ]
  },
  {
   "cell_type": "code",
   "execution_count": 5,
   "id": "44f43ba4",
   "metadata": {},
   "outputs": [
    {
     "name": "stdout",
     "output_type": "stream",
     "text": [
      "[[1 2 3 4]\n",
      " [4 5 6 7]]\n"
     ]
    }
   ],
   "source": [
    "# Q16.2: Concatenate two arrays vertically using np.vstack()\n",
    "a=np.array([1,2,3,4])\n",
    "b=np.array([4,5,6,7])\n",
    "z=np.vstack([a,b])\n",
    "print(z)"
   ]
  },
  {
   "cell_type": "code",
   "execution_count": 7,
   "metadata": {},
   "outputs": [
    {
     "name": "stdout",
     "output_type": "stream",
     "text": [
      "[1 2 3 4 4 5 6 7]\n"
     ]
    }
   ],
   "source": [
    "# Q16.3: Concatenate arrays along a specific axis using np.concatenate()\n",
    "a=np.array([1,2,3,4])\n",
    "b=np.array([4,5,6,7])\n",
    "z=np.concatenate([a,b],axis=0)\n",
    "print(z)"
   ]
  },
  {
   "cell_type": "code",
   "execution_count": 8,
   "metadata": {},
   "outputs": [
    {
     "name": "stdout",
     "output_type": "stream",
     "text": [
      "[[[1 4]\n",
      "  [2 5]\n",
      "  [3 6]\n",
      "  [4 7]]]\n"
     ]
    }
   ],
   "source": [
    "# Q16.4: Stack arrays depth-wise using np.dstack()\n",
    "a=np.array([1,2,3,4])\n",
    "b=np.array([4,5,6,7])\n",
    "z=np.dstack([a,b])\n",
    "print(z)"
   ]
  },
  {
   "cell_type": "code",
   "execution_count": 9,
   "id": "4990d1f5",
   "metadata": {},
   "outputs": [
    {
     "name": "stdout",
     "output_type": "stream",
     "text": [
      "[[1 4]\n",
      " [2 5]\n",
      " [3 6]\n",
      " [4 7]]\n"
     ]
    }
   ],
   "source": [
    "\n",
    "# Q16.5: Create a column stack using np.column_stack()\n",
    "a=np.array([1,2,3,4])\n",
    "b=np.array([4,5,6,7])\n",
    "z=np.column_stack([a,b])\n",
    "print(z)"
   ]
  },
  {
   "cell_type": "code",
   "execution_count": 18,
   "metadata": {},
   "outputs": [
    {
     "name": "stdout",
     "output_type": "stream",
     "text": [
      "Original array: [1 2 3 4 5 6 7 8 9]\n",
      "Part 1: [1 2 3]\n",
      "Part 2: [4 5 6]\n",
      "Part 3: [7 8 9]\n"
     ]
    }
   ],
   "source": [
    "# Question 17: Array Splitting Operations\n",
    "# Q17.1: Split an array into 3 equal parts using np.split()\n",
    "split = np.array([1, 2, 3, 4, 5, 6, 7, 8, 9])\n",
    "parts = np.split(split, 3)\n",
    "print(f\"Original array: {split}\")\n",
    "for i, part in enumerate(parts):\n",
    "    print(f\"Part {i+1}: {part}\")"
   ]
  },
  {
   "cell_type": "code",
   "execution_count": 17,
   "metadata": {},
   "outputs": [
    {
     "name": "stdout",
     "output_type": "stream",
     "text": [
      "Split at indices [2, 6]:\n",
      "Part 1: [1 2]\n",
      "Part 2: [3 4 5 6]\n",
      "Part 3: [7 8 9]\n"
     ]
    }
   ],
   "source": [
    "\n",
    "# Q17.2: Split an array at specific indices using np.split()\n",
    "split = np.array([1, 2, 3, 4, 5, 6, 7, 8, 9])\n",
    "indices = np.split(split, [2, 6])\n",
    "print(f\"Split at indices [2, 6]:\")\n",
    "for i, part in enumerate(indices):\n",
    "    print(f\"Part {i+1}: {part}\")"
   ]
  },
  {
   "cell_type": "code",
   "execution_count": 29,
   "metadata": {},
   "outputs": [
    {
     "name": "stdout",
     "output_type": "stream",
     "text": [
      "[[1 2 3]\n",
      " [4 5 6]]\n",
      "Horizontal part 1:\n",
      "[[1]\n",
      " [4]]\n",
      "Horizontal part 2:\n",
      "[[2]\n",
      " [5]]\n",
      "Horizontal part 3:\n",
      "[[3]\n",
      " [6]]\n"
     ]
    }
   ],
   "source": [
    "# Q17.3: Split an array horizontally using np.hsplit()\n",
    "arr = np.array([[1, 2, 3], [4, 5, 6]])\n",
    "h = np.hsplit(arr, 3)\n",
    "print(arr)\n",
    "for i, part in enumerate(h):\n",
    "    print(f\"Horizontal part {i+1}:\\n{part}\")"
   ]
  },
  {
   "cell_type": "code",
   "execution_count": 22,
   "id": "d7eb6513",
   "metadata": {},
   "outputs": [
    {
     "name": "stdout",
     "output_type": "stream",
     "text": [
      "[[1 2 3]\n",
      " [4 5 6]]\n",
      "part 1:\n",
      "[[1 2 3]]\n",
      "part 2:\n",
      "[[4 5 6]]\n"
     ]
    }
   ],
   "source": [
    "\n",
    "# Q17.4: Split an array vertically using np.vsplit()\n",
    "arr = np.array([[1, 2, 3], [4, 5, 6]])\n",
    "h = np.vsplit(arr, 2)\n",
    "print(arr)\n",
    "for i, part in enumerate(h):\n",
    "    print(f\"part {i+1}:\\n{part}\")"
   ]
  },
  {
   "cell_type": "code",
   "execution_count": 30,
   "id": "958d215a",
   "metadata": {},
   "outputs": [
    {
     "name": "stdout",
     "output_type": "stream",
     "text": [
      "Split into 4 chunks:\n",
      "Chunk 1: [1 2 3]\n",
      "Chunk 2: [4 5]\n",
      "Chunk 3: [6 7]\n",
      "Chunk 4: [8 9]\n"
     ]
    }
   ],
   "source": [
    "# Q17.5: Split an array into equal chunks using np.array_split()\n",
    "split = np.array([1, 2, 3, 4, 5, 6, 7, 8, 9])\n",
    "chunks = np.array_split(split, 4)\n",
    "print(f\"Split into 4 chunks:\")\n",
    "for i, chunk in enumerate(chunks):\n",
    "    print(f\"Chunk {i+1}: {chunk}\")"
   ]
  },
  {
   "cell_type": "code",
   "execution_count": 31,
   "id": "6c64d656",
   "metadata": {},
   "outputs": [
    {
     "name": "stdout",
     "output_type": "stream",
     "text": [
      "[1 1 1 2 2 2 3 3 3 4 4 4]\n"
     ]
    }
   ],
   "source": [
    "# Question 18: Array Repetition and Tiling\n",
    "# Q18.1: Repeat each element of an array 3 times using np.repeat()\n",
    "a=np.array([1,2,3,4])\n",
    "s=np.repeat(a,3)\n",
    "print(s)"
   ]
  },
  {
   "cell_type": "code",
   "execution_count": 2,
   "id": "b2ab0f22",
   "metadata": {},
   "outputs": [
    {
     "name": "stdout",
     "output_type": "stream",
     "text": [
      "[1 2 3 4 1 2 3 4]\n"
     ]
    }
   ],
   "source": [
    "# Q18.2: Repeat an entire array 2 times using np.tile()\n",
    "a=np.array([1,2,3,4])\n",
    "s=np.tile(a,2)\n",
    "print(s)"
   ]
  },
  {
   "cell_type": "code",
   "execution_count": 3,
   "id": "9179a959",
   "metadata": {},
   "outputs": [
    {
     "name": "stdout",
     "output_type": "stream",
     "text": [
      "[[1 2 3 4 1 2 3 4]\n",
      " [3 4 5 6 3 4 5 6]]\n"
     ]
    }
   ],
   "source": [
    "# Q18.3: Repeat a 2D array using np.tile()\n",
    "a=np.array([[1,2,3,4],[3,4,5,6]])\n",
    "s=np.tile(a,2)\n",
    "print(s)"
   ]
  },
  {
   "cell_type": "code",
   "execution_count": 2,
   "id": "92b8841d",
   "metadata": {},
   "outputs": [
    {
     "name": "stdout",
     "output_type": "stream",
     "text": [
      "[0 1 0]\n",
      "[0 1 0 0 1 0 0 1 0 0 1 0]\n"
     ]
    }
   ],
   "source": [
    "# Q18.4: Create a pattern using np.tile()\n",
    "a=np.array([0,1,0])\n",
    "s=np.tile(a,4)\n",
    "print(a)\n",
    "print(s)"
   ]
  },
  {
   "cell_type": "code",
   "execution_count": 4,
   "id": "fc65621d",
   "metadata": {},
   "outputs": [
    {
     "name": "stdout",
     "output_type": "stream",
     "text": [
      "[1 2 2 2 3 3 3 3 3 4 4 4 4 4 4 4]\n"
     ]
    }
   ],
   "source": [
    "# Q18.5: Repeat elements with different counts using np.repeat()\n",
    "a=np.array([1,2,3,4])\n",
    "r=[1,3,5,7]\n",
    "rp=np.repeat(a,r)\n",
    "print(rp)"
   ]
  },
  {
   "cell_type": "code",
   "execution_count": 7,
   "id": "2e34a3cb",
   "metadata": {},
   "outputs": [
    {
     "name": "stdout",
     "output_type": "stream",
     "text": [
      "True\n",
      "False\n"
     ]
    }
   ],
   "source": [
    "# Question 19: Array Comparison and Logical Operations\n",
    "# Q19.1: Compare two arrays for equality using np.array_equal()\n",
    "a=np.array([1,2,3])\n",
    "b=np.array([1,2,3])\n",
    "c=np.array([1,2,4])\n",
    "ab=np.array_equal(a,b)\n",
    "bc=np.array_equal(b,c)\n",
    "print(ab)\n",
    "print(bc)"
   ]
  },
  {
   "cell_type": "code",
   "execution_count": 4,
   "id": "c079d6b1",
   "metadata": {},
   "outputs": [
    {
     "name": "stdout",
     "output_type": "stream",
     "text": [
      "[1. 2. 3.]\n",
      "[1. 2. 3.]\n",
      "Arrays are close: True\n"
     ]
    }
   ],
   "source": [
    "\n",
    "# Q19.2: Check if arrays are close using np.allclose()\n",
    "d = np.array([1.0, 2.0, 3.0])\n",
    "e = np.array([1.001, 2.001, 3.001])\n",
    "print(d)\n",
    "print(e)\n",
    "print(f\"Arrays are close: {np.allclose(d,e, atol=0.01)}\")"
   ]
  },
  {
   "cell_type": "code",
   "execution_count": 5,
   "id": "33978800",
   "metadata": {},
   "outputs": [
    {
     "name": "stdout",
     "output_type": "stream",
     "text": [
      "[False  True False]\n"
     ]
    }
   ],
   "source": [
    "# Q19.3: Apply logical AND operation between arrays\n",
    "a=np.array([1,2,3])\n",
    "b=np.array([1,2,4])\n",
    "l = np.logical_and(a > 1, b < 3)\n",
    "print(l)\n"
   ]
  },
  {
   "cell_type": "code",
   "execution_count": 6,
   "id": "204e0d60",
   "metadata": {},
   "outputs": [
    {
     "name": "stdout",
     "output_type": "stream",
     "text": [
      "[ True  True  True]\n"
     ]
    }
   ],
   "source": [
    "# Q19.4: Apply logical OR operation between arrays\n",
    "a=np.array([1,2,3])\n",
    "b=np.array([1,2,4])\n",
    "l = np.logical_or(a > 1, b < 3)\n",
    "print(l)\n"
   ]
  },
  {
   "cell_type": "code",
   "execution_count": 8,
   "id": "2c82cb3b",
   "metadata": {},
   "outputs": [
    {
     "name": "stdout",
     "output_type": "stream",
     "text": [
      "[False  True  True]\n"
     ]
    }
   ],
   "source": [
    "# Q19.5: Apply logical NOT operation to an array\n",
    "b=np.array([1,2,4])\n",
    "l = np.logical_not(b==1)\n",
    "print(l)"
   ]
  },
  {
   "cell_type": "code",
   "execution_count": 10,
   "id": "9257bd67",
   "metadata": {},
   "outputs": [
    {
     "name": "stdout",
     "output_type": "stream",
     "text": [
      "[1 2 3 4 5 6 7]\n"
     ]
    }
   ],
   "source": [
    "# Question 20: Array Set Operations\n",
    "# Q20.1: Find unique elements in an array using np.unique()\n",
    "a=np.array([1,1,2,2,2,3,4,4,3,1,2,4,2,3,5,7,4,6])\n",
    "s=np.unique(a)\n",
    "print(s)\n"
   ]
  },
  {
   "cell_type": "code",
   "execution_count": 12,
   "id": "2707b869",
   "metadata": {},
   "outputs": [
    {
     "name": "stdout",
     "output_type": "stream",
     "text": [
      "[4 5]\n"
     ]
    }
   ],
   "source": [
    "# Q20.2: Find the intersection of two arrays using np.intersect1d()\n",
    "a=np.array([1,2,3,4,5])\n",
    "b=np.array([4,5,6,7])\n",
    "i=np.intersect1d(a,b)\n",
    "print(i)"
   ]
  },
  {
   "cell_type": "code",
   "execution_count": 13,
   "id": "29fc24c9",
   "metadata": {},
   "outputs": [
    {
     "name": "stdout",
     "output_type": "stream",
     "text": [
      "[1 2 3 4 5 6 7]\n"
     ]
    }
   ],
   "source": [
    "# Q20.3: Find the union of two arrays using np.union1d()\n",
    "a=np.array([1,2,3,4,5])\n",
    "b=np.array([4,5,6,7])\n",
    "i=np.union1d(a,b)\n",
    "print(i)"
   ]
  },
  {
   "cell_type": "code",
   "execution_count": 15,
   "id": "e099303d",
   "metadata": {},
   "outputs": [
    {
     "name": "stdout",
     "output_type": "stream",
     "text": [
      "[1 2 3]\n"
     ]
    }
   ],
   "source": [
    "# Q20.4: Find elements in first array but not in second using np.setdiff1d()\n",
    "a=np.array([1,2,3,4,5])\n",
    "b=np.array([4,5,6,7])\n",
    "d = np.setdiff1d(a, b)\n",
    "print(d)"
   ]
  },
  {
   "cell_type": "code",
   "execution_count": 16,
   "id": "54469c30",
   "metadata": {},
   "outputs": [
    {
     "name": "stdout",
     "output_type": "stream",
     "text": [
      "[1 2 3 6 7]\n"
     ]
    }
   ],
   "source": [
    "# Q20.5: Find the symmetric difference between two arrays using np.setxor1d()\n",
    "a=np.array([1,2,3,4,5])\n",
    "b=np.array([4,5,6,7])\n",
    "d = np.setxor1d(a, b)\n",
    "print(d)"
   ]
  }
 ],
 "metadata": {
  "kernelspec": {
   "display_name": "Python 3",
   "language": "python",
   "name": "python3"
  },
  "language_info": {
   "codemirror_mode": {
    "name": "ipython",
    "version": 3
   },
   "file_extension": ".py",
   "mimetype": "text/x-python",
   "name": "python",
   "nbconvert_exporter": "python",
   "pygments_lexer": "ipython3",
   "version": "3.12.0"
  }
 },
 "nbformat": 4,
 "nbformat_minor": 5
}
