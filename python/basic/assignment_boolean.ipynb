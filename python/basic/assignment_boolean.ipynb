{
 "cells": [
  {
   "cell_type": "code",
   "execution_count": 2,
   "id": "b918b945",
   "metadata": {},
   "outputs": [
    {
     "name": "stdout",
     "output_type": "stream",
     "text": [
      "Question 1: Check if 25 is greater than 20 and less than 30\n",
      "yes\n"
     ]
    }
   ],
   "source": [
    "print(\"Question 1: Check if 25 is greater than 20 and less than 30\")\n",
    "# Your code here\n",
    "a=25\n",
    "if a>20 and a<30:\n",
    "  print(\"yes\")\n",
    "else:\n",
    "  print(\"no\")"
   ]
  },
  {
   "cell_type": "code",
   "execution_count": 3,
   "id": "eface854",
   "metadata": {},
   "outputs": [
    {
     "name": "stdout",
     "output_type": "stream",
     "text": [
      "\n",
      "Question 2: Check if string 'python' is equal to 'Python' (case sensitive)\n",
      "False\n"
     ]
    }
   ],
   "source": [
    "print(\"\\nQuestion 2: Check if string 'python' is equal to 'Python' (case sensitive)\")\n",
    "# Your code here\n",
    "\n",
    "result = ('python' == 'Python')\n",
    "print(result)  # Expected output: False"
   ]
  },
  {
   "cell_type": "code",
   "execution_count": 7,
   "id": "f04e1fec",
   "metadata": {},
   "outputs": [
    {
     "name": "stdout",
     "output_type": "stream",
     "text": [
      "\n",
      "Question 3: Check if 15 is divisible by both 3 and 5\n",
      "yes\n"
     ]
    }
   ],
   "source": [
    "print(\"\\nQuestion 3: Check if 15 is divisible by both 3 and 5\")\n",
    "# Your code here\n",
    "a=15\n",
    "if (a%3==0 and a%5==0):\n",
    "  print(\"yes\")\n",
    "else:\n",
    "  print(\"no\")"
   ]
  },
  {
   "cell_type": "code",
   "execution_count": 8,
   "id": "f1902071",
   "metadata": {},
   "outputs": [
    {
     "name": "stdout",
     "output_type": "stream",
     "text": [
      "\n",
      "Question 4: Check if 7 is not equal to 8\n",
      "False\n"
     ]
    }
   ],
   "source": [
    "print(\"\\nQuestion 4: Check if 7 is not equal to 8\")\n",
    "# Your code here\n",
    "r=(7==8)\n",
    "print(r)"
   ]
  },
  {
   "cell_type": "code",
   "execution_count": 9,
   "id": "6411d72b",
   "metadata": {},
   "outputs": [
    {
     "name": "stdout",
     "output_type": "stream",
     "text": [
      "\n",
      "Question 5: Check if 100 is greater than 50 or less than 25\n",
      "True\n"
     ]
    }
   ],
   "source": [
    "print(\"\\nQuestion 5: Check if 100 is greater than 50 or less than 25\")\n",
    "# Your code here\n",
    "number = 100\n",
    "result = (number > 50) or (number < 25)\n",
    "print(result) \n",
    "\n"
   ]
  },
  {
   "cell_type": "code",
   "execution_count": 11,
   "id": "8046b7cb",
   "metadata": {},
   "outputs": [
    {
     "name": "stdout",
     "output_type": "stream",
     "text": [
      "\n",
      "Question 6: Check if 0 is falsy in Python\n",
      "True\n"
     ]
    }
   ],
   "source": [
    "print(\"\\nQuestion 6: Check if 0 is falsy in Python\")\n",
    "# Your code here\n",
    "if not 0:\n",
    "    print(True) \n",
    "else:\n",
    "    print(False)\n"
   ]
  },
  {
   "cell_type": "code",
   "execution_count": null,
   "id": "6c58f447",
   "metadata": {},
   "outputs": [
    {
     "name": "stdout",
     "output_type": "stream",
     "text": [
      "\n",
      "Question 7: Check if empty string '' is falsy in Python\n",
      "Empty string is falsy\n"
     ]
    }
   ],
   "source": [
    "print(\"\\nQuestion 7: Check if empty string '' is falsy in Python\")\n",
    "# Your code here\n",
    "if \"\":\n",
    "    print(\"Empty string is truthy\")\n",
    "else:\n",
    "    print(\"Empty string is falsy\")\n"
   ]
  },
  {
   "cell_type": "code",
   "execution_count": 13,
   "id": "3e4d6b61",
   "metadata": {},
   "outputs": [
    {
     "name": "stdout",
     "output_type": "stream",
     "text": [
      "\n",
      "Question 8: Check if 42 is truthy in Python\n",
      "42 is truthy\n"
     ]
    }
   ],
   "source": [
    "print(\"\\nQuestion 8: Check if 42 is truthy in Python\")\n",
    "# Your code here\n",
    "if 42:\n",
    "    print(\"42 is truthy\") \n",
    "else:\n",
    "    print(\"42 is falsy\")\n"
   ]
  },
  {
   "cell_type": "code",
   "execution_count": 14,
   "id": "5b3229b3",
   "metadata": {},
   "outputs": [
    {
     "name": "stdout",
     "output_type": "stream",
     "text": [
      "\n",
      "Question 9: Check if 10 is between 5 and 15 (inclusive)\n",
      "True\n"
     ]
    }
   ],
   "source": [
    "print(\"\\nQuestion 9: Check if 10 is between 5 and 15 (inclusive)\")\n",
    "# Your code here\n",
    "number = 10\n",
    "result = (5 <= number <= 15)\n",
    "print(result)\n"
   ]
  },
  {
   "cell_type": "code",
   "execution_count": 15,
   "id": "d1a92a17",
   "metadata": {},
   "outputs": [
    {
     "name": "stdout",
     "output_type": "stream",
     "text": [
      "\n",
      "Question 10: Check if 3.14 is greater than 3 and less than 4\n",
      "True\n"
     ]
    }
   ],
   "source": [
    "print(\"\\nQuestion 10: Check if 3.14 is greater than 3 and less than 4\")\n",
    "# Your code here\n",
    "number = 3.14\n",
    "result = (3 < number < 4)\n",
    "print(result)"
   ]
  }
 ],
 "metadata": {
  "kernelspec": {
   "display_name": "Python 3",
   "language": "python",
   "name": "python3"
  },
  "language_info": {
   "codemirror_mode": {
    "name": "ipython",
    "version": 3
   },
   "file_extension": ".py",
   "mimetype": "text/x-python",
   "name": "python",
   "nbconvert_exporter": "python",
   "pygments_lexer": "ipython3",
   "version": "3.12.0"
  }
 },
 "nbformat": 4,
 "nbformat_minor": 5
}
