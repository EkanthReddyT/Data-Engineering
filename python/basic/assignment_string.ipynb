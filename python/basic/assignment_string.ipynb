{
 "cells": [
  {
   "cell_type": "code",
   "execution_count": 2,
   "id": "52f1df47",
   "metadata": {},
   "outputs": [
    {
     "name": "stdout",
     "output_type": "stream",
     "text": [
      "Question 1: Reverse the string 'Python Programming'\n"
     ]
    },
    {
     "data": {
      "text/plain": [
       "'gnimmargorP nohtyP'"
      ]
     },
     "execution_count": 2,
     "metadata": {},
     "output_type": "execute_result"
    }
   ],
   "source": [
    "print(\"Question 1: Reverse the string 'Python Programming'\")\n",
    "# Your code here\n",
    "p='Python Programming'\n",
    "p[::-1]\n"
   ]
  },
  {
   "cell_type": "code",
   "execution_count": 13,
   "id": "9eef773b",
   "metadata": {},
   "outputs": [
    {
     "name": "stdout",
     "output_type": "stream",
     "text": [
      "\n",
      "Question 2: Check if 'racecar' is a palindrome\n",
      "yes\n"
     ]
    }
   ],
   "source": [
    "print(\"\\nQuestion 2: Check if 'racecar' is a palindrome\")\n",
    "# Your code here\n",
    "x='racecar'\n",
    "if x==x[::-1]:\n",
    " print(\"yes\")\n",
    "else:\n",
    " print(\"no\")\n"
   ]
  },
  {
   "cell_type": "code",
   "execution_count": 24,
   "id": "45d8b56b",
   "metadata": {},
   "outputs": [
    {
     "name": "stdout",
     "output_type": "stream",
     "text": [
      "\n",
      "Question 3: Count the number of words in 'Python is a great programming language'\n",
      "6\n"
     ]
    }
   ],
   "source": [
    "print(\"\\nQuestion 3: Count the number of words in 'Python is a great programming language'\")\n",
    "# Your code here\n",
    "a=(\"Python is a great programming language\")\n",
    "s=len(a.split())\n",
    "print(s)"
   ]
  },
  {
   "cell_type": "code",
   "execution_count": 27,
   "id": "53051bd1",
   "metadata": {},
   "outputs": [
    {
     "name": "stdout",
     "output_type": "stream",
     "text": [
      "\n",
      "Question 4: Convert 'hello world' to title case\n"
     ]
    },
    {
     "data": {
      "text/plain": [
       "'Hello World'"
      ]
     },
     "execution_count": 27,
     "metadata": {},
     "output_type": "execute_result"
    }
   ],
   "source": [
    "print(\"\\nQuestion 4: Convert 'hello world' to title case\")\n",
    "# Your code here\n",
    "a='hello world'\n",
    "a.title()\n"
   ]
  },
  {
   "cell_type": "code",
   "execution_count": 2,
   "id": "72dfd3ca",
   "metadata": {},
   "outputs": [
    {
     "name": "stdout",
     "output_type": "stream",
     "text": [
      "\n",
      "Question 5: Find the length of string 'Data Science'\n"
     ]
    },
    {
     "data": {
      "text/plain": [
       "12"
      ]
     },
     "execution_count": 2,
     "metadata": {},
     "output_type": "execute_result"
    }
   ],
   "source": [
    "print(\"\\nQuestion 5: Find the length of string 'Data Science'\")\n",
    "# Your code here\n",
    "s='data science'\n",
    "len(s)"
   ]
  },
  {
   "cell_type": "code",
   "execution_count": 3,
   "id": "f2270b44",
   "metadata": {},
   "outputs": [
    {
     "name": "stdout",
     "output_type": "stream",
     "text": [
      "\n",
      "Question 6: Replace all spaces with underscores in 'Machine Learning'\n"
     ]
    },
    {
     "data": {
      "text/plain": [
       "'Machine_Learning'"
      ]
     },
     "execution_count": 3,
     "metadata": {},
     "output_type": "execute_result"
    }
   ],
   "source": [
    "print(\"\\nQuestion 6: Replace all spaces with underscores in 'Machine Learning'\")\n",
    "# Your code here\n",
    "s='Machine Learning'\n",
    "s.replace(\" \",\"_\")"
   ]
  },
  {
   "cell_type": "code",
   "execution_count": 9,
   "id": "fca09697",
   "metadata": {},
   "outputs": [
    {
     "name": "stdout",
     "output_type": "stream",
     "text": [
      "\n",
      "Question 7: Check if 'python' is in 'Python Programming Language'\n"
     ]
    },
    {
     "data": {
      "text/plain": [
       "True"
      ]
     },
     "execution_count": 9,
     "metadata": {},
     "output_type": "execute_result"
    }
   ],
   "source": [
    "print(\"\\nQuestion 7: Check if 'python' is in 'Python Programming Language'\")\n",
    "# Your code here\n",
    "p='Python Programming Language'\n",
    "'Python' in p"
   ]
  },
  {
   "cell_type": "code",
   "execution_count": 11,
   "id": "708f3d93",
   "metadata": {},
   "outputs": [
    {
     "name": "stdout",
     "output_type": "stream",
     "text": [
      "\n",
      "Question 8: Extract the first 5 characters from 'Artificial Intelligence'\n"
     ]
    },
    {
     "data": {
      "text/plain": [
       "'Artif'"
      ]
     },
     "execution_count": 11,
     "metadata": {},
     "output_type": "execute_result"
    }
   ],
   "source": [
    "print(\"\\nQuestion 8: Extract the first 5 characters from 'Artificial Intelligence'\")\n",
    "# Your code here\n",
    "a='Artificial Intelligence'\n",
    "a[0:5]"
   ]
  },
  {
   "cell_type": "code",
   "execution_count": 12,
   "id": "0685f84c",
   "metadata": {},
   "outputs": [
    {
     "name": "stdout",
     "output_type": "stream",
     "text": [
      "\n",
      "Question 9: Convert 'UPPERCASE' to lowercase\n"
     ]
    },
    {
     "data": {
      "text/plain": [
       "'uppercase'"
      ]
     },
     "execution_count": 12,
     "metadata": {},
     "output_type": "execute_result"
    }
   ],
   "source": [
    "print(\"\\nQuestion 9: Convert 'UPPERCASE' to lowercase\")\n",
    "# Your code here\n",
    "a='UPPERCASE'\n",
    "a.lower()"
   ]
  },
  {
   "cell_type": "code",
   "execution_count": 3,
   "id": "cbe0c49c",
   "metadata": {},
   "outputs": [
    {
     "name": "stdout",
     "output_type": "stream",
     "text": [
      "\n",
      "Question 10: Remove all vowels from 'Computer Science'\n",
      "Cmptr Scnc\n"
     ]
    }
   ],
   "source": [
    "print(\"\\nQuestion 10: Remove all vowels from 'Computer Science'\")\n",
    "# Your code here\n",
    "a='Computer Science'\n",
    "result=\"\"\n",
    "for i in a:\n",
    "  if i not in \"aeiouAEIOU\":\n",
    "    result+=i\n",
    "print(result)    \n"
   ]
  },
  {
   "cell_type": "code",
   "execution_count": 9,
   "id": "cc61da99",
   "metadata": {},
   "outputs": [
    {
     "name": "stdout",
     "output_type": "stream",
     "text": [
      "\n",
      "Question 11: Find the most frequent character in 'mississippi'\n",
      "s\n"
     ]
    }
   ],
   "source": [
    "print(\"\\nQuestion 11: Find the most frequent character in 'mississippi'\")\n",
    "# Your code here\n",
    "z='mississippi'\n",
    "d={}\n",
    "\n",
    "for i in z:\n",
    "  if i in d:\n",
    "    d[i]+=1\n",
    "  else:\n",
    "    d[i]=1\n",
    "m_f=max(d,)  \n",
    "print(m_f)  \n",
    "\n"
   ]
  },
  {
   "cell_type": "code",
   "execution_count": 2,
   "id": "bb999c79",
   "metadata": {},
   "outputs": [
    {
     "name": "stdout",
     "output_type": "stream",
     "text": [
      "\n",
      "Question 12: Check if two strings are anagrams: 'listen' and 'silent'\n",
      "yes\n"
     ]
    }
   ],
   "source": [
    "\n",
    "print(\"\\nQuestion 12: Check if two strings are anagrams: 'listen' and 'silent'\")\n",
    "# Your code here\n",
    "a='listen'\n",
    "b='silent'\n",
    "if sorted(a)==sorted(b):\n",
    "  print(\"yes\")\n",
    "else:\n",
    "  print(\"no\")"
   ]
  },
  {
   "cell_type": "code",
   "execution_count": 3,
   "id": "05750ab3",
   "metadata": {},
   "outputs": [
    {
     "name": "stdout",
     "output_type": "stream",
     "text": [
      "\n",
      "Question 13: Capitalize first letter of each word in 'python programming language'\n"
     ]
    },
    {
     "data": {
      "text/plain": [
       "'Python Programming Language'"
      ]
     },
     "execution_count": 3,
     "metadata": {},
     "output_type": "execute_result"
    }
   ],
   "source": [
    "print(\"\\nQuestion 13: Capitalize first letter of each word in 'python programming language'\")\n",
    "# Your code here\n",
    "a='python programming language'\n",
    "a.title()"
   ]
  },
  {
   "cell_type": "code",
   "execution_count": null,
   "id": "7691f923",
   "metadata": {},
   "outputs": [
    {
     "name": "stdout",
     "output_type": "stream",
     "text": [
      "\n",
      "Question 14: Count consonants in 'Hello World'\n",
      "8\n"
     ]
    }
   ],
   "source": [
    "print(\"\\nQuestion 14: Count consonants in 'Hello World'\")\n",
    "# Your code here\n",
    "a='Hello World'\n",
    "count=0\n",
    "for i in a:\n",
    "  if i not in \"AEIOUaeiou\":\n",
    "    count+=1\n",
    "print(count)  "
   ]
  },
  {
   "cell_type": "code",
   "execution_count": 9,
   "id": "24e70fed",
   "metadata": {},
   "outputs": [
    {
     "name": "stdout",
     "output_type": "stream",
     "text": [
      "\n",
      "Question 15: Find the longest word in 'Python is a programming language'\n",
      "The longest word is: programming\n"
     ]
    }
   ],
   "source": [
    "print(\"\\nQuestion 15: Find the longest word in 'Python is a programming language'\")\n",
    "# Your code here\n",
    "text = \"Python is a great programming language\"\n",
    "words = text.split()\n",
    "longest = max(words, key=len)\n",
    "print(\"The longest word is:\", longest)\n"
   ]
  },
  {
   "cell_type": "code",
   "execution_count": 1,
   "id": "6c9931f3",
   "metadata": {},
   "outputs": [
    {
     "name": "stdout",
     "output_type": "stream",
     "text": [
      "\n",
      "Question 16: Remove all punctuation from 'Hello, World! How are you?'\n",
      "Hello World How are you\n"
     ]
    }
   ],
   "source": [
    "print(\"\\nQuestion 16: Remove all punctuation from 'Hello, World! How are you?'\")\n",
    "# Your code here\n",
    "import string\n",
    "text = \"Hello, World! How are you?\"\n",
    "clean_text = \"\"\n",
    "for char in text:\n",
    "    if char not in string.punctuation:\n",
    "        clean_text += char\n",
    "\n",
    "print(clean_text)\n"
   ]
  },
  {
   "cell_type": "code",
   "execution_count": 2,
   "id": "e3141678",
   "metadata": {},
   "outputs": [
    {
     "name": "stdout",
     "output_type": "stream",
     "text": [
      "\n",
      "Question 17: Check if string starts with 'Python'\n",
      "Yes, the string starts with 'Python'\n"
     ]
    }
   ],
   "source": [
    "print(\"\\nQuestion 17: Check if string starts with 'Python'\")\n",
    "# Your code here\n",
    "text = \"Python is a powerful language\"\n",
    "if text.startswith(\"Python\"):\n",
    "    print(\"Yes, the string starts with 'Python'\")\n",
    "else:\n",
    "    print(\"No, the string does not start with 'Python'\")\n"
   ]
  },
  {
   "cell_type": "code",
   "execution_count": 4,
   "id": "82290445",
   "metadata": {},
   "outputs": [
    {
     "name": "stdout",
     "output_type": "stream",
     "text": [
      "\n",
      "Question 18: Find the index of first occurrence of 'o' in 'Hello World'\n"
     ]
    },
    {
     "data": {
      "text/plain": [
       "4"
      ]
     },
     "execution_count": 4,
     "metadata": {},
     "output_type": "execute_result"
    }
   ],
   "source": [
    "print(\"\\nQuestion 18: Find the index of first occurrence of 'o' in 'Hello World'\")\n",
    "# Your code here\n",
    "a='Hello World'\n",
    "a.index(\"o\")"
   ]
  },
  {
   "cell_type": "code",
   "execution_count": 5,
   "id": "c5f40975",
   "metadata": {},
   "outputs": [
    {
     "name": "stdout",
     "output_type": "stream",
     "text": [
      "\n",
      "Question 19: Split string 'apple,banana,orange' by comma\n"
     ]
    },
    {
     "data": {
      "text/plain": [
       "['apple', 'banana', 'orange']"
      ]
     },
     "execution_count": 5,
     "metadata": {},
     "output_type": "execute_result"
    }
   ],
   "source": [
    "print(\"\\nQuestion 19: Split string 'apple,banana,orange' by comma\")\n",
    "# Your code here\n",
    "a='apple,banana,orange'\n",
    "a.split(\",\")"
   ]
  },
  {
   "cell_type": "code",
   "execution_count": 9,
   "id": "85fbda0e",
   "metadata": {},
   "outputs": [
    {
     "name": "stdout",
     "output_type": "stream",
     "text": [
      "\n",
      "Question 20: Join list ['Python', 'is', 'awesome'] with spaces\n"
     ]
    },
    {
     "data": {
      "text/plain": [
       "'Python is awesome'"
      ]
     },
     "execution_count": 9,
     "metadata": {},
     "output_type": "execute_result"
    }
   ],
   "source": [
    "print(\"\\nQuestion 20: Join list ['Python', 'is', 'awesome'] with spaces\")\n",
    "# Your code here\n",
    "a=['Python', 'is', 'awesome']\n",
    "s=' '.join(a)\n",
    "s"
   ]
  },
  {
   "cell_type": "code",
   "execution_count": 10,
   "id": "4c745319",
   "metadata": {},
   "outputs": [
    {
     "name": "stdout",
     "output_type": "stream",
     "text": [
      "\n",
      "Question 21: Check if string contains only digits: '12345'\n"
     ]
    },
    {
     "data": {
      "text/plain": [
       "True"
      ]
     },
     "execution_count": 10,
     "metadata": {},
     "output_type": "execute_result"
    }
   ],
   "source": [
    "print(\"\\nQuestion 21: Check if string contains only digits: '12345'\")\n",
    "# Your code here\n",
    "a='12345'\n",
    "a.isdigit()\n"
   ]
  },
  {
   "cell_type": "code",
   "execution_count": 11,
   "id": "b04ef8d4",
   "metadata": {},
   "outputs": [
    {
     "name": "stdout",
     "output_type": "stream",
     "text": [
      "\n",
      "Question 22: Check if string contains only letters: 'HelloWorld'\n"
     ]
    },
    {
     "data": {
      "text/plain": [
       "True"
      ]
     },
     "execution_count": 11,
     "metadata": {},
     "output_type": "execute_result"
    }
   ],
   "source": [
    "print(\"\\nQuestion 22: Check if string contains only letters: 'HelloWorld'\")\n",
    "# Your code here\n",
    "a='HelloWorld'\n",
    "a.isalpha()"
   ]
  },
  {
   "cell_type": "code",
   "execution_count": 4,
   "id": "5029543d",
   "metadata": {},
   "outputs": [
    {
     "name": "stdout",
     "output_type": "stream",
     "text": [
      "\n",
      "Question 23: Convert 'hello world' to 'hElLo WoRlD' (alternating case)\n",
      "Result: hElLo wOrLd\n"
     ]
    }
   ],
   "source": [
    "print(\"\\nQuestion 23: Convert 'hello world' to 'hElLo WoRlD' (alternating case)\")\n",
    "# Your code here\n",
    "text = \"hello world\"\n",
    "result = \"\"\n",
    "for i in range(len(text)):\n",
    "    if i % 2 == 0:\n",
    "        result += text[i].lower()\n",
    "    else:\n",
    "        result += text[i].upper()\n",
    "print(\"Result:\", result)\n",
    "\n"
   ]
  },
  {
   "cell_type": "code",
   "execution_count": 2,
   "id": "96fdf254",
   "metadata": {},
   "outputs": [
    {
     "name": "stdout",
     "output_type": "stream",
     "text": [
      "\n",
      "Question 24: Find all positions of 'a' in 'banana'\n",
      "Positions of 'a': [1, 3, 5]\n"
     ]
    }
   ],
   "source": [
    "print(\"\\nQuestion 24: Find all positions of 'a' in 'banana'\")\n",
    "# Your code here\n",
    "text = \"banana\"\n",
    "positions = []\n",
    "for index in range(len(text)):\n",
    "    if text[index] == 'a':\n",
    "        positions.append(index)\n",
    "print(\"Positions of 'a':\", positions)\n",
    "\n",
    "\n"
   ]
  },
  {
   "cell_type": "code",
   "execution_count": 7,
   "id": "1fed3910",
   "metadata": {},
   "outputs": [
    {
     "name": "stdout",
     "output_type": "stream",
     "text": [
      "\n",
      "Question 25: Remove leading and trailing whitespace from '  Hello World  '\n"
     ]
    },
    {
     "data": {
      "text/plain": [
       "'Hello World'"
      ]
     },
     "execution_count": 7,
     "metadata": {},
     "output_type": "execute_result"
    }
   ],
   "source": [
    "print(\"\\nQuestion 25: Remove leading and trailing whitespace from '  Hello World  '\")\n",
    "# Your code here\n",
    "a='  Hello World  '\n",
    "a.strip()"
   ]
  },
  {
   "cell_type": "code",
   "execution_count": 8,
   "id": "88ee79d4",
   "metadata": {},
   "outputs": [
    {
     "name": "stdout",
     "output_type": "stream",
     "text": [
      "\n",
      "Question 26: Check if string ends with 'ing': 'programming'\n"
     ]
    },
    {
     "data": {
      "text/plain": [
       "True"
      ]
     },
     "execution_count": 8,
     "metadata": {},
     "output_type": "execute_result"
    }
   ],
   "source": [
    "print(\"\\nQuestion 26: Check if string ends with 'ing': 'programming'\")\n",
    "# Your code here\n",
    "a='programming'\n",
    "a.endswith('ing')"
   ]
  },
  {
   "cell_type": "code",
   "execution_count": 14,
   "id": "1224de6a",
   "metadata": {},
   "outputs": [
    {
     "name": "stdout",
     "output_type": "stream",
     "text": [
      "\n",
      "Question 27: Replace first occurrence of 'o' with '0' in 'Hello World'\n"
     ]
    },
    {
     "data": {
      "text/plain": [
       "'Hell0 World'"
      ]
     },
     "execution_count": 14,
     "metadata": {},
     "output_type": "execute_result"
    }
   ],
   "source": [
    "print(\"\\nQuestion 27: Replace first occurrence of 'o' with '0' in 'Hello World'\")\n",
    "# Your code here\n",
    "a='Hello World'\n",
    "a.replace(\"o\",\"0\",1) \n",
    "  "
   ]
  },
  {
   "cell_type": "code",
   "execution_count": 21,
   "id": "7ee74057",
   "metadata": {},
   "outputs": [
    {
     "name": "stdout",
     "output_type": "stream",
     "text": [
      "\n",
      "Question 28: Find the shortest word in 'Python is a programming language'\n",
      "a\n"
     ]
    }
   ],
   "source": [
    "print(\"\\nQuestion 28: Find the shortest word in 'Python is a programming language'\")\n",
    "# Your code here\n",
    "a='Python is a programming language'\n",
    "r=a.split()\n",
    "s=min(r,key=len)\n",
    "print(s)"
   ]
  },
  {
   "cell_type": "code",
   "execution_count": null,
   "id": "de097f7e",
   "metadata": {},
   "outputs": [
    {
     "name": "stdout",
     "output_type": "stream",
     "text": [
      "\n",
      "Question 29: Count words that start with 'p' in 'Python programming is powerful'\n",
      "3\n"
     ]
    }
   ],
   "source": [
    "print(\"\\nQuestion 29: Count words that start with 'p' in 'Python programming is powerful'\")\n",
    "# Your code here\n",
    "a='Python programming is powerful'\n",
    "s=a.split()\n",
    "count=0\n",
    "for i in s:\n",
    "  if i.lower().startswith(\"p\"):\n",
    "    count+=1\n",
    "print(count)    "
   ]
  },
  {
   "cell_type": "code",
   "execution_count": null,
   "id": "84a423b7",
   "metadata": {},
   "outputs": [
    {
     "name": "stdout",
     "output_type": "stream",
     "text": [
      "\n",
      "Question 30: Reverse words in 'Hello World Python'\n",
      "Python World Hello\n"
     ]
    }
   ],
   "source": [
    "print(\"\\nQuestion 30: Reverse words in 'Hello World Python'\")\n",
    "# Your code here\n",
    "a='Hello World Python'\n",
    "s=a.split()\n",
    "x=s[::-1]\n",
    "d=\" \".join(x)\n",
    "print(d)"
   ]
  },
  {
   "cell_type": "code",
   "execution_count": null,
   "id": "10c2087c",
   "metadata": {},
   "outputs": [
    {
     "name": "stdout",
     "output_type": "stream",
     "text": [
      "\n",
      "Question 31: Check if string is a valid email format: 'user@example.com'\n",
      "Valid email format\n"
     ]
    }
   ],
   "source": [
    "print(\"\\nQuestion 31: Check if string is a valid email format: 'user@example.com'\")\n",
    "# Your code here\n",
    "import re\n",
    "email = \"ekanth@2025\"\n",
    "pattern = r'ekanth@2025'\n",
    "if re.match(pattern, email):\n",
    "    print(\"Valid email format\")\n",
    "else:\n",
    "    print(\"Invalid email format\")\n",
    "\n"
   ]
  },
  {
   "cell_type": "code",
   "execution_count": 5,
   "id": "53ead4e5",
   "metadata": {},
   "outputs": [
    {
     "name": "stdout",
     "output_type": "stream",
     "text": [
      "\n",
      "Question 32: Extract domain from 'https://www.example.com/path'\n",
      "Domain: www.example.com\n"
     ]
    }
   ],
   "source": [
    "print(\"\\nQuestion 32: Extract domain from 'https://www.example.com/path'\")\n",
    "# Your code here\n",
    "url = 'https://www.example.com/path'\n",
    "if url.startswith(\"http://\"):\n",
    "    url = url[len(\"http://\"):]\n",
    "elif url.startswith(\"https://\"):\n",
    "    url = url[len(\"https://\"):]\n",
    "domain = url.split('/')[0]\n",
    "print(\"Domain:\", domain)\n",
    "\n"
   ]
  },
  {
   "cell_type": "code",
   "execution_count": null,
   "id": "1d1d0acd",
   "metadata": {},
   "outputs": [
    {
     "name": "stdout",
     "output_type": "stream",
     "text": [
      "\n",
      "Question 33: Count lines in multi-line string\n",
      "Number of lines: 4\n"
     ]
    }
   ],
   "source": [
    "print(\"\\nQuestion 33: Count lines in multi-line string\")\n",
    "# Your code here\n",
    "text = \"\"\"Python is powerful.\n",
    "It is used in web development,\n",
    "data science,\n",
    "automation, and more.\"\"\"\n",
    "lines = text.splitlines()\n",
    "count = len(lines)\n",
    "print(\"Number of lines:\", count)\n"
   ]
  },
  {
   "cell_type": "code",
   "execution_count": null,
   "id": "e8dbd16e",
   "metadata": {},
   "outputs": [],
   "source": [
    "print(\"\\nQuestion 34: Find common characters between 'hello' and 'world'\")\n",
    "# Your code here\n",
    "str1 = \"hello\"\n",
    "str2 = \"world\"\n",
    "common = set(str1) & set(str2)\n",
    "print(\"Common characters:\", ''.join(common))\n"
   ]
  },
  {
   "cell_type": "code",
   "execution_count": null,
   "id": "d7d4de62",
   "metadata": {},
   "outputs": [
    {
     "name": "stdout",
     "output_type": "stream",
     "text": [
      "\n",
      "Question 35: Check if string is a valid phone number: '+1-555-123-4567'\n",
      "Valid phone number\n"
     ]
    }
   ],
   "source": [
    "print(\"\\nQuestion 35: Check if string is a valid phone number: '+1-555-123-4567'\")\n",
    "# Your code \n",
    "import re\n",
    "phone = '+1-555-123-4567'\n",
    "pattern = r'^\\+\\d{1,3}-\\d{3}-\\d{3}-\\d{4}$'\n",
    "if re.match(pattern, phone):\n",
    "    print(\"Valid phone number\")\n",
    "else:\n",
    "    print(\"Invalid phone number\")\n"
   ]
  },
  {
   "cell_type": "code",
   "execution_count": 2,
   "id": "c003b4a9",
   "metadata": {},
   "outputs": [
    {
     "name": "stdout",
     "output_type": "stream",
     "text": [
      "\n",
      "Question 36: Extract numbers from 'abc123def456ghi789'\n",
      "Extracted numbers: ['123', '456', '789']\n"
     ]
    }
   ],
   "source": [
    "print(\"\\nQuestion 36: Extract numbers from 'abc123def456ghi789'\")\n",
    "# Your code here\n",
    "text = 'abc123def456ghi789'\n",
    "numbers = []\n",
    "current = ''\n",
    "\n",
    "for char in text:\n",
    "    if char.isdigit():\n",
    "        current += char \n",
    "    else:\n",
    "        if current:\n",
    "            numbers.append(current)\n",
    "            current = ''  \n",
    "if current:\n",
    "    numbers.append(current)\n",
    "\n",
    "print(\"Extracted numbers:\", numbers)\n",
    "\n"
   ]
  },
  {
   "cell_type": "code",
   "execution_count": null,
   "id": "bff34971",
   "metadata": {},
   "outputs": [],
   "source": [
    "print(\"\\nQuestion 37: Convert 'snake_case' to 'camelCase'\")\n",
    "# Your code here\n"
   ]
  },
  {
   "cell_type": "code",
   "execution_count": null,
   "id": "5251461c",
   "metadata": {},
   "outputs": [],
   "source": [
    "print(\"\\nQuestion 38: Check if string is a valid palindrome ignoring case: 'A man a plan a canal Panama'\")\n",
    "# Your code here"
   ]
  },
  {
   "cell_type": "code",
   "execution_count": null,
   "id": "9ec0c9a0",
   "metadata": {},
   "outputs": [],
   "source": [
    "print(\"\\nQuestion 39: Find the most common word in 'the quick brown fox jumps over the lazy dog'\")\n",
    "# Your code here"
   ]
  },
  {
   "cell_type": "code",
   "execution_count": null,
   "id": "f4e0a1b0",
   "metadata": {},
   "outputs": [
    {
     "name": "stdout",
     "output_type": "stream",
     "text": [
      "\n",
      "Question 40: Generate acronym from 'National Aeronautics and Space Administration'\n",
      "Acronym: NASA\n"
     ]
    }
   ],
   "source": [
    "print(\"\\nQuestion 40: Generate acronym from 'National Aeronautics and Space Administration'\")\n",
    "# Your code here\n",
    "phrase = \"National Aeronautics and Space Administration\"\n",
    "words = phrase.split()\n",
    "stop_words = ['and', 'of', 'the']\n",
    "acronym = \"\"\n",
    "for word in words:\n",
    "    if word.lower() not in stop_words:\n",
    "        acronym += word[0].upper()\n",
    "\n",
    "print(\"Acronym:\", acronym)\n"
   ]
  },
  {
   "cell_type": "code",
   "execution_count": 5,
   "id": "4304ab05",
   "metadata": {},
   "outputs": [
    {
     "name": "stdout",
     "output_type": "stream",
     "text": [
      "\n",
      "Question 41: Check if string contains balanced parentheses: '((()))'\n",
      "Parentheses are balanced\n"
     ]
    }
   ],
   "source": [
    "print(\"\\nQuestion 41: Check if string contains balanced parentheses: '((()))'\")\n",
    "# Your code here\n",
    "s = '((()))'\n",
    "balance = 0\n",
    "is_balanced = True\n",
    "for char in s:\n",
    "    if char == '(':\n",
    "        balance += 1\n",
    "    elif char == ')':\n",
    "        balance -= 1\n",
    "        if balance < 0:\n",
    "            is_balanced = False\n",
    "            break\n",
    "if balance != 0:\n",
    "    is_balanced = False\n",
    "if is_balanced:\n",
    "    print(\"Parentheses are balanced\")\n",
    "else:\n",
    "    print(\"Parentheses are not balanced\")\n",
    "\n"
   ]
  },
  {
   "cell_type": "code",
   "execution_count": 6,
   "id": "f207773f",
   "metadata": {},
   "outputs": [
    {
     "name": "stdout",
     "output_type": "stream",
     "text": [
      "\n",
      "Question 42: Convert 'hello world' to Morse code\n",
      ".... . .-.. .-.. --- / .-- --- .-. .-.. -..\n"
     ]
    }
   ],
   "source": [
    "print(\"\\nQuestion 42: Convert 'hello world' to Morse code\")\n",
    "# Your code here\n",
    "morse_code_dict = {\n",
    "    'a': '.-', 'b': '-...', 'c': '-.-.', 'd': '-..', 'e': '.', 'f': '..-.',\n",
    "    'g': '--.', 'h': '....', 'i': '..', 'j': '.---', 'k': '-.-', 'l': '.-..',\n",
    "    'm': '--', 'n': '-.', 'o': '---', 'p': '.--.', 'q': '--.-', 'r': '.-.',\n",
    "    's': '...', 't': '-', 'u': '..-', 'v': '...-', 'w': '.--', 'x': '-..-',\n",
    "    'y': '-.--', 'z': '--..', ' ': '/'\n",
    "}\n",
    "text = \"hello world\"\n",
    "morse = ' '.join(morse_code_dict[char] for char in text.lower())\n",
    "print(morse)\n"
   ]
  },
  {
   "cell_type": "code",
   "execution_count": null,
   "id": "8c24966f",
   "metadata": {},
   "outputs": [
    {
     "name": "stdout",
     "output_type": "stream",
     "text": [
      "\n",
      "Question 43: Find the longest common substring between 'programming' and 'grammar'\n",
      "Longest common substring: 'gramm'\n"
     ]
    }
   ],
   "source": [
    "print(\"\\nQuestion 43: Find the longest common substring between 'programming' and 'grammar'\")\n",
    "# Your code here\n",
    "s1 = \"programming\"\n",
    "s2 = \"grammar\"\n",
    "longest = \"\"\n",
    "for i in range(len(s1)):\n",
    "    for j in range(len(s2)):\n",
    "        temp = \"\"\n",
    "        k = 0\n",
    "        while (i + k < len(s1)) and (j + k < len(s2)) and s1[i + k] == s2[j + k]:\n",
    "            temp += s1[i + k]\n",
    "            k += 1\n",
    "        if len(temp) > len(longest):\n",
    "            longest = temp\n",
    "print(f\"Longest common substring: '{longest}'\")\n",
    "\n"
   ]
  },
  {
   "cell_type": "code",
   "execution_count": 4,
   "id": "0b0b66a5",
   "metadata": {},
   "outputs": [
    {
     "name": "stdout",
     "output_type": "stream",
     "text": [
      "\n",
      "Question 44: Check if string is a valid URL: 'https://www.google.com'\n",
      "Valid URL\n"
     ]
    }
   ],
   "source": [
    "print(\"\\nQuestion 44: Check if string is a valid URL: 'https://www.google.com'\")\n",
    "# Your code here\n",
    "import re\n",
    "url = 'https://www.google.com'\n",
    "pattern = r'^https?://[a-zA-Z0-9.-]+\\.[a-zA-Z]{2,}$'\n",
    "if re.match(pattern, url):\n",
    "    print(\"Valid URL\")\n",
    "else:\n",
    "    print(\"Invalid URL\")\n",
    "\n"
   ]
  },
  {
   "cell_type": "code",
   "execution_count": 3,
   "id": "21af8470",
   "metadata": {},
   "outputs": [
    {
     "name": "stdout",
     "output_type": "stream",
     "text": [
      "\n",
      "Question 45: Extract all words with length > 5 from 'Python programming is amazing and powerful'\n",
      "Words with length > 5: ['Python', 'programming', 'amazing', 'powerful']\n"
     ]
    }
   ],
   "source": [
    "print(\"\\nQuestion 45: Extract all words with length > 5 from 'Python programming is amazing and powerful'\")\n",
    "# Your code here\n",
    "text = 'Python programming is amazing and powerful'\n",
    "words = text.split()\n",
    "long_words = []\n",
    "for word in words:\n",
    "    if len(word) > 5:\n",
    "        long_words.append(word)\n",
    "print(\"Words with length > 5:\", long_words)\n",
    "\n"
   ]
  },
  {
   "cell_type": "code",
   "execution_count": 6,
   "id": "cc330d23",
   "metadata": {},
   "outputs": [
    {
     "name": "stdout",
     "output_type": "stream",
     "text": [
      "\n",
      "Question 46: Convert 'hello world' to Pig Latin\n",
      "Pig Latin: ellohay orldway\n"
     ]
    }
   ],
   "source": [
    "print(\"\\nQuestion 46: Convert 'hello world' to Pig Latin\")\n",
    "# Your code here\n",
    "sentence = \"hello world\"\n",
    "vowels = \"aeiou\"\n",
    "words = sentence.split()\n",
    "pig_latin_words = []\n",
    "\n",
    "for word in words:\n",
    "    if word[0].lower() in vowels:\n",
    "        pig_word = word + \"way\"\n",
    "    else:\n",
    "        pig_word = word[1:] + word[0] + \"ay\"\n",
    "    pig_latin_words.append(pig_word)\n",
    "\n",
    "pig_latin_sentence = \" \".join(pig_latin_words)\n",
    "print(\"Pig Latin:\", pig_latin_sentence)\n"
   ]
  },
  {
   "cell_type": "code",
   "execution_count": null,
   "id": "aa973530",
   "metadata": {},
   "outputs": [
    {
     "name": "stdout",
     "output_type": "stream",
     "text": [
      "\n",
      "Question 47: Check if string is a valid IPv4 address: '192.168.1.1'\n",
      "Valid IPv4 address\n"
     ]
    }
   ],
   "source": [
    "print(\"\\nQuestion 47: Check if string is a valid IPv4 address: '192.168.1.1'\")\n",
    "# Your code here\n",
    "import ipaddress\n",
    "ip = \"192.168.1.1\"\n",
    "try:\n",
    "    ipaddress.IPv4Address(ip)\n",
    "    print(\"Valid IPv4 address\")\n",
    "except ipaddress.AddressValueError:\n",
    "    print(\"Invalid IP address\")\n"
   ]
  },
  {
   "cell_type": "code",
   "execution_count": 1,
   "id": "0d4d665d",
   "metadata": {},
   "outputs": [
    {
     "name": "stdout",
     "output_type": "stream",
     "text": [
      "\n",
      "Question 48: Find all substrings of 'abc'\n",
      "['a', 'ab', 'abc', 'b', 'bc', 'c']\n"
     ]
    }
   ],
   "source": [
    "print(\"\\nQuestion 48: Find all substrings of 'abc'\")\n",
    "# Your code here\n",
    "text = \"abc\"\n",
    "s=[]\n",
    "for i in range(len(text)):          \n",
    "    for j in range(i + 1, len(text) + 1):  \n",
    "        s.append(text[i:j]) \n",
    "print(s)                   \n"
   ]
  },
  {
   "cell_type": "code",
   "execution_count": null,
   "id": "3a54f6bb",
   "metadata": {},
   "outputs": [],
   "source": [
    "print(\"\\nQuestion 49: Convert 'hello world' to ROT13 encoding\")\n",
    "# Your code here\n",
    "text = \"hello world\"\n",
    "result = \"\"\n",
    "for ch in text:\n",
    "    if 'a' <= ch <= 'z':  \n",
    "        shifted = (ord(ch) - ord('a') + 13) % 26 + ord('a')\n",
    "        result += chr(shifted)\n",
    "    elif 'A' <= ch <= 'Z':  \n",
    "        shifted = (ord(ch) - ord('A') + 13) % 26 + ord('A')\n",
    "        result += chr(shifted)\n",
    "    else:\n",
    "        result += ch  \n",
    "print(result)\n"
   ]
  },
  {
   "cell_type": "code",
   "execution_count": null,
   "id": "a3609091",
   "metadata": {},
   "outputs": [
    {
     "name": "stdout",
     "output_type": "stream",
     "text": [
      "\n",
      "Question 50: Check if string is a valid credit card number: '4532015112830366'\n",
      "Valid credit card number\n"
     ]
    }
   ],
   "source": [
    "print(\"\\nQuestion 50: Check if string is a valid credit card number: '4532015112830366'\")\n",
    "# Your code here\n",
    "card = '4532015112830366'\n",
    "total = 0\n",
    "reverse = card[::-1]  \n",
    "for i in range(len(reverse)):\n",
    "    digit = int(reverse[i]) \n",
    "    if i % 2 == 1:       \n",
    "        digit = digit * 2\n",
    "        if digit > 9:\n",
    "            digit = digit - 9\n",
    "\n",
    "    total = total + digit \n",
    "if total % 10 == 0:\n",
    "    print(\"Valid credit card number\")\n",
    "else:\n",
    "    print(\"Invalid credit card number\")\n"
   ]
  }
 ],
 "metadata": {
  "kernelspec": {
   "display_name": "Python 3",
   "language": "python",
   "name": "python3"
  },
  "language_info": {
   "codemirror_mode": {
    "name": "ipython",
    "version": 3
   },
   "file_extension": ".py",
   "mimetype": "text/x-python",
   "name": "python",
   "nbconvert_exporter": "python",
   "pygments_lexer": "ipython3",
   "version": "3.12.0"
  }
 },
 "nbformat": 4,
 "nbformat_minor": 5
}
